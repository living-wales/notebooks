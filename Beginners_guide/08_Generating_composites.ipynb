{
 "cells": [
  {
   "cell_type": "markdown",
   "id": "ce066734",
   "metadata": {},
   "source": [
    "# Generating composite images <img align=\"right\" src=\"../img/LivingWales_logo.png\" width=\"190\" height=\"200\">\n",
    "\n",
    "* **Compatibility:** Notebook currently compatible with the `WDC` environment\n",
    "* **Products used:** `sen2_l2a_gcp`"
   ]
  },
  {
   "cell_type": "markdown",
   "id": "fc50e2c5",
   "metadata": {},
   "source": [
    "## Background\n",
    "\n",
    "Individual remote sensing images can be affected by noisy data, including clouds, cloud shadows, and haze. \n",
    "To produce cleaner images that can be compared more easily across time, we can create 'summary' images or 'composites' that combine multiple images into one.\n",
    "\n",
    "Some methods for generating composites include estimating the `median`, `mean`, `minimum`, or `maximum` pixel values in an image."
   ]
  },
  {
   "cell_type": "markdown",
   "id": "302530f0",
   "metadata": {},
   "source": [
    "## Description\n",
    "This notebook demonstrates how to generate a number of different composites from satellite images, and how to export them for further analysis in a GIS program on your computer.\n",
    "\n",
    "1. Median composites\n",
    "    * Generating single median composite\n",
    "    * Generating multiple median composites based on length of time\n",
    "    * Generating multiple median composites using `groupby`\n",
    "2. Maximum index composites\n",
    "3. Export result to GeoTiff\n",
    "4. Download the file on your computer\n",
    "\n",
    "***"
   ]
  },
  {
   "cell_type": "markdown",
   "id": "e192b49e",
   "metadata": {},
   "source": [
    "## Getting started\n",
    "\n",
    "To run this analysis, run all the cells in the notebook, starting with the \"Load packages\" cell. "
   ]
  },
  {
   "cell_type": "code",
   "execution_count": null,
   "id": "32b6bb49",
   "metadata": {},
   "outputs": [],
   "source": [
    "import sys\n",
    "sys.path.append(\"../wales_utils/data_cube_utilities\")\n",
    "\n",
    "import datacube\n",
    "from time import time as time\n",
    "\n",
    "from display_tools import rgb\n",
    "from wdc_datahandling import cleaning_s2, cloud_coverage, export_to_GeoTiff\n",
    "from wdc_bandindices import calculate_indices"
   ]
  },
  {
   "cell_type": "markdown",
   "id": "f927bc86",
   "metadata": {},
   "source": [
    "### Connect to the datacube\n",
    "The next step is to connect to the datacube database.\n",
    "The resulting `dc` datacube object can then be used to load data.\n",
    "The `app` parameter is a unique name used to identify the notebook that does not have any effect on the analysis."
   ]
  },
  {
   "cell_type": "code",
   "execution_count": null,
   "id": "bd0af37e",
   "metadata": {},
   "outputs": [],
   "source": [
    "dc = datacube.Datacube(app='Generating_composites')"
   ]
  },
  {
   "cell_type": "markdown",
   "id": "1f925061",
   "metadata": {},
   "source": [
    "## Create a query and load satellite data\n",
    "To demonstrate how to compute image composites, we first need to load in a time series of satellite data for an area. \n",
    "We will use data from the Sentinel-2 satellite:"
   ]
  },
  {
   "cell_type": "code",
   "execution_count": null,
   "id": "9c6f3296",
   "metadata": {},
   "outputs": [],
   "source": [
    "# Create a reusable query with coordinates indicated in EPSG:27700 CRS.\n",
    "query = {\n",
    "    'crs': 'EPSG:27700',\n",
    "    'x': (195670, 199780),\n",
    "    'y': (193630, 196810),\n",
    "    'time': ('2020-05', '2020-10'),\n",
    "    'measurements': ['blue', 'green', 'red','nir', 'scl'],\n",
    "    'output_crs': 'EPSG:27700',\n",
    "    'resolution': (-10, 10)}\n",
    "\n",
    "start_load= time()\n",
    "\n",
    "# Load available data from Sentinel-2 using the query dictionnary\n",
    "dataset = dc.load(product='sen2_l2a_gcp',\n",
    "                  **query)\n",
    "\n",
    "end_load= time()\n",
    "\n",
    "print(\"Datacube ready\")\n",
    "print(\"Took only \" + str(round(end_load-start_load,2)) + \" seconds to load \" + str(len(dataset.time\n",
    "    )*len(dataset.keys())) +\" images from WDC for the specified extent/period.\")"
   ]
  },
  {
   "cell_type": "markdown",
   "id": "b9afce72",
   "metadata": {},
   "source": [
    "## Clean Sentinel-2 data\n",
    "\n",
    "Within `WDC`, Sentinel-2 data are provided with same format as on the EODataDown platform (i.e., with `scl` cloud mask in a separate layer and a scaling factor of 10,000). \n",
    "\n",
    "In the next cell, we clean the Sentinel-2 data (i.e., cloud masking and reflectance normalisation) using one of the custom `WDC` libraries developed by Living Wales (`cleaning_s2()`), see the [Sentinel2 data](06_Using_Sentinel2_data.ipynb) notebook for more explanations. "
   ]
  },
  {
   "cell_type": "code",
   "execution_count": null,
   "id": "921b694d",
   "metadata": {},
   "outputs": [],
   "source": [
    "# Let's clean the Sentinel-2 dataset (i.e., cloud masking and reflectance normalisation)\n",
    "dataset_clean = cleaning_s2(dataset)"
   ]
  },
  {
   "cell_type": "markdown",
   "id": "20f8c6c1",
   "metadata": {},
   "source": [
    "## Plot timesteps in true colour\n",
    "\n",
    "To visualise the data, use the pre-loaded `rgb` utility function to plot a true colour image for all the timesteps. \n",
    "White areas indicate where clouds or other invalid pixels in the image have been masked."
   ]
  },
  {
   "cell_type": "code",
   "execution_count": null,
   "id": "7ab615e4",
   "metadata": {},
   "outputs": [],
   "source": [
    "# Generate RGB plots at each timestep\n",
    "rgb(dataset_clean, col=\"time\", col_wrap=10, robust=True)"
   ]
  },
  {
   "cell_type": "markdown",
   "id": "5703f331",
   "metadata": {},
   "source": [
    "## Median composites\n",
    "\n",
    "One of the key reasons for generating a composite is to replace pixels classified as clouds with realistic values from the available data. \n",
    "This results in an image that doesn't contain any clouds.\n",
    "\n",
    "In the Open Data Cube environment, calculating statistics (i.e., composites) can easily be done by applying the statistical method (e.g., `max`, `min`, `mean`, `median`, `sum`, etc.) directly to the `xarray.DataArray` or `xarray.Dataset`.\n",
    "\n",
    "In the case of a median composite, each pixel is selected to have the median (or middle) value out of all possible values.\n",
    "\n",
    "> **Note:** Mean composites involve taking the average value for each pixel, rather than the middle value as is done for a median composite. Unlike the median, the mean composite can contain pixel values that were not part of the original dataset.\n",
    "Care should be taken when interpreting these images, as extreme values (such as unmasked cloud) can strongly affect the mean.\n"
   ]
  },
  {
   "cell_type": "markdown",
   "id": "fcb5f9c8",
   "metadata": {},
   "source": [
    "### Generating a single median composite from all data\n",
    "\n",
    "To generate a single median composite, we use the `xarray.median` method, specifying `'time'` as the dimension to compute the median over."
   ]
  },
  {
   "cell_type": "code",
   "execution_count": null,
   "id": "b94c51a8",
   "metadata": {},
   "outputs": [],
   "source": [
    "# Compute a single median from all data\n",
    "dataset_median = dataset_clean.median('time')\n",
    "\n",
    "# View the resulting median\n",
    "rgb(dataset_median, robust=True)"
   ]
  },
  {
   "cell_type": "markdown",
   "id": "a7312a78",
   "metadata": {},
   "source": [
    "### Generating multiple median composites based on length of time\n",
    "Rather than using all the data to generate a single median composite, it's possible to use the `xarray.resample` method to group the data into smaller time-spans and generate medians for each of these.\n",
    "Some resampling options are:\n",
    "* `'nD'` - number of days (e.g. `'7D'` for seven days)\n",
    "* `'nM'` - number of months (e.g. `'2M'` for two months)\n",
    "* `'nY'` - number of years (e.g. `'1Y'` for 1 year)\n",
    "\n",
    "If the area is particularly cloudy during one of the time-spans, there may still be masked pixels that appear in the median.\n",
    "This will be true if that pixel is always masked."
   ]
  },
  {
   "cell_type": "code",
   "execution_count": null,
   "id": "3f047a9d",
   "metadata": {},
   "outputs": [],
   "source": [
    "# Generate a median by binning data into two-monthly time-spans\n",
    "dataset_resampled_median = dataset_clean.resample(time='2M').median('time')\n",
    "\n",
    "# View the resulting medians\n",
    "rgb(dataset_resampled_median, index=[0, 1, 2])"
   ]
  },
  {
   "cell_type": "markdown",
   "id": "8856e1da",
   "metadata": {},
   "source": [
    "### Group By\n",
    "Similar to resample, grouping works by looking at part of the date, but ignoring other parts. For instance, `'time.month'` would group together all January data together, no matter what year it is from.\n",
    "\n",
    "Some examples are:\n",
    " * `'time.day'` - groups by the day of the month (1-31)\n",
    " * `'time.dayofyear'` - groups by the day of the year (1-365)\n",
    " * `'time.week'` - groups by week (1-52) \n",
    " * `'time.month'` - groups by the month (1-12)\n",
    " * `'time.season'` - groups into 3-month seasons:\n",
    "     - `'DJF'` December, Jaunary, February\n",
    "     - `'MAM'` March, April, May\n",
    "     - `'JJA'` June, July, August\n",
    "     - `'SON'` September, October, November\n",
    " * `'time.year'` - groups by the year"
   ]
  },
  {
   "cell_type": "code",
   "execution_count": null,
   "id": "3f72306b",
   "metadata": {},
   "outputs": [],
   "source": [
    "# Generate a median by binning data into three-monthly time-spans\n",
    "ds_groupby_season = dataset_clean.groupby('time.season').median()\n",
    "\n",
    "# View the resulting medians\n",
    "rgb(ds_groupby_season, col='season')"
   ]
  },
  {
   "cell_type": "markdown",
   "id": "3fe4abc1",
   "metadata": {},
   "source": [
    "## Maximum index composite\n",
    "\n",
    "Maximum and minimum composites can be useful for identifying extreme behaviour in a collection of satellite images.\n",
    "\n",
    "For example, calculating the maximum composite for NDVI index can help identify areas that are vegetated during, at least, a part of the year.\n",
    "\n",
    "To demonstrate this, we start by calculating the normalised difference vegetation index (NDVI) for our data, which can then be used to generate the maximum composites.\n"
   ]
  },
  {
   "cell_type": "code",
   "execution_count": null,
   "id": "5b14c9a5",
   "metadata": {},
   "outputs": [],
   "source": [
    "# Start by calculating NDVI\n",
    "dataset_NDVI = calculate_indices(dataset_clean, index='NDVI', platform=\"SENTINEL_2\", quiet=True)\n",
    "dataset_NDVI"
   ]
  },
  {
   "cell_type": "markdown",
   "id": "7a1dfad8",
   "metadata": {},
   "source": [
    "\n",
    "To generate a single maximum composite, we use the `xarray.max` method, specifying `'time'` as the dimension to compute the maximum over."
   ]
  },
  {
   "cell_type": "code",
   "execution_count": null,
   "id": "6a15ca05",
   "metadata": {},
   "outputs": [],
   "source": [
    "# Compute the maximum composite\n",
    "ndvi_max = dataset_NDVI.NDVI.max('time')\n",
    "\n",
    "# View the resulting composite\n",
    "ndvi_max.plot(vmin=-1, vmax=1, cmap='RdYlGn');"
   ]
  },
  {
   "cell_type": "markdown",
   "id": "caffed3d",
   "metadata": {},
   "source": [
    "> Note: By default, the statistic method skips missing values. To consider missing data, add the following paramater: `skipna=False`. More information on the statistic methods and their arguments is available in the [xarray official documentation](https://docs.xarray.dev/en/stable/generated/xarray.Dataset.max.html)."
   ]
  },
  {
   "cell_type": "markdown",
   "id": "69d04c4a",
   "metadata": {},
   "source": [
    "## Export result to GeoTiff\n",
    "\n",
    "Sometimes, you will want to analyse satellite imagery in a GIS program, such as QGIS.\n",
    "The `export_to_GeoTiff()` command from the `WDC` library allows `xarray.DataArray` to be exported to GeoTiff, a commonly used file format for geospatial data.\n",
    "> **Note**: the saved file will appear in the same directory as this notebook, and it can be downloaded from here for later use."
   ]
  },
  {
   "cell_type": "code",
   "execution_count": null,
   "id": "78585ec9",
   "metadata": {},
   "outputs": [],
   "source": [
    "# Set a file \n",
    "filename = \"example.tiff\"\n",
    "\n",
    "export_to_GeoTiff(ndvi_max, filename=filename)"
   ]
  },
  {
   "cell_type": "markdown",
   "id": "316748f7",
   "metadata": {},
   "source": [
    "## Download the file on your computer\n",
    "\n",
    "To download the GeoTiff on your computer, go in the [directory browser](../Beginners_guide), select the `example.tiff` file, and click-right and select `Download`."
   ]
  },
  {
   "cell_type": "markdown",
   "id": "1e54933c-3746-45e0-972d-a1ed41955206",
   "metadata": {},
   "source": [
    "## Recommended next steps\n",
    "\n",
    "For more advanced information about working with Jupyter Notebooks or JupyterLab, see the [JupyterLab documentation](https://jupyterlab.readthedocs.io/en/stable/user/notebook.html).\n",
    "\n",
    "To continue working through the notebooks in this beginner's guide, the following notebooks are designed to be worked through in the following order:\n",
    "\n",
    "1. **[Introduction to jupyter Notebooks](01_Introduction_jupyter_notebooks.ipynb)**\n",
    "2. **[Wales Open Data Cube](02_Wales_Open_Data_Cube.ipynb)**\n",
    "3. **[Products and measurements](03_Products_and_measurements.ipynb)**\n",
    "4. **[Loading data in WDC](04_Loading_data.ipynb)**\n",
    "5. **[Plotting](05_Plotting.ipynb)**\n",
    "6. **[Using Sentinel-2 data](06_Using_Sentinel2_data.ipynb)**\n",
    "7. **[Calculating band indices](07_Calculating_band_indices.ipynb)**\n",
    "8. **Generating composites (this notebook)**\n",
    "9. **[Zonal_statistics](09_Zonal_statistics.ipynb)**\n",
    "\n",
    "\n",
    "Once you have worked through the beginner's guide, you can explore the \"Case Studies\" directory, which provides examples of applications within Wales Open Data Cube."
   ]
  },
  {
   "cell_type": "code",
   "execution_count": null,
   "id": "12ef821e-75f5-4bb4-9668-74629ed3ceab",
   "metadata": {},
   "outputs": [],
   "source": []
  }
 ],
 "metadata": {
  "kernelspec": {
   "display_name": "Python 3 (ipykernel)",
   "language": "python",
   "name": "python3"
  },
  "language_info": {
   "codemirror_mode": {
    "name": "ipython",
    "version": 3
   },
   "file_extension": ".py",
   "mimetype": "text/x-python",
   "name": "python",
   "nbconvert_exporter": "python",
   "pygments_lexer": "ipython3",
   "version": "3.10.6"
  }
 },
 "nbformat": 4,
 "nbformat_minor": 5
}
