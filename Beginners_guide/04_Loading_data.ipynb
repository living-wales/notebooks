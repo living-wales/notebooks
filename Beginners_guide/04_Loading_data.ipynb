{
 "cells": [
  {
   "cell_type": "markdown",
   "id": "1c436a9f",
   "metadata": {},
   "source": [
    "# Introduction to loading data <img align=\"right\" src=\"../img/LivingWales_logo.png\" width=\"190\" height=\"200\">\n",
    "\n",
    "* **Compatibility:** Notebook currently compatible with the `WDC` environment\n",
    "* **Products used:** `sen2_l2a_gcp`, `nfi_woodland_fr`, `nrw_saltmarshes_lle`\n",
    "* **Prerequisites:** Users of this notebook should have a basic understanding of:\n",
    "    * How to run a [Jupyter notebook](01_Introduction_jupyter_notebooks.ipynb)\n",
    "    * The basic structure of the WDC [satellite datasets]()\n",
    "    * Inspecting available [WDC products and measurements](03_Products_and_measurements.ipynb)\n",
    "    "
   ]
  },
  {
   "cell_type": "markdown",
   "id": "285b9f24",
   "metadata": {},
   "source": [
    "## Background\n",
    "Loading data from the Wales Open Data Cube (WDC) instance of the [Open Data Cube](https://www.opendatacube.org/) requires the construction of a data query that specifies the what, where, and when of the data request.\n",
    "Each query returns a [multi-dimensional xarray object](http://xarray.pydata.org/en/stable/) containing the contents of your query.\n",
    "It is essential to understand the `xarray` data structures as they are fundamental to the structure of data loaded from the datacube.\n",
    "Manipulations, transformations and visualisation of `xarray` objects provide datacube users with the ability to explore and analyse WDC datasets."
   ]
  },
  {
   "cell_type": "markdown",
   "id": "1bb34dde",
   "metadata": {},
   "source": [
    "## Description\n",
    "This notebook will introduce how to load data from the WDC datacube through the construction of a query and use of the `dc.load()` function.\n",
    "Topics covered include:\n",
    "\n",
    "1. Loading data using `dc.load()`\n",
    "    * Visualising the resulting `xarray.Dataset` object\n",
    "    * Interpreting the resulting `xarray.Dataset` object\n",
    "    * Inspecting an individual `xarray.DataArray`\n",
    "\n",
    "\n",
    "2. Customising parameters passed to the `dc.load()` function\n",
    "    * Loading specific measurements\n",
    "    * Loading data for coordinates in a custom coordinate reference system (CRS)\n",
    "\n",
    "\n",
    "3. Loading data using a reusable dictionary query\n",
    "4. Loading matching data from multiple products using `like`\n",
    "\n",
    "***"
   ]
  },
  {
   "cell_type": "markdown",
   "id": "aece19b2",
   "metadata": {},
   "source": [
    "## Getting started\n",
    "To run this notebook, run all the cells in the notebook starting with the \"Load packages\" cell. For help with running notebook cells, refer back to the [Jupyter Notebooks notebook](01_Introduction_jupyter_notebooks.ipynb)."
   ]
  },
  {
   "cell_type": "markdown",
   "id": "cff9a713",
   "metadata": {},
   "source": [
    "### Load packages\n",
    "The `datacube` package is required to query the datacube database and load some data. The `time` package is used to retrieve processing time. "
   ]
  },
  {
   "cell_type": "code",
   "execution_count": null,
   "id": "376ecf82",
   "metadata": {},
   "outputs": [],
   "source": [
    "import datacube\n",
    "from time import time as time"
   ]
  },
  {
   "cell_type": "markdown",
   "id": "d1008e03",
   "metadata": {},
   "source": [
    "### Connect to the datacube\n",
    "The next step is to connect to the datacube database.\n",
    "The resulting `dc` datacube object can then be used to load data.\n",
    "The `app` parameter is a unique name used to identify the notebook that does not have any effect on the analysis."
   ]
  },
  {
   "cell_type": "code",
   "execution_count": null,
   "id": "c50ba96d",
   "metadata": {},
   "outputs": [],
   "source": [
    "dc = datacube.Datacube(app=\"04_Loading_data\")"
   ]
  },
  {
   "cell_type": "markdown",
   "id": "e3a86bc1",
   "metadata": {},
   "source": [
    "## Loading data using `dc.load()`\n",
    "\n",
    "Loading data from the datacube uses the `dc.load()` function.\n",
    "\n",
    "The function requires the following minimum arguments:\n",
    "\n",
    "* `product`: The data product to load (to revise WDC products, see the [Products and measurements](03_Products_and_measurements.ipynb) notebook).\n",
    "* `x`: The spatial region in the *x* dimension. By default, the *x* and *y* arguments accept queries in a geographical coordinate system WGS84, identified by the EPSG code *4326*. The dimensions ``longitude``and ``x`` can be used interchangeably.\n",
    "* `y`: The spatial region in the *y* dimension. The dimensions ``latitude`` and ``y`` can be used interchangeably.\n",
    "* `time`: The temporal extent. The time dimension can be specified using a tuple of datetime objects or strings in the \"YYYY\", \"YYYY-MM\" or \"YYYY-MM-DD\" format. \n",
    "* `output_crs`: The output projection system in EPSG:code\n",
    "* `resolution`: The output spatial resolution with `output_crs` unit (e.g., in meters for EPSG:27700)\n",
    "\n",
    "For example, to load 2018 data from the Sentinel-2 L2A product for Aberystwyth with British National Grid projection and 10m spatial resolution, use the following parameters:\n",
    "\n",
    "* `product`: `sen2_l2a_gcp`\n",
    "* `x`: `(-4.095, -4.076)`\n",
    "* `y`: `(52.407, 52.422)`\n",
    "* `time`: `(\"2018-01-01\", \"2018-12-31\")`\n",
    "* `output_crs`: `epsg:27700`\n",
    "* `resolution`: `(-10,10)`\n",
    "\n",
    "Run the following cell to load all datasets from the `sen2_l2a_gcp` product that match this spatial and temporal extent:"
   ]
  },
  {
   "cell_type": "code",
   "execution_count": null,
   "id": "61636dfb",
   "metadata": {},
   "outputs": [],
   "source": [
    "start_load= time()\n",
    "dataset = dc.load(product=\"sen2_l2a_gcp\",\n",
    "             x=(-4.095, -4.076),\n",
    "             y=(52.407, 52.422),\n",
    "             time=(\"2018-01-01\", \"2018-12-31\"),\n",
    "             output_crs= \"epsg:27700\",\n",
    "             resolution= (-10,10))\n",
    "\n",
    "end_load= time()\n",
    "\n",
    "print(\"Datacube ready\")\n",
    "print(\"Took only \" + str(round(end_load-start_load,2)) + \" seconds to load a whole year of data from datacube \\\n",
    "for the specified extent (i.e., \"+ str(len(dataset.time)*len(dataset.keys())) +\" images).\")"
   ]
  },
  {
   "cell_type": "markdown",
   "id": "a5d163f7",
   "metadata": {},
   "source": [
    "### Visualising the resulting `xarray.Dataset`"
   ]
  },
  {
   "cell_type": "code",
   "execution_count": null,
   "id": "60f33022",
   "metadata": {},
   "outputs": [],
   "source": [
    "dataset"
   ]
  },
  {
   "cell_type": "markdown",
   "id": "9858a369",
   "metadata": {},
   "source": [
    "### Interpreting the resulting `xarray.Dataset`\n",
    "The variable `dataset` has returned an `xarray.Dataset` containing all data that matched the spatial and temporal query parameters inputted into `dc.load`.\n",
    "\n",
    "*Dimensions* \n",
    "\n",
    "* This header identifies the number of timesteps returned in the search (`time: 142`) as well as the number of pixels in the `x` and `y` directions of the data query.\n",
    "\n",
    "*Coordinates* \n",
    "\n",
    "* `time` identifies the date attributed to each returned timestep.\n",
    "* `x` and `y` are the coordinates for each pixel within the spatial bounds of the query.\n",
    "\n",
    "*Data variables*\n",
    "\n",
    "* These are all the measurements available for the nominated product. \n",
    "For every date (`time`) returned by the query, the measured value at each pixel (`y`, `x`) is returned as an array for each measurement.\n",
    "Each data variable is itself an `xarray.DataArray` object ([see below](#Inspecting-an-individual-xarray.DataArray)). \n",
    "\n",
    "*Attributes*\n",
    "\n",
    "* `crs` identifies the coordinate reference system (CRS) of the loaded data. "
   ]
  },
  {
   "cell_type": "markdown",
   "id": "97f8aa63",
   "metadata": {},
   "source": [
    "### Inspecting an individual `xarray.DataArray`\n",
    "The `xarray.Dataset` loaded above is itself a collection of individual `xarray.DataArray` objects that hold the actual data for each data variable/measurement. \n",
    "For example, all measurements listed under _Data variables_ above (e.g. `blue`, `green`, `red`, `nir`, `swir1`, `swir2`) are `xarray.DataArray` objects.\n",
    "\n",
    "These `xarray.DataArray` objects can be inspected or interacted with by using either of the following syntaxes:\n",
    "```\n",
    "dataset[\"measurement_name\"]\n",
    "```\n",
    "or\n",
    "```\n",
    "dataset.measurement_name\n",
    "```\n",
    "\n",
    "The ability to access individual variables means that these can be directly viewed, or further manipulated to create new variables. \n",
    "For example, run the following cell to access data from the near infra-red satellite band (i.e. `nir`):"
   ]
  },
  {
   "cell_type": "code",
   "execution_count": null,
   "id": "9cff5b6a",
   "metadata": {},
   "outputs": [],
   "source": [
    "dataset.nir"
   ]
  },
  {
   "cell_type": "markdown",
   "id": "ec3a15af",
   "metadata": {},
   "source": [
    "**Note** that the object header informs us that it is an `xarray.DataArray` containing data for the `nir` satellite band. \n",
    "\n",
    "Like an `xarray.Dataset`, the array also includes information about the data's **dimensions** (i.e. `(time: 142, y: 171, x: 135)`), **coordinates** and **attributes**.\n",
    "This particular data variable/measurement contains some additional information that is specific to the `nir` band, including details of array's nodata value (i.e. `nodata: -9999`).\n",
    "\n",
    "> For a more in-depth introduction to `xarray` data structures, refer to the [official xarray documentation](http://xarray.pydata.org/en/stable/data-structures.html)"
   ]
  },
  {
   "cell_type": "markdown",
   "id": "b81203ae",
   "metadata": {},
   "source": [
    "## Customising the `dc.load()` function\n",
    "\n",
    "The `dc.load()` function can be tailored to refine a query.\n",
    "\n",
    "Customisation options include:\n",
    "\n",
    "* `measurements:` This argument is used to provide a list of measurement names to load, as listed in `dc.list_measurements()`. \n",
    "For satellite datasets, measurements contain data for each individual satellite band (e.g. swir2). \n",
    "By default, all measurements for the product will be returned. In most cases, only a few bands are needed; specify these using this argument.\n",
    "* `crs:` The coordinate reference system (CRS) of the query's `x` and `y` coordinates is assumed to be `WGS84`/`EPSG:4326` unless the `crs` field is supplied, even if the stored data is in another projection or the `output_crs` is specified. \n",
    "The `crs` parameter is required if the query's coordinates are in any other CRS.\n",
    "\n",
    "Example syntax on the use of these options follows in the cells below.\n",
    "\n",
    "> For help or more customisation options, run `help(dc.load)` in an empty cell or visit the function's [documentation page](https://datacube-core.readthedocs.io/en/latest/dev/api/generate/datacube.Datacube.load.html)\n"
   ]
  },
  {
   "cell_type": "markdown",
   "id": "3c51ec51",
   "metadata": {},
   "source": [
    "### Specifying measurements\n",
    "By default, `dc.load()` will load *all* measurements in a product.\n",
    "\n",
    "To load data from the `red`, `green` and `blue` satellite bands only, add `measurements=[\"red\", \"green\", \"blue\"]` to the query:"
   ]
  },
  {
   "cell_type": "code",
   "execution_count": null,
   "id": "bfcbaef8",
   "metadata": {},
   "outputs": [],
   "source": [
    "start_load= time()\n",
    "\n",
    "dataset_rgb = dc.load(product=\"sen2_l2a_gcp\",\n",
    "                      x=(-4.095, -4.076),\n",
    "                      y=(52.407, 52.422),\n",
    "                      time=(\"2018-01-01\", \"2018-12-31\"),\n",
    "                      output_crs= \"epsg:27700\",\n",
    "                      resolution= (-10,10),\n",
    "                      measurements= ['red','green','blue'])\n",
    "\n",
    "end_load= time()\n",
    "\n",
    "print(\"Datacube ready\")\n",
    "print(\"Took only \" + str(round(end_load-start_load,2)) + \" seconds to load a whole year of data from datacube \\\n",
    "for the specified extent (i.e., \"+ str(len(dataset_rgb.time)*len(dataset_rgb.keys())) +\" images). \\\n",
    "\\nAs we can see, loading only the needed measurements significantly reduced the loading time.\")"
   ]
  },
  {
   "cell_type": "code",
   "execution_count": null,
   "id": "ad23049e",
   "metadata": {},
   "outputs": [],
   "source": [
    "dataset_rgb"
   ]
  },
  {
   "cell_type": "markdown",
   "id": "0ee0e123",
   "metadata": {},
   "source": [
    "**Note** that the **Data variables** component of the `xarray.Dataset` now includes only the measurements specified in the query (i.e. the `red`, `green` and `blue` satellite bands)."
   ]
  },
  {
   "cell_type": "markdown",
   "id": "70de582a",
   "metadata": {},
   "source": [
    "### Loading data for coordinates in any CRS\n",
    "By default, `dc.load()` assumes that the queried `x` and `y` coordinates are in the `WGS84`/`EPSG:4326` CRS.\n",
    "If these coordinates are in a different coordinate system, specify this using the `crs` parameter.\n",
    "\n",
    "The example cell below loads data for a set of `x` and `y` coordinates defined in British National Grid (`EPSG:27700`), ensuring that the `dc.load()` function accounts for this by including `crs=\"EPSG:27700\"`:"
   ]
  },
  {
   "cell_type": "code",
   "execution_count": null,
   "id": "b7d97df9",
   "metadata": {},
   "outputs": [],
   "source": [
    "dataset_custom_crs = dc.load(product=\"sen2_l2a_gcp\",\n",
    "                             x=(257268, 259493),\n",
    "                             y=(280841, 282479),\n",
    "                             crs=\"EPSG:27700\",\n",
    "                             time=(\"2018-01-01\", \"2018-12-31\"),\n",
    "                             output_crs= \"epsg:27700\",\n",
    "                             resolution= (-10,10),\n",
    "                             measurements= ['red','green','blue'])\n",
    "\n",
    "dataset_custom_crs"
   ]
  },
  {
   "cell_type": "markdown",
   "id": "202c9dc5",
   "metadata": {},
   "source": [
    "## Loading data using the query dictionary syntax\n",
    "It is often useful to re-use a set of query parameters to load data from multiple products.\n",
    "To achieve this, load data using the \"query dictionary\" syntax.\n",
    "This involves placing the query parameters inside a Python dictionary object which can be re-used for multiple data loads.\n",
    "\n",
    "Query dictionaries can contain any set of parameters that would usually be provided to `dc.load()`:"
   ]
  },
  {
   "cell_type": "code",
   "execution_count": null,
   "id": "a12e856e",
   "metadata": {},
   "outputs": [],
   "source": [
    "query = {\"x\":(-4.095, -4.076),\n",
    "         \"y\":(52.407, 52.422),\n",
    "         \"time\":(\"2018-01-01\", \"2018-12-31\"),\n",
    "         \"output_crs\": \"epsg:27700\",\n",
    "         \"resolution\": (-10,10)}"
   ]
  },
  {
   "cell_type": "markdown",
   "id": "e17550f8",
   "metadata": {},
   "source": [
    "The query dictionary object can be added as an input to `dc.load()`.\n",
    "\n",
    "> The `**` syntax below is Python's \"keyword argument unpacking\" operator.\n",
    "This operator takes the named query parameters listed in the query dictionary (e.g. `\"x\":(-4.095, -4.076)`), and \"unpacks\" them into the `dc.load()` function as new arguments. \n",
    "For more information about unpacking operators, refer to the [Python documentation](https://docs.python.org/3/tutorial/controlflow.html#unpacking-argument-lists)"
   ]
  },
  {
   "cell_type": "code",
   "execution_count": null,
   "id": "47afcb8b",
   "metadata": {},
   "outputs": [],
   "source": [
    "dataset_sentinel2 = dc.load(product=\"sen2_l2a_gcp\",\n",
    "                            **query)\n",
    "\n",
    "dataset_sentinel2"
   ]
  },
  {
   "cell_type": "code",
   "execution_count": null,
   "id": "53b13e6e",
   "metadata": {},
   "outputs": [],
   "source": [
    "dataset_nfi = dc.load(product=\"nfi_woodland_fr\",\n",
    "                        **query)\n",
    "\n",
    "dataset_nfi"
   ]
  },
  {
   "cell_type": "markdown",
   "id": "d6a76571",
   "metadata": {},
   "source": [
    "## Loading data \"like\" another dataset\n",
    "\n",
    "Another option for loading matching data from multiple products is to use `dc.load()`'s `like` parameter.\n",
    "This will copy the spatial and temporal extent and the CRS/resolution from an existing dataset, and use these parameters to load new data from a new product.\n",
    "\n",
    "The example cell below loads NRW saltmarshes dataset that exactly matches the `dataset_sentinel2` dataset loaded earlier:\n"
   ]
  },
  {
   "cell_type": "code",
   "execution_count": null,
   "id": "0cf1973a",
   "metadata": {},
   "outputs": [],
   "source": [
    "dataset_saltmarsh = dc.load(product=\"nrw_saltmarshes_lle\",\n",
    "                            like=dataset_sentinel2)\n",
    "\n",
    "dataset_saltmarsh"
   ]
  },
  {
   "cell_type": "markdown",
   "id": "3fb94f99-2372-47b4-9cbc-166581e74eae",
   "metadata": {},
   "source": [
    "## Recommended next steps\n",
    "\n",
    "For more advanced information about working with Jupyter Notebooks or JupyterLab, see the [JupyterLab documentation](https://jupyterlab.readthedocs.io/en/stable/user/notebook.html).\n",
    "\n",
    "To continue working through the notebooks in this beginner's guide, the following notebooks are designed to be worked through in the following order:\n",
    "\n",
    "1. **[Introduction to jupyter Notebooks](01_Introduction_jupyter_notebooks.ipynb)**\n",
    "2. **[Wales Open Data Cube](02_Wales_Open_Data_Cube.ipynb)**\n",
    "3. **[Products and measurements](03_Products_and_measurements.ipynb)**\n",
    "4. **Loading data in WDC (this notebook)**\n",
    "5. **[Plotting](05_Plotting.ipynb)**\n",
    "6. **[Using Sentinel-2 data](06_Using_Sentinel2_data.ipynb)**\n",
    "7. **[Calculating band indices](07_Calculating_band_indices.ipynb)**\n",
    "8. **[Generating composites](08_Generating_composites.ipynb)**\n",
    "9. **[Zonal_statistics](09_Zonal_statistics.ipynb)**\n",
    "\n",
    "\n",
    "Once you have worked through the beginner's guide, you can explore the \"Case Studies\" directory, which provides examples of applications within Wales Open Data Cube."
   ]
  },
  {
   "cell_type": "code",
   "execution_count": null,
   "id": "21336aeb-e92d-453b-b60d-41bb085f53b5",
   "metadata": {},
   "outputs": [],
   "source": []
  }
 ],
 "metadata": {
  "kernelspec": {
   "display_name": "Python 3 (ipykernel)",
   "language": "python",
   "name": "python3"
  },
  "language_info": {
   "codemirror_mode": {
    "name": "ipython",
    "version": 3
   },
   "file_extension": ".py",
   "mimetype": "text/x-python",
   "name": "python",
   "nbconvert_exporter": "python",
   "pygments_lexer": "ipython3",
   "version": "3.10.6"
  }
 },
 "nbformat": 4,
 "nbformat_minor": 5
}
