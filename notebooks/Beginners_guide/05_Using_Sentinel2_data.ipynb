{
 "cells": [
  {
   "cell_type": "markdown",
   "id": "7a1c30f1",
   "metadata": {},
   "source": [
    "# Using Sentinel-2 data <img align=\"right\" src=\"../img/LivingWales_logo.png\" width=\"190\" height=\"200\">\n",
    "\n",
    "* **Compatibility:** Notebook currently compatible with the `WDC` environment\n",
    "* **Products used:** `sen2_l2a_gcp`\n",
    "* **Prerequisites:** Users of this notebook should have a basic understanding of:\n",
    "    * How to run a [Jupyter notebook](01_Introduction_jupyter_notebooks.ipynb)\n",
    "    * Inspecting available [WDC products and measurements](02_Products_and_measurements.ipynb)\n",
    "    * How to [load data from WDC](03_Loading_data.ipynb)\n",
    "    * How to [plot data in WDC](04_Plotting.ipynb)\n"
   ]
  },
  {
   "cell_type": "markdown",
   "id": "47b31556",
   "metadata": {},
   "source": [
    "## Background\n",
    "To understand the world around us, it's important to combine the key steps of loading, visualising, manipulating and analysing satellite data. One key step when using optical imagery, such as Sentinel-2, is to discard the cloudy pixels before analysing the data."
   ]
  },
  {
   "cell_type": "markdown",
   "id": "17be2b57",
   "metadata": {},
   "source": [
    "## Description\n",
    "This notebook demonstrates how to use and clean Sentinel-2 data returned from a query in WDC.\n",
    "It will combine many of the steps that have been covered in the other beginner's notebooks, as well as custom WDC modules.\n",
    "\n",
    "Topics covered in this notebook include:\n",
    "\n",
    "1. Choosing a study area.\n",
    "2. Choose a study period.\n",
    "3. Loading data using a geopolygon\n",
    "4. Plotting data\n",
    "5. Cleaning Sentinel-2 data\n",
    "\n",
    "***"
   ]
  },
  {
   "cell_type": "markdown",
   "id": "51909fe3",
   "metadata": {},
   "source": [
    "## Getting started\n",
    "To run this analysis, run all the cells in the notebook starting with the \"Load packages\" cell. For help with running notebook cells, refer back to the [Jupyter Notebooks notebook](01_Introduction_jupyter_notebooks.ipynb)."
   ]
  },
  {
   "cell_type": "markdown",
   "id": "fada29b0",
   "metadata": {},
   "source": [
    "### Load packages\n",
    "The cell below imports Python packages that are used for the analysis:\n",
    "\n",
    "* `sys` provides access to helpful support functions in the `display_tools` and `wdc_datahandling` modules. \n",
    "* `datacube` provides the ability to query and load data.\n",
    "* `time` provides the ability to retrieve processing time"
   ]
  },
  {
   "cell_type": "code",
   "execution_count": null,
   "id": "0dbceb80",
   "metadata": {},
   "outputs": [],
   "source": [
    "import sys\n",
    "import datacube\n",
    "from time import time as time\n",
    "\n",
    "sys.path.append(\"../wales_utils/data_cube_utilities\")\n",
    "from display_tools import map_extent, draw_select, calendar, rgb, cloud_threshold_slider\n",
    "from wdc_datahandling import geom_fromdrawn, cleaning_s2, cloud_coverage, export_to_GeoTiff"
   ]
  },
  {
   "cell_type": "markdown",
   "id": "3798b46f",
   "metadata": {},
   "source": [
    "### Connect to the datacube\n",
    "The next step is to connect to the datacube database.\n",
    "The resulting `dc` datacube object can then be used to load data.\n",
    "The `app` parameter is a unique name used to identify the notebook that does not have any effect on the analysis."
   ]
  },
  {
   "cell_type": "code",
   "execution_count": null,
   "id": "d40f89d0",
   "metadata": {},
   "outputs": [],
   "source": [
    "dc = datacube.Datacube(app=\"05_Sentinel2\")"
   ]
  },
  {
   "cell_type": "markdown",
   "id": "ab338d14",
   "metadata": {},
   "source": [
    "## Step 1: Choose a study area"
   ]
  },
  {
   "cell_type": "markdown",
   "id": "54574a5e",
   "metadata": {},
   "source": [
    "One way to set the study area is to manually enter its coordinates, as demonstrated in [03_Loading_data](03_Loading_data.ipynb) notebook.\n",
    "\n",
    "In this notebook we will use an alternative method, which uses the custom `draw_select()` tool, available in the `WDC` and developed by Living Wales, and an interactive map. \n",
    "\n",
    "First run the next cell and then draw the boundaries of your chosen area.\n",
    "\n",
    "> Please: in the context of this exercise, for reasonable load times, keep the chosen site to a 2km x 2km area or less.\n",
    "\n",
    "To draw, use either the &#9726; *'draw a rectangle'* symbol or the &#11039; *'draw a polygon'* symbol in the leftside bar, draw the boundaries of your chosen area and click on the 'Extent' button.\n",
    "\n",
    "At any time, you can click on the bin symbol and choose 'Clear All\" to delete the polygon you have drawn.\n",
    "\n",
    "\n"
   ]
  },
  {
   "cell_type": "code",
   "execution_count": null,
   "id": "620dc5b6",
   "metadata": {},
   "outputs": [],
   "source": [
    "m, option_widget= draw_select()\n",
    "m"
   ]
  },
  {
   "cell_type": "code",
   "execution_count": null,
   "id": "479d3057",
   "metadata": {},
   "outputs": [],
   "source": [
    "# Get the selected option (i.e., Extent or Selection) \n",
    "selected_option = option_widget.value\n",
    "\n",
    "# Transform the drawn boundaries to a geopolygon\n",
    "my_geopolygon = geom_fromdrawn(selected_option)[0]\n",
    "\n",
    "print(\"The drawn shape was be used for : \" + selected_option)\n",
    "print(\"The geopolygon of interest is the following one; \")\n",
    "my_geopolygon"
   ]
  },
  {
   "cell_type": "markdown",
   "id": "791bc862",
   "metadata": {},
   "source": [
    "## Step 2: Choose a study period\n",
    "\n",
    "In this notebook we will use an interactive method, which uses the custom `calendar()` tool, available in the `WDC`, to select the study period.\n",
    "\n",
    "> In the context of this exercise, for reasonable load times, keep this to a range of on year or less."
   ]
  },
  {
   "cell_type": "code",
   "execution_count": null,
   "id": "788b48d4",
   "metadata": {},
   "outputs": [],
   "source": [
    "print('Select a start date:')\n",
    "start_date = calendar()"
   ]
  },
  {
   "cell_type": "code",
   "execution_count": null,
   "id": "96bcf231",
   "metadata": {},
   "outputs": [],
   "source": [
    "print('Select an end date:')\n",
    "end_date = calendar()"
   ]
  },
  {
   "cell_type": "markdown",
   "id": "a9682015",
   "metadata": {},
   "source": [
    "## Step 3: Loading data using a geopolygon\n",
    "\n",
    "In this example, we'll load data from Sentinel-2 satellite using the `geopolygon` parameter instead of `x`/`y`.\n",
    "> **Note**: The geopolygons drawn on interactive map always have WGS84/EPSG:4326 CRS. \n",
    "\n",
    "When working with the Open Data Cube, it's important to load only as much data as needed.\n",
    "This helps keep an analysis running quickly and avoids the notebook crashing due to insufficient memory. \n",
    "\n",
    "For this exercise we will only need the `RGB` and `nir` measurements, as well as the cloud mask (i.e., `scl` layer). So, let's specify this using the `measurements` argument."
   ]
  },
  {
   "cell_type": "code",
   "execution_count": null,
   "id": "71f589a3",
   "metadata": {},
   "outputs": [],
   "source": [
    "start_load= time()\n",
    "\n",
    "dataset = dc.load(product= 'sen2_l2a_gcp',\n",
    "                  geopolygon= my_geopolygon,\n",
    "                  measurements= ['blue', 'green', 'red','nir', 'scl'],\n",
    "                  time= (start_date.value, end_date.value),\n",
    "                  output_crs= 'epsg:27700',\n",
    "                  resolution= (-10,10),\n",
    "                  dask_chunks={\"y\" : 2048, \"x\" : 2048})\n",
    "end_load= time()\n",
    "\n",
    "print(\"Datacube ready\")\n",
    "print(\"Took \" + str(round(end_load-start_load,2)) + \" seconds to request \" + str(len(dataset.time\n",
    "    )*len(dataset.keys())) +\" images from WDC for the specified extent/period.\")"
   ]
  },
  {
   "cell_type": "markdown",
   "id": "f55bf15a",
   "metadata": {},
   "source": [
    "Following the load step, printing the `dataset` `xarray.Dataset` object will give you insight into all of the data that was loaded.\n",
    "Do this by running the next cell.\n",
    "\n",
    "There's a lot of information to unpack, which is represented by the following aspects of the data:\n",
    "- `Dimensions`: the names of data dimensions, frequently `time`, `x` and `y`, and number of entries in each\n",
    "- `Coordinates`: the coordinate values for each point in the data cube\n",
    "- `Data variables`: the observations loaded, typically different spectral bands from a satellite\n",
    "- `Attributes`: additional useful information about the data, such as the `crs` (coordinate reference system)"
   ]
  },
  {
   "cell_type": "code",
   "execution_count": null,
   "id": "308a42f1",
   "metadata": {},
   "outputs": [],
   "source": [
    "dataset"
   ]
  },
  {
   "cell_type": "markdown",
   "id": "59f8051c",
   "metadata": {},
   "source": [
    "## Step 4: Plotting data\n",
    "\n",
    "After loading the data, it is useful to view it to understand the resolution, which observations are impacted by cloud cover, and whether there are any obvious differences between time steps.\n",
    "\n",
    "We use the `rgb()` function to plot the data loaded in the previous step.\n",
    "The `rgb()` function maps three data variables/measurements from the loaded dataset to the red, green and blue channels that are used to make a three-colour image.\n",
    "\n",
    "`bands = [red_channel, green_channel, blue_channel]`\\\n",
    "This sets the measurements that you want to use to make the image.\n",
    "Any measurements can be mapped to the three channels, and different combinations highlight different features. Two common combinations are:\n",
    "   * true colour: \n",
    "    `bands = [\"red\", \"green\", \"blue\"]`\n",
    "   * false colour: `bands = [\"nir\", \"red\", \"green\"]`\n",
    "    \n",
    "For more detail about customising plots, see the [Introduction to plotting](04_Plotting.ipynb) notebook.\n"
   ]
  },
  {
   "cell_type": "code",
   "execution_count": null,
   "id": "eb4c829e",
   "metadata": {},
   "outputs": [],
   "source": [
    "print(\"Plotting ...\")\n",
    "print(\"(Please wait until images appear. This may take a few seconds to minutes depending on your period of interest and length of time requested.)\")\n",
    "\n",
    "\n",
    "rgb(dataset, bands=[\"red\", \"green\", \"blue\"], col=\"time\", robust=True, col_wrap=10)"
   ]
  },
  {
   "cell_type": "markdown",
   "id": "631ddc49",
   "metadata": {},
   "source": [
    "## Step 5: Cleaning Sentinel-2 data\n",
    "\n",
    "As we can see in the above plot, optical data are affected by cloud cover.\n",
    "Filtering cloudy areas is therefore a requirement. \n",
    "\n",
    "The Living Wales project provides Analysis Ready Data (incl. within `WDC`), which are satellite data that have been processed to a minimum set of requirements and organized into a form that allows immediate analysis with minimum additional user effort. \n",
    "\n",
    "In this regard, Living Wales has developed several python tools and libraries to minimize user efforts, including library to mask clouds and normalise data. \n",
    "\n",
    "Within `WDC`, Sentinel-2 data are provided with same format as on the EODataDown platform (i.e., with `scl` cloud mask in a separate layer and a scaling factor of 10,000). In the next cell, we clean the Sentinel-2 data (i.e., cloud masking and reflectance normalisation) using one of the custom `WDC` libraries developed by Living Wales: `cleaning_s2()`\n"
   ]
  },
  {
   "cell_type": "markdown",
   "id": "5cb8529a",
   "metadata": {},
   "source": [
    "### Cloud masking and Reflectance normalisation"
   ]
  },
  {
   "cell_type": "markdown",
   "id": "a6d33a8c",
   "metadata": {},
   "source": [
    "In this section, we clean the Sentinel-2 data using one of the `WDC` utilities developed by Living Wales:   `cleaning_s2()`"
   ]
  },
  {
   "cell_type": "code",
   "execution_count": null,
   "id": "fa0edcb0",
   "metadata": {},
   "outputs": [],
   "source": [
    "# Let's clean the Sentinel-2 dataset (i.e., cloud masking and reflectance normalisation)\n",
    "dataset_clean = cleaning_s2(dataset)"
   ]
  },
  {
   "cell_type": "code",
   "execution_count": null,
   "id": "0320dfc3",
   "metadata": {},
   "outputs": [],
   "source": [
    "# Visualise clean dataset\n",
    "print(\"Plotting ...\")\n",
    "print(\"(Please wait until images appear. This may take a few seconds to minutes depending on your period of interest.)\")\n",
    "\n",
    "dataset_clean.nir.plot(col=\"time\", col_wrap=10);"
   ]
  },
  {
   "cell_type": "markdown",
   "id": "e2e62251",
   "metadata": {},
   "source": [
    "### Dropping useless dates\n",
    "\n",
    "By default, all data are kept by the `cleaning_s2()` function. \n",
    "However, as we can see in the above plot, cleaning data can lead to dates having only a few, or none, remaining pixels (i.e., cloud free pixels) for the region of interest. \n",
    "\n",
    "In the next cells, we drop the dates which contain less than a chosen coverage of cloud-free pixels.\n",
    "\n",
    "#### Choose a maximum cloud cover "
   ]
  },
  {
   "cell_type": "code",
   "execution_count": null,
   "id": "ddc1d692",
   "metadata": {},
   "outputs": [],
   "source": [
    "cloud_max_threshold = cloud_threshold_slider()\n",
    "cloud_max_threshold"
   ]
  },
  {
   "cell_type": "markdown",
   "id": "c8df2df9",
   "metadata": {},
   "source": [
    "#### Dropping dates where cloud percentage greater than cloud maximum threshold"
   ]
  },
  {
   "cell_type": "code",
   "execution_count": null,
   "id": "30a7ff9d",
   "metadata": {},
   "outputs": [],
   "source": [
    "# Calculating the cloud coverage (%) for each date\n",
    "cloud_percentage = cloud_coverage(dataset_clean)\n",
    "\n",
    "# Dropping dates where cloud percentage greater than cloud maximum threshold\n",
    "cloud_mask = cloud_percentage<=cloud_max_threshold.value\n",
    "cloud_mask = cloud_mask.compute()\n",
    "dataset_2use = dataset_clean.where(cloud_mask, drop=True)"
   ]
  },
  {
   "cell_type": "markdown",
   "id": "64e075c0",
   "metadata": {},
   "source": [
    "#### Visualise clean dataset after dropping useless dates"
   ]
  },
  {
   "cell_type": "code",
   "execution_count": null,
   "id": "b7c6f1b3",
   "metadata": {},
   "outputs": [],
   "source": [
    "if len(dataset_2use.time) == 0:\n",
    "    print(\"No valid images found. Try increasing the maximum cloud cover, using a larger area or different dates\")\n",
    "else:\n",
    "    print(\"Plotting ...\")\n",
    "    print(\"(Please wait until images appear. This may take a few seconds)\")\n",
    "    dataset_2use.nir.plot(col='time', col_wrap=6);"
   ]
  },
  {
   "cell_type": "markdown",
   "id": "482f5042",
   "metadata": {},
   "source": [
    "> *Hint*: To remove the timesteps which are 100% covered with clouds,  you can directly use the fallowing function: \n",
    "`dataset_2use = dataset_clean.dropna('time', how='all')`\n",
    "\n",
    "> *Hint*: To remove the timesteps which have at least one cloudy pixel, you can directly use the fallowing function: \n",
    "`dataset_2use = dataset_clean.dropna('time', how='any')`"
   ]
  },
  {
   "cell_type": "markdown",
   "id": "d62ce768-d91e-434f-99a6-33100cad7281",
   "metadata": {},
   "source": [
    "## Recommended next steps\n",
    "\n",
    "For more advanced information about working with Jupyter Notebooks or JupyterLab, see the [JupyterLab documentation](https://jupyterlab.readthedocs.io/en/stable/user/notebook.html).\n",
    "\n",
    "To continue working through the notebooks in this beginner's guide, the following notebooks are designed to be worked through in the following order:\n",
    "\n",
    "1. **[Introduction to jupyter Notebooks](01_Introduction_jupyter_notebooks.ipynb)**\n",
    "2. **[Products and measurements](02_Products_and_measurements.ipynb)**\n",
    "3. **[Loading data in WDC](03_Loading_data.ipynb)**\n",
    "4. **[Plotting](04_Plotting.ipynb)**\n",
    "5. **Using Sentinel-2 data (this notebook)**\n",
    "6. **[Calculating band indices](06_Calculating_band_indices.ipynb)**\n",
    "7. **[Generating composites](07_Generating_composites.ipynb)**\n",
    "8. **[Zonal_statistics](08_Zonal_statistics.ipynb)**\n",
    "\n",
    "\n",
    "Once you have worked through the beginner's guide, you can explore the \"Case Studies\" directory, which provides examples of applications within Wales Open Data Cube."
   ]
  },
  {
   "cell_type": "code",
   "execution_count": null,
   "id": "2e9d4aee-d4e5-4c0e-9d37-14d89ecec585",
   "metadata": {},
   "outputs": [],
   "source": []
  }
 ],
 "metadata": {
  "kernelspec": {
   "display_name": "Python 3 (ipykernel)",
   "language": "python",
   "name": "python3"
  },
  "language_info": {
   "codemirror_mode": {
    "name": "ipython",
    "version": 3
   },
   "file_extension": ".py",
   "mimetype": "text/x-python",
   "name": "python",
   "nbconvert_exporter": "python",
   "pygments_lexer": "ipython3",
   "version": "3.11.6"
  }
 },
 "nbformat": 4,
 "nbformat_minor": 5
}
