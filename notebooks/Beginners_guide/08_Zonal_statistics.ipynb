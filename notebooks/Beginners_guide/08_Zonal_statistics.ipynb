{
 "cells": [
  {
   "cell_type": "markdown",
   "id": "99b7d69a",
   "metadata": {},
   "source": [
    "# Zonal statistics <img align=\"right\" src=\"../img/LivingWales_logo.png\" width=\"190\" height=\"200\">\n",
    "\n",
    "* **Compatibility:** Notebook currently compatible with the `WDC` environment\n",
    "* **Products used:** `sen2_l2a_gcp`\n",
    "* **Special requirement:** \n",
    "A shapefile containing the polygon you would like to use for the analysis."
   ]
  },
  {
   "cell_type": "markdown",
   "id": "206d45bc",
   "metadata": {},
   "source": [
    "## Description\n",
    "In the Open Data Cube, a polygon can be used to grab a stack of imagery that corresponds to the location of an input polygon. \n",
    "It is a useful tool for generating zonal statistics.\n",
    "\n",
    "This notebook shows you how to:\n",
    "\n",
    "1. Upload a file from your computer\n",
    "2. Use a polygon's geometry to generate a `dc.load` query\n",
    "3. Mask the returned data with the polygon geometry (to remove pixels outside the polygon)\n",
    "4. Calculate and plot zonal statistics\n",
    "\n",
    "***"
   ]
  },
  {
   "cell_type": "markdown",
   "id": "d638df73",
   "metadata": {},
   "source": [
    "## Getting started\n",
    "\n",
    "To run this analysis, run all the cells in the notebook, starting with the \"Load packages\" cell. "
   ]
  },
  {
   "cell_type": "markdown",
   "id": "707b0086",
   "metadata": {},
   "source": [
    "### Load packages\n",
    "Import Python packages that are used for the analysis."
   ]
  },
  {
   "cell_type": "code",
   "execution_count": null,
   "id": "a7993550",
   "metadata": {
    "tags": []
   },
   "outputs": [],
   "source": [
    "import datacube\n",
    "import geopandas as gpd\n",
    "\n",
    "from datacube.utils.geometry import Geometry\n",
    "from ipyleaflet import GeoData\n",
    "\n",
    "import sys\n",
    "\n",
    "sys.path.append(\"../wales_utils/data_cube_utilities\")\n",
    "from display_tools import map_geom, rgb\n",
    "from wdc_datahandling import cleaning_s2, cloud_coverage, geopolygon_masking\n",
    "from wdc_bandindices import calculate_indices"
   ]
  },
  {
   "cell_type": "markdown",
   "id": "75ea5176",
   "metadata": {},
   "source": [
    "### Connect to the datacube\n",
    "\n",
    "Connect to the datacube so we can access WDC data.\n",
    "The `app` parameter is a unique name used to identify the notebook that does not have any effect on the analysis."
   ]
  },
  {
   "cell_type": "code",
   "execution_count": null,
   "id": "d235d2df",
   "metadata": {
    "tags": []
   },
   "outputs": [],
   "source": [
    "dc = datacube.Datacube(app=\"Polygon\")"
   ]
  },
  {
   "cell_type": "markdown",
   "id": "6be16c0f",
   "metadata": {},
   "source": [
    "## Load up the shapefile you want to use for the analysis\n",
    "\n",
    "### Upload a file from your computer\n",
    "Sometimes, you will want to import some files in your `WDC` space for an analysis.\n",
    "\n",
    "To upload a file from your computer, open the directory browser, drag your file in the `uploads` directory and drop it (when a <span style=\"display:inline-block;heigth:20px;width:20px;border-radius:10px;background-color:#50b745;color:white;text-align:center\">+</span> symbol appears).\n",
    "\n",
    "> **Before running the next cell:** upload the shapefile (i.e., several files) you would like to use in the `uploads` directory and indicate the filename of your shapefile in the cell.\n",
    "\n",
    "There is an example shapefile (`WDC_workshop.shp`) provided in the `vectors` directory if you don't have your own to use."
   ]
  },
  {
   "cell_type": "markdown",
   "id": "3a322eb1",
   "metadata": {},
   "source": [
    "### Load shapefile"
   ]
  },
  {
   "cell_type": "code",
   "execution_count": null,
   "id": "e30275d7",
   "metadata": {
    "tags": []
   },
   "outputs": [],
   "source": [
    "# Open and read the shapefile\n",
    "shapefile = gpd.read_file(\"../uploads/WDC_workshop.shp\")"
   ]
  },
  {
   "cell_type": "markdown",
   "id": "dbcf2b44",
   "metadata": {},
   "source": [
    "### Visualise shapefile"
   ]
  },
  {
   "cell_type": "code",
   "execution_count": null,
   "id": "8038e78f",
   "metadata": {
    "tags": []
   },
   "outputs": [],
   "source": [
    "# Check that the polygon loaded as expected. We'll just print the first 3 rows to check\n",
    "shapefile.head(3)"
   ]
  },
  {
   "cell_type": "markdown",
   "id": "33bd7016-1e2f-4a4b-b335-f258d8affe72",
   "metadata": {},
   "source": [
    "### Map shapefile\n",
    "\n",
    "The next cell transform the shapefile into geographic data and map the geometry.\n",
    "The custom `map_geom()` function, available in the `WDC`, allows to visualise your shapefile on an interactive map (i.e., Open Street map and ESRI World Imagery).\n",
    "\n",
    "World Imagery provides very high resolution (one meter or better) satellite and aerial imagery in many parts of the world. For Wales, images are Maxar (Vivid) imagery, with a 0.50 meters resolution. "
   ]
  },
  {
   "cell_type": "code",
   "execution_count": null,
   "id": "7ceaff5c",
   "metadata": {
    "tags": []
   },
   "outputs": [],
   "source": [
    "# Transform shapefile boundaries into geographic data (and affect a style)\n",
    "geo_data = GeoData(\n",
    "    geo_dataframe=shapefile.to_crs(epsg=4326),\n",
    "    style={\n",
    "        \"color\": \"black\",\n",
    "        \"fillColor\": \"#3366cc\",\n",
    "        \"opacity\": 0.05,\n",
    "        \"weight\": 1.9,\n",
    "        \"dashArray\": \"2\",\n",
    "        \"fillOpacity\": 0.6,\n",
    "    },\n",
    "    hover_style={\"fillColor\": \"red\", \"fillOpacity\": 0.2},\n",
    "    name=\"Shapefile\",\n",
    ")\n",
    "\n",
    "# map the geographic data on dynamic map\n",
    "m = map_geom(geo_data)\n",
    "m"
   ]
  },
  {
   "cell_type": "markdown",
   "id": "2b066550",
   "metadata": {},
   "source": [
    "## Query the datacube using the polygon we have loaded\n",
    "\n",
    "### Set up the `dc.load` query\n",
    "\n",
    "We need to grab the geometry from the polygon we want to use for the polygon drill. \n",
    "For this example, we'll just grab the first polygon feature from the file using `.iloc[0]`:"
   ]
  },
  {
   "cell_type": "code",
   "execution_count": null,
   "id": "abf08061",
   "metadata": {
    "tags": []
   },
   "outputs": [],
   "source": [
    "geom = Geometry(geom=shapefile.iloc[0].geometry, crs=shapefile.crs)\n",
    "geom"
   ]
  },
  {
   "cell_type": "markdown",
   "id": "9e346e1b",
   "metadata": {},
   "source": [
    "To set up the query, we need to set up several additional parameters:\n",
    "\n",
    "- `geopolygon`: Here we input the geometry we want to use for the drill that we prepared in the cell above\n",
    "- `time`: The temporal extent. The time dimension can be specified using a tuple of datetime objects or strings in the \"YYYY\", \"YYYY-MM\" or \"YYYY-MM-DD\" format. \n",
    "- `output_crs`: The output projection system in EPSG:code\n",
    "- `resolution`: The output spatial resolution with `output_crs` unit (e.g., in meters for EPSG:27700)\n",
    "\n",
    "- `measurements`: Here is where you specify which bands you want to extract. \n",
    "We will just be plotting a true colour image and calculating NDVI, so we just need RGB and `nir` (and the `scl` cloud layer)"
   ]
  },
  {
   "cell_type": "code",
   "execution_count": null,
   "id": "b00b1990",
   "metadata": {
    "tags": []
   },
   "outputs": [],
   "source": [
    "query = {\n",
    "    \"geopolygon\": geom,\n",
    "    \"time\": (\"2020-04-01\", \"2020-07-31\"),\n",
    "    \"output_crs\": \"EPSG:27700\",\n",
    "    \"resolution\": (-10, 10),\n",
    "    \"measurements\": [\"red\", \"green\", \"blue\", \"nir\", \"scl\"],\n",
    "    \"dask_chunks\": {\"y\": 2048, \"x\": 2048},\n",
    "}"
   ]
  },
  {
   "cell_type": "markdown",
   "id": "72333474",
   "metadata": {},
   "source": [
    "### Use the query to extract data"
   ]
  },
  {
   "cell_type": "code",
   "execution_count": null,
   "id": "9de1e07c",
   "metadata": {
    "tags": []
   },
   "outputs": [],
   "source": [
    "# Load data for our polygon and time period\n",
    "dataset = dc.load(product=\"sen2_l2a_gcp\", **query)\n",
    "\n",
    "# Clean the Sentinel-2 dataset (i.e., cloud masking and reflectance normalisation)\n",
    "dataset_clean = cleaning_s2(dataset)\n",
    "\n",
    "# Calculating the cloud coverage (%) for each date\n",
    "cloud_percentage = cloud_coverage(dataset_clean)\n",
    "# Dropping dates where cloud percentage greater than cloud maximum threshold\n",
    "cloud_mask = cloud_percentage <= 20\n",
    "cloud_mask = cloud_mask.compute()\n",
    "dataset_2use = dataset_clean.where(cloud_mask, drop=True)\n",
    "\n",
    "# Check we have some data back with multiple timesteps\n",
    "dataset_2use"
   ]
  },
  {
   "cell_type": "code",
   "execution_count": null,
   "id": "50664dbb",
   "metadata": {
    "tags": []
   },
   "outputs": [],
   "source": [
    "rgb(dataset_2use, col=\"time\", col_wrap=6, robust=True)"
   ]
  },
  {
   "cell_type": "markdown",
   "id": "54613cd2",
   "metadata": {},
   "source": [
    "## Mask data using the  geopolygon\n",
    "The data returned from our polygon drill contains data for the bounding box of the extents of the input polygon, not the actual shape of the polygon. \n",
    "\n",
    "To get rid of the bits of the image located outside the polygon, we need to mask the data using the geopolygon.\n",
    "\n",
    "In this section, we will mask out the pixels which are not included within the selected shapefile feature using one of the tools developed by Living Wales: `geopolygon_masking()`"
   ]
  },
  {
   "cell_type": "code",
   "execution_count": null,
   "id": "2b9184ba",
   "metadata": {
    "tags": []
   },
   "outputs": [],
   "source": [
    "dataset_masked = geopolygon_masking(dataset_2use, geopolygon=geom)\n",
    "\n",
    "rgb(dataset_masked, col=\"time\", col_wrap=6, robust=True)"
   ]
  },
  {
   "cell_type": "markdown",
   "id": "110e6bd1",
   "metadata": {},
   "source": [
    "## Calculate zonal statistics\n",
    "\n",
    "It can be useful to calculate some zonal statistics for identifying some evolution in a plot.\n",
    "\n",
    "For example, tracking the average NDVI index at parcel scale can help monitoring the evolution of vegetation growth within a field plot."
   ]
  },
  {
   "cell_type": "code",
   "execution_count": null,
   "id": "a8424b88",
   "metadata": {
    "tags": []
   },
   "outputs": [],
   "source": [
    "# Start by calculating NDVI\n",
    "dataset_NDVI = calculate_indices(\n",
    "    dataset_masked, index=\"NDVI\", platform=\"SENTINEL_2\", drop=True, quiet=True\n",
    ")\n",
    "dataset_NDVI"
   ]
  },
  {
   "cell_type": "markdown",
   "id": "72864d27",
   "metadata": {},
   "source": [
    "To generate the average NDVI at parcel scale, we use the `xarray.mean` method, specifying `['x','y']` as the dimension to compute the average over."
   ]
  },
  {
   "cell_type": "code",
   "execution_count": null,
   "id": "2b60cc91",
   "metadata": {
    "tags": []
   },
   "outputs": [],
   "source": [
    "# Then calculate the average NDVI value at parcel scale\n",
    "average_parcel_NDVI = dataset_NDVI.NDVI.mean([\"x\", \"y\"])"
   ]
  },
  {
   "cell_type": "code",
   "execution_count": null,
   "id": "ecae86e5",
   "metadata": {
    "tags": []
   },
   "outputs": [],
   "source": [
    "# Plot the average parcel NDVI\n",
    "average_parcel_NDVI.plot()"
   ]
  },
  {
   "cell_type": "markdown",
   "id": "830d4e2c-d688-4ae1-98f0-e48b72000db6",
   "metadata": {},
   "source": [
    "## Recommended next steps\n",
    "\n",
    "For more advanced information about working with Jupyter Notebooks or JupyterLab, see the [JupyterLab documentation](https://jupyterlab.readthedocs.io/en/stable/user/notebook.html).\n",
    "\n",
    "To continue working through the notebooks in this beginner's guide, the following notebooks are designed to be worked through in the following order:\n",
    "\n",
    "1. **[Introduction to jupyter Notebooks](01_Introduction_jupyter_notebooks.ipynb)**\n",
    "2. **[Products and measurements](02_Products_and_measurements.ipynb)**\n",
    "3. **[Loading data in WDC](03_Loading_data.ipynb)**\n",
    "4. **[Plotting](04_Plotting.ipynb)**\n",
    "5. **[Using Sentinel-2 data](05_Using_Sentinel2_data.ipynb)**\n",
    "6. **[Calculating band indices](06_Calculating_band_indices.ipynb)**\n",
    "7. **[Generating composites](07_Generating_composites.ipynb)**\n",
    "8. **Zonal_statistics (this notebook)**\n",
    "\n",
    "\n",
    "Once you have worked through the beginner's guide, you can explore the \"Case Studies\" directory, which provides examples of applications within Wales Open Data Cube."
   ]
  },
  {
   "cell_type": "code",
   "execution_count": null,
   "id": "346f02a5-6b0f-4dae-8f4b-09c564dee7e6",
   "metadata": {},
   "outputs": [],
   "source": []
  }
 ],
 "metadata": {
  "kernelspec": {
   "display_name": "Python 3 (ipykernel)",
   "language": "python",
   "name": "python3"
  },
  "language_info": {
   "codemirror_mode": {
    "name": "ipython",
    "version": 3
   },
   "file_extension": ".py",
   "mimetype": "text/x-python",
   "name": "python",
   "nbconvert_exporter": "python",
   "pygments_lexer": "ipython3",
   "version": "3.11.6"
  }
 },
 "nbformat": 4,
 "nbformat_minor": 5
}
