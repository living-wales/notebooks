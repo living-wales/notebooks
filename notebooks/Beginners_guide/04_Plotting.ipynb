{
 "cells": [
  {
   "cell_type": "markdown",
   "id": "85ffeaa8",
   "metadata": {},
   "source": [
    "# Introduction to plotting <img align=\"right\" src=\"../img/LivingWales_logo.png\" width=\"190\" height=\"200\">\n",
    "\n",
    "* **Compatibility:** Notebook currently compatible with the `WDC` environment\n",
    "* **Products used:** `sen2_l2a_gcp`\n",
    "* **Prerequisites:** Users of this notebook should have a basic understanding of:\n",
    "    * How to run a [Jupyter notebook](01_Introduction_jupyter_notebooks.ipynb)\n",
    "    * Inspecting available [WDC products and measurements](02_Products_and_measurements.ipynb)\n",
    "    * How to [load data from WDC](03_Loading_data.ipynb)\n",
    "    "
   ]
  },
  {
   "cell_type": "markdown",
   "id": "501d36b3",
   "metadata": {},
   "source": [
    "## Background\n",
    "Data visualisation is an important component of working with Earth Observation data.\n",
    "The `xarray` Python package provides a range of straightforward data plotting options that allow users to quickly generate simple plots from multi-dimensional datasets. \n",
    "To generate more complex and informative plots, the WDC Notebooks repository also provides a custom plotting module with additional easy-to-use functionality."
   ]
  },
  {
   "cell_type": "markdown",
   "id": "665c90da",
   "metadata": {},
   "source": [
    "## Description\n",
    "This introductory notebook demonstrates how to visualise WDC satellite data returned from running a datacube query.\n",
    "The notebook demonstrates commonly used `xarray` plotting methods, as well as custom functions provided in the `wales_utils.data_cube_utilities.display_tools` module.\n",
    "\n",
    "Topics covered in this notebook include:\n",
    "\n",
    "1. View an area of interest prior to querying the datacube\n",
    "2. Querying the datacube and loading data\n",
    "3. Plotting single band data (e.g. a single satellite band)\n",
    "    * Selecting and plotting individual timesteps\n",
    "    * Plotting multiple timesteps\n",
    "    * Customising plot appearance\n",
    "4. Plotting three-band true or false colour imagery\n",
    "    * Plotting single timesteps\n",
    "    * Plotting multiple timesteps\n",
    "    * Customising plot appearance\n",
    "\n",
    "***"
   ]
  },
  {
   "cell_type": "markdown",
   "id": "ebed1ecd",
   "metadata": {},
   "source": [
    "## Getting started\n",
    "To run this analysis, run all the cells in the notebook starting with the \"Load packages\" cell. For help with running notebook cells, refer back to the [Jupyter Notebooks notebook](01_Introduction_jupyter_notebooks.ipynb)."
   ]
  },
  {
   "cell_type": "markdown",
   "id": "7d8b2abe",
   "metadata": {},
   "source": [
    "### Load packages\n",
    "Load the `datacube` package to enable loading data, the `time` package to retrieve processing time, and a selection of custom WDC functions from the `wales_utils.data_cube_utilities.display_tools` module."
   ]
  },
  {
   "cell_type": "code",
   "execution_count": null,
   "id": "fb7b0cc3",
   "metadata": {},
   "outputs": [],
   "source": [
    "import sys\n",
    "sys.path.append(\"../wales_utils/data_cube_utilities\")\n",
    "\n",
    "import datacube\n",
    "from time import time as time\n",
    "\n",
    "from display_tools import map_extent, rgb"
   ]
  },
  {
   "cell_type": "markdown",
   "id": "afe2da50",
   "metadata": {},
   "source": [
    "### Connect to the datacube\n",
    "The next step is to connect to the datacube database.\n",
    "The resulting `dc` datacube object can then be used to load data.\n",
    "The `app` parameter is a unique name used to identify the notebook that does not have any effect on the analysis."
   ]
  },
  {
   "cell_type": "code",
   "execution_count": null,
   "id": "4441b3cd",
   "metadata": {},
   "outputs": [],
   "source": [
    "dc = datacube.Datacube(app=\"04_Plotting\")"
   ]
  },
  {
   "cell_type": "markdown",
   "id": "a680d68b",
   "metadata": {},
   "source": [
    "### Analysis parameters\n",
    "\n",
    "The following variables are required to establish a query for this notebook:\n",
    "- `lat_min`, `lat_max`: The latitude range to analyse (e.g. `(52.399, 52.423)`). For reasonable load times, keep this to a range of ~0.1 degrees or less.\n",
    "- `lon_min`, `lon_max`: The longitude range to analyse (e.g. `(-4.096, -4.060)`). For reasonable load times, keep this to a range of ~0.1 degrees or less.\n",
    "- `time_min`, `time_max`: The date range to analyse (e.g. `(\"2018-07-01\", \"2018-07-31\")`).\n"
   ]
  },
  {
   "cell_type": "code",
   "execution_count": null,
   "id": "60b6792f",
   "metadata": {},
   "outputs": [],
   "source": [
    "lon_min= -4.096\n",
    "lon_max= -4.060\n",
    "lat_min= 52.399\n",
    "lat_max= 52.423\n",
    "time_min= \"2018-07-01\"\n",
    "time_max= \"2018-07-31\""
   ]
  },
  {
   "cell_type": "markdown",
   "id": "8e27effa",
   "metadata": {},
   "source": [
    "## View the queried location\n",
    "Before running a query and extracting and analysing data, it is useful to double-check that your location is correct.\n",
    "The custom `map_extent()` function, available in the `WDC`, shows your selected area as a red rectangle on an interactive map (i.e., Open Street map and ESRI World Imagery).\n",
    "\n",
    "World Imagery provides very high resolution (one meter or better) satellite and aerial imagery in many parts of the world. For Wales, images are Maxar (Vivid) imagery, with a 0.50 meters resolution. "
   ]
  },
  {
   "cell_type": "code",
   "execution_count": null,
   "id": "6e893734",
   "metadata": {},
   "outputs": [],
   "source": [
    "map_extent(extent = (lon_min, lat_min, lon_max, lat_max))"
   ]
  },
  {
   "cell_type": "markdown",
   "id": "43b57e42",
   "metadata": {},
   "source": [
    "## Query and view data\n",
    "The variables specified above are used to load data from  the WDC datacube through the `dc.load()`, which was introduced in the [Loading data notebook](03_Loading_data.ipynb).\n",
    "This introduction will continue to use the `sen2_l2a_gcp` product, as used in the [Loading data notebook](03_Loading_data.ipynb)."
   ]
  },
  {
   "cell_type": "code",
   "execution_count": null,
   "id": "eb193379",
   "metadata": {},
   "outputs": [],
   "source": [
    "start_load= time()\n",
    "dataset = dc.load(product=\"sen2_l2a_gcp\",\n",
    "             x=(lon_min, lon_max),\n",
    "             y=(lat_min, lat_max),\n",
    "             time=(time_min, time_max),\n",
    "             output_crs= \"epsg:27700\",\n",
    "             resolution= (-10,10),\n",
    "             dask_chunks={\"y\" : 2048, \"x\" : 2048},)\n",
    "\n",
    "dataset = dataset/10000\n",
    "end_load= time()\n",
    "\n",
    "print(\"Datacube ready\")\n",
    "print(\"Took \" + str(round(end_load-start_load,2)) + \" seconds to request the data from datacube \\\n",
    "for the specified extent/period (i.e., \"+ str(len(dataset.time)*len(dataset.keys())) +\" images).\")\n",
    "\n",
    "dataset"
   ]
  },
  {
   "cell_type": "markdown",
   "id": "745f3d19",
   "metadata": {},
   "source": [
    "## Plotting single band images\n",
    "\n",
    "The `xarray` package provides built-in methods for plotting individual data variables or measurements.\n",
    "\n",
    "To do this, identify the measurement (i.e., band/variable) to plot.\n",
    "In this example, the `swir1` satellite band is used.\n",
    "To plot a single band, the data must be an `xarray.DataArray` (to revise the difference between `xarray.Dataset` and `xarray.DataArray` objects, refer back to the [Loading data](04_Loading_data.ipynb) notebook):"
   ]
  },
  {
   "cell_type": "code",
   "execution_count": null,
   "id": "02fe28dd",
   "metadata": {},
   "outputs": [],
   "source": [
    "dataset.swir1"
   ]
  },
  {
   "cell_type": "markdown",
   "id": "4b794ef9",
   "metadata": {},
   "source": [
    "### Selecting and plotting a single timestep\n",
    "The returned object header above specifies that `dataset.swir1` is a `xarray.DataArray` with 12 timesteps (i.e. `<xarray.DataArray 'swir1' (time: 12, y: 275, x: 253)>`).\n",
    "To make a plot for a single timestep only, select the desired timestep using one of the following options:\n",
    "\n",
    "1. `.isel()`: This stands for \"index selection\", which selects individual timesteps from a dataset based on the sequence of loaded timesteps. \n",
    "Counting in Python begins at 0, so to select the first timestep in the `xarray.DataArray` we can specify `.isel(time=0)`:"
   ]
  },
  {
   "cell_type": "code",
   "execution_count": null,
   "id": "a4ecf014",
   "metadata": {},
   "outputs": [],
   "source": [
    "first_timestep = dataset.swir1.isel(time=0)\n",
    "\n",
    "first_timestep"
   ]
  },
  {
   "cell_type": "markdown",
   "id": "705b3219",
   "metadata": {},
   "source": [
    "2. `.sel()`: This selects data using real-world coordinate labels like `time`. \n",
    "    For example, from the **Coordinates** section, the first timestep (i.e. 2nd July 2018) is selected from the `xarray.DataArray` by specifying `.sel(time='2018-07-02')`:"
   ]
  },
  {
   "cell_type": "code",
   "execution_count": null,
   "id": "22981f56",
   "metadata": {},
   "outputs": [],
   "source": [
    "first_timestep = dataset.swir1.sel(time='2018-07-02')\n",
    "\n",
    "first_timestep"
   ]
  },
  {
   "cell_type": "markdown",
   "id": "c478de2c",
   "metadata": {},
   "source": [
    "\n",
    "\n",
    "\n",
    "\n",
    "After selecting a timestep, the `.plot()` method can be used to display the chosen `swir1` data:"
   ]
  },
  {
   "cell_type": "code",
   "execution_count": null,
   "id": "71d651bb",
   "metadata": {},
   "outputs": [],
   "source": [
    "first_timestep.plot()"
   ]
  },
  {
   "cell_type": "markdown",
   "id": "ee86da76",
   "metadata": {},
   "source": [
    "### Plotting multiple timesteps\n",
    "It is often useful to produce plots for a single measurement across time, for example to compare change between satellite observations or summary datasets.\n",
    "To plot multiple images, skip the `.isel()` / `.sel()` step above and plot the entire `xarray.DataArray` directly. \n",
    "\n",
    "To plot multiple timesteps in one figure, it is necessary to instruct the `.plot()` function to put each timestep in a different column.\n",
    "This is done by specifying `.plot(col=\"time\")`:"
   ]
  },
  {
   "cell_type": "code",
   "execution_count": null,
   "id": "6a4d5bea",
   "metadata": {},
   "outputs": [],
   "source": [
    "dataset.swir1.plot(col=\"time\")"
   ]
  },
  {
   "cell_type": "markdown",
   "id": "f83f494d",
   "metadata": {},
   "source": [
    "\n",
    "> This kind of plotting is called \"facetted plotting\". For more information, refer to the [xarray documentation](http://xarray.pydata.org/en/stable/plotting.html#faceting)\n",
    "\n",
    "To specify the number of timesteps you can use the `col_wrap` argument as follows:"
   ]
  },
  {
   "cell_type": "code",
   "execution_count": null,
   "id": "0f24ac83",
   "metadata": {},
   "outputs": [],
   "source": [
    "dataset.swir1.plot(col=\"time\", col_wrap=4)"
   ]
  },
  {
   "cell_type": "markdown",
   "id": "d88c9771",
   "metadata": {},
   "source": [
    "### Customising plot appearance\n",
    "The plots above are dark and difficult to see clearly.\n",
    "To improve the appearance of `xarray` plots, use the `robust=True` argument to optimise the plot colours by clipping extreme values or outliers. \n",
    "This will use the 2nd and 98th percentiles of the data to compute the color limits:"
   ]
  },
  {
   "cell_type": "code",
   "execution_count": null,
   "id": "fa31a622",
   "metadata": {},
   "outputs": [],
   "source": [
    "dataset.swir1.plot(col=\"time\", col_wrap=4, robust=True)"
   ]
  },
  {
   "cell_type": "markdown",
   "id": "052d08a7",
   "metadata": {},
   "source": [
    "Plots can be further customised by adding custom colour maps/styles using the `cmap` parameter.\n",
    "\n",
    "When choosing a colour map for a plot, it is important to choose a set of colours that are perceived logically by the human eye. \n",
    "The best colour maps are \"perceptually uniform\": these colour maps increase logically from dark to light colours, where equal increases in lightness/darkness correspond to equal changes in data values. \n",
    "Some best-practice perceptually uniform colour maps include:\n",
    "\n",
    "```\n",
    "\"viridis\", \"plasma\", \"inferno\", \"magma\", \"cividis\"\n",
    "```\n",
    "\n",
    "> For further reading about perceptually uniform colour maps in data visualisation, refer to the [matplotlib documentation](https://matplotlib.org/3.1.0/tutorials/colors/colormaps.html)\n",
    "\n",
    "It is also important to consider colour blindness when selecting a colour map. \n",
    "`xarray` supports many colour maps from the \"colorbrewer\" family of colour maps which are optimised for colour blindness.\n",
    "You can use the interactive [online tool](http://colorbrewer2.org) to browse all available colour maps, or choose from one of the following commonly used options:\n",
    "\n",
    "```\n",
    "\"Greys\", \"Purples\", \"Blues\", \"Greens\", \"Oranges\", \"Reds\",\n",
    "\"YlOrBr\", \"YlOrRd\", \"OrRd\", \"PuRd\", \"RdPu\", \"BuPu\", \n",
    "\"GnBu\", \"PuBu\", \"YlGnBu\", \"PuBuGn\", \"BuGn\", \"YlGn\"\n",
    "```\n",
    "\n",
    "For a full list of available colour maps you can refer to [this list](https://matplotlib.org/3.1.0/tutorials/colors/colormaps.html).\n",
    "\n",
    "The example cell below plots the data with the perceptually uniform `magma` colour map:\n"
   ]
  },
  {
   "cell_type": "code",
   "execution_count": null,
   "id": "ae162c3a",
   "metadata": {},
   "outputs": [],
   "source": [
    "dataset.swir1.plot(col=\"time\", col_wrap=4, robust=True, cmap=\"magma\")"
   ]
  },
  {
   "cell_type": "markdown",
   "id": "94d1d9e0",
   "metadata": {},
   "source": [
    "## Plotting true or false colour RGB images\n",
    "Although `xarray` makes it easy to plot single band images, plotting a three band colour photo-like image is less straightforward.\n",
    "\n",
    "To make this easier, Living Wales provides a custom `rgb()` function that is designed for plotting three band images.\n",
    "The `rgb()` function maps three data variables/measurements from the loaded dataset to the red, green and blue channels that are used to make a three-colour image.\n",
    "\n",
    "Providing the `red`, `green` and `blue` measurements from a dataset will produce a true colour image (i.e., how humans view the landscape).\n",
    "Providing `nir`, `red` and `green` measurements or any other set of three satellite bands from a dataset will produce a false colour image.\n",
    "\n",
    "> [Learn more about colour rendering](https://en.wikipedia.org/wiki/False_color#True_color).\n",
    "\n",
    "Hence, the `rgb()` function can be used to visualise the data returned by a query.\n",
    "It requires the minimum input of:\n",
    "\n",
    "* `ds:` The `xarray.Dataset` object\n",
    "* `bands:` Three bands for display (these must be measurements found in the dataset) \n",
    "* `index:` The timestep to view, default is `0`\n",
    "\n",
    "### Plotting a single timestep\n",
    "\n",
    "The time dimension of an `xarray.Dataset` describes how many timesteps exist for the loaded data.\n",
    "In the `rgb()` function, the `index` variable is asking for which timesteps to view (similar to the `isel()` example above).\n",
    "Remember: counting in Python begins at 0 so to view the earliest timesteps set `index=0`.\n",
    "\n",
    "> *Hint*: To get the last image, you can use a time step value of `-1`"
   ]
  },
  {
   "cell_type": "code",
   "execution_count": null,
   "id": "43c5f20d",
   "metadata": {},
   "outputs": [],
   "source": [
    "# View a red, green, blue (true colour) image of the first timestep\n",
    "rgb(dataset, bands=[\"red\", \"green\", \"blue\"], index=0, robust=True)"
   ]
  },
  {
   "cell_type": "markdown",
   "id": "f2cf377d",
   "metadata": {},
   "source": [
    "It is possible to change the input bands to plot a false colour image, which can provide different insights in a landscape.\n",
    "The false colour band combination (`swir1`, `nir`, `green`) emphasises growing vegetation in green, and water in deep blue/black:"
   ]
  },
  {
   "cell_type": "code",
   "execution_count": null,
   "id": "4621037d",
   "metadata": {},
   "outputs": [],
   "source": [
    "# View a swir1, nir, green (false colour) image of the first timestep\n",
    "rgb(dataset, bands=['swir1', 'nir', 'green'], index=0, robust=True)"
   ]
  },
  {
   "cell_type": "markdown",
   "id": "9dd90c98",
   "metadata": {},
   "source": [
    "### Plotting multiple timesteps\n",
    "As discussed in the [single band example above](#Plotting-multiple-timesteps), it can be useful to visualise multiple timesteps in a single plot (e.g. to compare change over time).\n",
    "\n",
    "The `rgb()` function can also do this, as long as a list of timesteps to view is provided to the `index` argument, e.g. `index=[X1, X2, ...]`.\n",
    "The example cell below plots the first and sixth image in the dataset using `index=[0, 5]` (remembering that counting in Python starts at 0):"
   ]
  },
  {
   "cell_type": "code",
   "execution_count": null,
   "id": "0f72addb",
   "metadata": {},
   "outputs": [],
   "source": [
    "# View a true colour image for the first and sixth timesteps\n",
    "rgb(dataset, bands=['red', 'green', 'blue'], index=[0, 5], robust=True)"
   ]
  },
  {
   "cell_type": "code",
   "execution_count": null,
   "id": "a97f56b6",
   "metadata": {},
   "outputs": [],
   "source": [
    "# Plot all timesteps in the dataset\n",
    "rgb(dataset, bands=['red', 'green', 'blue'], col=\"time\", robust=True)"
   ]
  },
  {
   "cell_type": "markdown",
   "id": "256fe4ea",
   "metadata": {},
   "source": [
    "### Customising plot appearance\n",
    "By default, `rgb()` generates plots with `robust=True` to improve the appearance of the images by clipping out the darkest and brightest 2% of pixels, using the 2nd and 98th percentiles of the data to compute the colour limits\n",
    "\n",
    "If this default provides poor results, the plot's colour stretch can be customised using the `percentile_stretch` parameter. \n",
    "This clips the most extreme minimum and maximum values in the dataset, improving the contrast and appearance of the plot.\n",
    "\n",
    "For example, specifying `percentile_stretch=[0.02, 0.6]` will clip out the darkest and brightest 2% and 40% of pixels, respectively:"
   ]
  },
  {
   "cell_type": "code",
   "execution_count": null,
   "id": "a8b30ae8",
   "metadata": {},
   "outputs": [],
   "source": [
    "rgb(dataset, bands=['red', 'green', 'blue'], col=\"time\", percentile_stretch=[0.02, 0.6])"
   ]
  },
  {
   "cell_type": "markdown",
   "id": "56dad381-62c4-475c-bd9d-c3e9dbccfca9",
   "metadata": {},
   "source": [
    "## Recommended next steps\n",
    "\n",
    "For more advanced information about working with Jupyter Notebooks or JupyterLab, see the [JupyterLab documentation](https://jupyterlab.readthedocs.io/en/stable/user/notebook.html).\n",
    "\n",
    "To continue working through the notebooks in this beginner's guide, the following notebooks are designed to be worked through in the following order:\n",
    "\n",
    "1. **[Introduction to jupyter Notebooks](01_Introduction_jupyter_notebooks.ipynb)**\n",
    "2. **[Products and measurements](02_Products_and_measurements.ipynb)**\n",
    "3. **[Loading data in WDC](03_Loading_data.ipynb)**\n",
    "4. **Plotting (this notebook)**\n",
    "5. **[Using Sentinel-2 data](05_Using_Sentinel2_data.ipynb)**\n",
    "6. **[Calculating band indices](06_Calculating_band_indices.ipynb)**\n",
    "7. **[Generating composites](07_Generating_composites.ipynb)**\n",
    "8. **[Zonal_statistics](08_Zonal_statistics.ipynb)**\n",
    "\n",
    "\n",
    "Once you have worked through the beginner's guide, you can explore the \"Case Studies\" directory, which provides examples of applications within Wales Open Data Cube."
   ]
  },
  {
   "cell_type": "code",
   "execution_count": null,
   "id": "4cfbdfcb-134e-4334-8683-4d8338217e7f",
   "metadata": {},
   "outputs": [],
   "source": []
  }
 ],
 "metadata": {
  "kernelspec": {
   "display_name": "Python 3 (ipykernel)",
   "language": "python",
   "name": "python3"
  },
  "language_info": {
   "codemirror_mode": {
    "name": "ipython",
    "version": 3
   },
   "file_extension": ".py",
   "mimetype": "text/x-python",
   "name": "python",
   "nbconvert_exporter": "python",
   "pygments_lexer": "ipython3",
   "version": "3.11.6"
  }
 },
 "nbformat": 4,
 "nbformat_minor": 5
}
