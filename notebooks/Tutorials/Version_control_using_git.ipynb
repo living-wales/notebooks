{
 "cells": [
  {
   "cell_type": "markdown",
   "metadata": {},
   "source": [
    "# Version Control Using Git\n",
    "\n",
    "Managing your code effectively is good practise and ensures traceability and enables efficient sharing of your code. This notebook will guide you through the setup process and introduce some key concepts to allow you to use git for version control. "
   ]
  },
  {
   "cell_type": "markdown",
   "metadata": {},
   "source": []
  }
 ],
 "metadata": {
  "language_info": {
   "name": "python"
  }
 },
 "nbformat": 4,
 "nbformat_minor": 2
}
