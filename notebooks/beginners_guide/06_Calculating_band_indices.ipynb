{
 "cells": [
  {
   "cell_type": "markdown",
   "id": "4835415d",
   "metadata": {},
   "source": [
    "# Calculating band indices <img align=\"right\" src=\"../img/LivingWales_logo.png\" width=\"190\" height=\"200\">\n",
    "\n",
    "\n",
    "* **Compatibility:** Notebook currently compatible with the `WDC` environment\n",
    "* **Products used:** `sen2_l2a_gcp`"
   ]
  },
  {
   "cell_type": "markdown",
   "id": "b0e31d00",
   "metadata": {},
   "source": [
    "## Background\n",
    "Remote sensing indices are combinations of spectral bands used to highlight features in the data and the underlying landscape.\n",
    "Using Wales Open Data Cube's archive of analysis-ready satellite data, we can easily calculate a wide range of remote sensing indices that can be used to assist in mapping and monitoring features like vegetation and water consistently through time.\n"
   ]
  },
  {
   "cell_type": "markdown",
   "id": "aab842fd",
   "metadata": {},
   "source": [
    "## Description\n",
    "This notebook demonstrates how to:\n",
    " \n",
    "* Calculate an index manually using `xarray`\n",
    "* Calculate one or multiple indices using the function `calculate_indices` from `wdc_bandindices`\n",
    "* Calculate indices while dropping original bands from a dataset\n",
    " \n",
    "***"
   ]
  },
  {
   "cell_type": "markdown",
   "id": "1223f9fd",
   "metadata": {},
   "source": [
    "## Getting started\n",
    "To run this analysis, run all the cells in the notebook starting with the \"Load packages\" cell. For help with running notebook cells, refer back to the [Jupyter Notebooks notebook](01_Introduction_jupyter_notebooks.ipynb)."
   ]
  },
  {
   "cell_type": "code",
   "execution_count": null,
   "id": "0bc76f0b",
   "metadata": {
    "tags": []
   },
   "outputs": [],
   "source": [
    "import sys\n",
    "\n",
    "sys.path.append(\"../wales_utils/data_cube_utilities\")\n",
    "\n",
    "import datacube\n",
    "from time import time as time\n",
    "\n",
    "from display_tools import rgb\n",
    "from wdc_datahandling import cleaning_s2, cloud_coverage\n",
    "from wdc_bandindices import calculate_indices"
   ]
  },
  {
   "cell_type": "markdown",
   "id": "fb6a36e2",
   "metadata": {},
   "source": [
    "### Connect to the datacube\n",
    "The next step is to connect to the datacube database.\n",
    "The resulting `dc` datacube object can then be used to load data.\n",
    "The `app` parameter is a unique name used to identify the notebook that does not have any effect on the analysis."
   ]
  },
  {
   "cell_type": "code",
   "execution_count": null,
   "id": "403f84c7",
   "metadata": {
    "tags": []
   },
   "outputs": [],
   "source": [
    "dc = datacube.Datacube(app=\"Calculating_band_indices\")"
   ]
  },
  {
   "cell_type": "markdown",
   "id": "4260c49d",
   "metadata": {},
   "source": [
    "## Create a query and load satellite data\n",
    "To demonstrate how to compute a remote sensing index, we first need to load in a time series of satellite data for an area. \n",
    "We will use data from the Sentinel-2 satellite:"
   ]
  },
  {
   "cell_type": "code",
   "execution_count": null,
   "id": "43d41d21",
   "metadata": {},
   "outputs": [],
   "source": [
    "# Create a reusable query with coordinates indicated in EPSG:27700 CRS.\n",
    "query = {\n",
    "    \"crs\": \"EPSG:27700\",\n",
    "    \"x\": (195670, 199780),\n",
    "    \"y\": (193630, 196810),\n",
    "    \"time\": (\"2020-06\", \"2020-10\"),\n",
    "    \"measurements\": [\"blue\", \"green\", \"red\", \"nir\", \"scl\"],\n",
    "    \"output_crs\": \"EPSG:27700\",\n",
    "    \"resolution\": (-10, 10),\n",
    "    \"dask_chunks\": {\"y\": 2048, \"x\": 2048},\n",
    "}\n",
    "\n",
    "start_load = time()\n",
    "\n",
    "# Load available data from Sentinel-2 using the query dictionnary\n",
    "dataset = dc.load(product=\"sen2_l2a_gcp\", **query)\n",
    "\n",
    "end_load = time()\n",
    "\n",
    "print(\"Datacube ready\")\n",
    "print(\n",
    "    \"Took \"\n",
    "    + str(round(end_load - start_load, 2))\n",
    "    + \" seconds to request \"\n",
    "    + str(len(dataset.time) * len(dataset.keys()))\n",
    "    + \" images from WDC for the specified extent/period.\"\n",
    ")"
   ]
  },
  {
   "cell_type": "markdown",
   "id": "9400e1a6",
   "metadata": {},
   "source": [
    "## Clean Sentinel-2 data\n",
    "\n",
    "Within `WDC`, Sentinel-2 data are provided with same format as on the EODataDown platform (i.e., with `scl` cloud mask in a separate layer and a scaling factor of 10,000). \n",
    "\n",
    "In the next cell, we clean the Sentinel-2 data (i.e., cloud masking and reflectance normalisation) using one of the custom `WDC` libraries developed by Living Wales (`cleaning_s2()`) and drop timesteps which contain less than 20% of cloud-free area, see the [Sentinel2 data](05_Using_Sentinel2_data.ipynb) notebook for more explanations. "
   ]
  },
  {
   "cell_type": "code",
   "execution_count": null,
   "id": "e6184569",
   "metadata": {},
   "outputs": [],
   "source": [
    "# Let's clean the Sentinel-2 dataset (i.e., cloud masking and reflectance normalisation)\n",
    "dataset_clean = cleaning_s2(dataset)\n",
    "\n",
    "# Calculate the cloud coverage (%) for each date\n",
    "cloud_percentage = cloud_coverage(dataset_clean)\n",
    "\n",
    "# Create a mask of images with less than 20% cloud cover\n",
    "cloud_mask = cloud_percentage <= 20\n",
    "cloud_mask = cloud_mask.compute()\n",
    "\n",
    "# Apply the mask, dropping images with > 20% cloud cover (note this may take a couple of minutes to run)\n",
    "dataset_2use = dataset_clean.where(cloud_mask, drop=True)\n",
    "\n",
    "dataset_2use"
   ]
  },
  {
   "cell_type": "markdown",
   "id": "f777b5bd",
   "metadata": {},
   "source": [
    "### Plot the first image to see what our area looks like\n",
    "We can use the `rgb` function to plot the first timestep in our dataset as a true colour RGB image:"
   ]
  },
  {
   "cell_type": "code",
   "execution_count": null,
   "id": "75349a19",
   "metadata": {},
   "outputs": [],
   "source": [
    "rgb(dataset_2use, index=0, robust=True)"
   ]
  },
  {
   "cell_type": "markdown",
   "id": "b4553a35",
   "metadata": {},
   "source": [
    "## Calculate an index for this area manually\n",
    "One of the most commonly used remote sensing indices is the Normalised Difference Vegetation Index or `NDVI`. \n",
    "This index uses the ratio of the red and near-infrared (NIR) bands to identify live green vegetation.\n",
    "The formula for NDVI is:\n",
    "\n",
    "$$\n",
    "\\begin{aligned}\n",
    "\\text{NDVI} & = \\frac{(\\text{NIR} - \\text{Red})}{(\\text{NIR} + \\text{Red})} \\\\\n",
    "\\end{aligned}\n",
    "$$\n",
    "\n",
    "When interpreting this index, high values indicate vegetation, and low values indicate soil or water."
   ]
  },
  {
   "cell_type": "code",
   "execution_count": null,
   "id": "50789c60",
   "metadata": {},
   "outputs": [],
   "source": [
    "# Calculate NDVI using the formula above\n",
    "dataset_2use['ndvi'] = (dataset_2use.nir - dataset_2use.red) / (dataset_2use.nir + dataset_2use.red)\n",
    "\n",
    "dataset_2use"
   ]
  },
  {
   "cell_type": "code",
   "execution_count": null,
   "id": "80259dad-e7ad-400c-b8a4-8f11ed322f60",
   "metadata": {},
   "outputs": [],
   "source": [
    "# Plot the results for one time step to see what they look like:\n",
    "dataset_2use.ndvi.isel(time=0).plot(vmin=-1, vmax=1, cmap='RdYlGn');"
   ]
  },
  {
   "cell_type": "markdown",
   "id": "668c073b",
   "metadata": {},
   "source": [
    "## Calculate an index for the same area using the `WDC`  `calculate_indices` function\n",
    "\n",
    "The `calculate_indices` function provides an easier way to calculate a wide range of remote sensing indices, including:\n",
    "\n",
    "- **ARI** (Anthocyanin reflectance index, Gitelson et al. 2009)\n",
    "- **AWEI_ns** (Automated Water Extraction Index - no shadows, Feyisa 2014)\n",
    "- **AWEI_sh** (Automated Water Extraction Index - shadows, Feyisa 2014)\n",
    "- **BAEI** (Built-Up Area Extraction Index, Bouzekri et al. 2015)\n",
    "- **BAI** (Burn Area Index, Martin 1998)\n",
    "- **BSI** (Bare Soil Index, Rikimaru et al. 2002)\n",
    "- **BUI** (Built-Up Index, He et al. 2010)\n",
    "- **CIg** (Chlorophyll Index - green, Gitelson et al. 2005)\n",
    "- **CIre** (Chlorophyll Index - red edge, Gitelson et al. 2005)\n",
    "- **CMR** (Clay Minerals Ratio, Drury 1987)\n",
    "- **EVI** (Enhanced Vegetation Index, Huete 2002)\n",
    "- **FMR** (Ferrous Minerals Ratio, Segal 1982)\n",
    "- **GNDVI** (Green Normalised Difference Vegetation Index, Gitelson and Merzlyak 1998)\n",
    "- **IOR** (Iron Oxide Ratio, Segal 1982)\n",
    "- **IRECI** (Inverted Red-Edge Chlorophyll Index, Clevers et al. 2000)\n",
    "- **LAI** (Leaf Area Index, Boegh 2002)\n",
    "- **MCARI2** (Modified Chlorophyll Absorption in Reflectance Index 2, Haboudane et al. 2004)\n",
    "- **MNDWI** (Modified Normalised Difference Water Index, Xu 1996)\n",
    "- **MSAVI** (Modified Soil Adjusted Vegetation Index, Qi et al. 1994)\n",
    "- **MSI** (Moisture Stress Index, )\n",
    "- **NBI** (New Built-Up Index, Jieli et al. 2010)\n",
    "- **NBR** (Normalised Burn Ratio, Lopez Garcia 1991)\n",
    "- **NDBI** (Normalised Difference Built-Up Index, Zha 2003)\n",
    "- **NDCI** (Normalised Difference Chlorophyll Index, Mishra & Mishra, 2012)\n",
    "- **NDMI** (Normalised Difference Moisture Index, Gao 1996)        \n",
    "- **NDSI** (Normalised Difference Snow Index, Hall 1995)\n",
    "- **NDTI** (Normalise Difference Tillage Index, Van Deventeret et al. 1997)\n",
    "- **NDVI** (Normalised Difference Vegetation Index, Rouse 1973)\n",
    "- **NDWI** (Normalised Difference Water Index, McFeeters 1996)\n",
    "- **PSRI** (Plant Senescence Reflectance Index, Merzlyak et al. 1999)\n",
    "- **SAVI** (Soil Adjusted Vegetation Index, Huete 1988)\n",
    "- **S2REP** (Sentinel2 Red Edge Position, Frampton et al. 2013)\n",
    "- **TCB** (Tasseled Cap Brightness, Crist 1985)\n",
    "- **TCG** (Tasseled Cap Greeness, Crist 1985)\n",
    "- **TCW** (Tasseled Cap Wetness, Crist 1985)        \n",
    "- **TCB_GSO** (Tasseled Cap Brightness, Nedkov 2017)\n",
    "- **TCG_GSO** (Tasseled Cap Greeness, Nedkov 2017)\n",
    "- **TCW_GSO** (Tasseled Cap Wetness, Nedkov 2017)\n",
    "- **VARIg** (Vegetation Index Green, Gitelson et al. 2002)\n",
    "- **WDRVI** (Wide Dynamic Range Vegetation Index, Peng and Gitelson, 2011)\n",
    "- **WI** (Water Index, Fisher 2016)\n",
    "- **kNDVI** (Non-linear Normalised Difference Vegation Index, Camps-Valls et al. 2021)\n"
   ]
  },
  {
   "cell_type": "markdown",
   "id": "b25c2800",
   "metadata": {},
   "source": [
    "### Using `calculate_indices`, we get the same result:"
   ]
  },
  {
   "cell_type": "code",
   "execution_count": null,
   "id": "3d06b3f8",
   "metadata": {},
   "outputs": [],
   "source": [
    "# Calculate NDVI using `calculate indices`\n",
    "dataset_ndvi = calculate_indices(dataset_2use, index='NDVI', platform='SENTINEL_2')\n",
    "\n",
    "dataset_ndvi"
   ]
  },
  {
   "cell_type": "markdown",
   "id": "1f5cfd7f",
   "metadata": {},
   "source": [
    "> **Note 1**: when using the `calculate_indices` function, you will have `WARNING` message(s). This simply a reminder as some coefficient-based indices (e.g. 'WI', 'BAEI', 'AWEI_ns', 'AWEI_sh', 'TCW', 'TCG', 'TCB', 'TCW_GSO', 'TCG_GSO', 'TCB_GSO', 'EVI', 'LAI', 'SAVI', 'MSAVI') produce different results if surface reflectance values are not scaled between 0.0 and 1.0 prior to calculating the index. When using the `cleaning_s2()` function, reflectances are normalised (i.e., 0.0-1.0); so the issue does not apply here. When not using `cleaning_s2()` function, please add `normalise=True`. To ignore warning messages, add `quiet=True`.\n",
    "\n",
    "> **Note 2**: when using the `calculate_indices` function, it is important to set the `platform` parameter correctly. \n",
    "This is because Landsat(5-8) and Sentinel-2 satellite sensors may use different names for the same bands.\n"
   ]
  },
  {
   "cell_type": "code",
   "execution_count": null,
   "id": "84df750d-87f4-4adb-ac78-e36d87dde8bc",
   "metadata": {},
   "outputs": [],
   "source": [
    "# Plot the results \n",
    "dataset_ndvi.NDVI.isel(time=0).plot(vmin=-1, vmax=1, cmap='RdYlGn')"
   ]
  },
  {
   "cell_type": "markdown",
   "id": "3ec042bd",
   "metadata": {},
   "source": [
    "### Using calculate_indices to calculate multiple indices at once\n",
    "The `calculate_indices` function makes it straightforward to calculate multiple remote sensing indices in one line of code.\n",
    "\n",
    "In the example below, we will calculate `NDVI` as well as two common water indices: the Normalised Difference Water Index (`NDWI`), and the Soil Adjusted Vegetation Index (`SAVI`).\n",
    "The new indices will appear in the list of `data_variables` below:"
   ]
  },
  {
   "cell_type": "code",
   "execution_count": null,
   "id": "ffd160a6",
   "metadata": {},
   "outputs": [],
   "source": [
    "# Calculate multiple indices\n",
    "ds_multi = calculate_indices(dataset_2use, index=['NDVI', 'NDWI', 'SAVI'], platform='SENTINEL_2',\n",
    "                            quiet=True)\n",
    "ds_multi"
   ]
  },
  {
   "cell_type": "markdown",
   "id": "dc17047d",
   "metadata": {},
   "source": [
    "### Dropping original bands from a dataset\n",
    "We can also drop the original satellite bands from the dataset using `drop=True`. \n",
    "The dataset produced below should now only include the new `'NDVI', 'NDWI', 'SAVI'` bands under `data_variables`:"
   ]
  },
  {
   "cell_type": "code",
   "execution_count": null,
   "id": "f563bac5",
   "metadata": {},
   "outputs": [],
   "source": [
    "# Calculate multiple indices and drop original bands\n",
    "ds_drop = calculate_indices(dataset_2use, \n",
    "                            index=['NDVI', 'NDWI', 'SAVI'], \n",
    "                            drop=True, \n",
    "                            platform='SENTINEL_2',\n",
    "                            quiet=True)\n",
    "ds_drop"
   ]
  },
  {
   "cell_type": "code",
   "execution_count": null,
   "id": "764ba661",
   "metadata": {},
   "outputs": [],
   "source": [
    "# This is the simplest way to plot\n",
    "# Note that high values are likely to be vegetation.\n",
    "print(\"Plotting ...\")\n",
    "print(\"(Please wait until images appear. This may take a few seconds)\")\n",
    "\n",
    "ds_drop.NDWI.plot(col=\"time\", col_wrap=6, cmap=\"RdYlBu\");"
   ]
  },
  {
   "cell_type": "markdown",
   "id": "e8afe75d-b1f8-43f2-9de9-c1d70a883553",
   "metadata": {},
   "source": [
    "## Recommended next steps\n",
    "\n",
    "For more advanced information about working with Jupyter Notebooks or JupyterLab, see the [JupyterLab documentation](https://jupyterlab.readthedocs.io/en/stable/user/notebook.html).\n",
    "\n",
    "To continue working through the notebooks in this beginner's guide, the following notebooks are designed to be worked through in the following order:\n",
    "\n",
    "1. **[Introduction to jupyter Notebooks](01_Introduction_jupyter_notebooks.ipynb)**\n",
    "2. **[Products and measurements](02_Products_and_measurements.ipynb)**\n",
    "3. **[Loading data in WDC](03_Loading_data.ipynb)**\n",
    "4. **[Plotting](04_Plotting.ipynb)**\n",
    "5. **[Using Sentinel-2 data](05_Using_Sentinel2_data.ipynb)**\n",
    "6. **Calculating band indices (this notebook)**\n",
    "7. **[Generating composites](07_Generating_composites.ipynb)**\n",
    "8. **[Zonal_statistics](08_Zonal_statistics.ipynb)**\n",
    "\n",
    "\n",
    "Once you have worked through the beginner's guide, you can explore the \"Case Studies\" directory, which provides examples of applications within Wales Open Data Cube."
   ]
  },
  {
   "cell_type": "code",
   "execution_count": null,
   "id": "c40fdb6b-2818-47b3-94c0-302b110076cc",
   "metadata": {},
   "outputs": [],
   "source": []
  }
 ],
 "metadata": {
  "kernelspec": {
   "display_name": "Python 3 (ipykernel)",
   "language": "python",
   "name": "python3"
  },
  "language_info": {
   "codemirror_mode": {
    "name": "ipython",
    "version": 3
   },
   "file_extension": ".py",
   "mimetype": "text/x-python",
   "name": "python",
   "nbconvert_exporter": "python",
   "pygments_lexer": "ipython3",
   "version": "3.11.6"
  }
 },
 "nbformat": 4,
 "nbformat_minor": 5
}
