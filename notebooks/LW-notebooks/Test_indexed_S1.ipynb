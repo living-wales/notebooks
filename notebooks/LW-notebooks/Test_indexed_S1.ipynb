{
 "cells": [
  {
   "cell_type": "code",
   "execution_count": null,
   "metadata": {},
   "outputs": [],
   "source": [
    "# Import modules\n",
    "\n",
    "# reload module before executing code\n",
    "%load_ext autoreload\n",
    "%autoreload 2\n",
    "\n",
    "# define modules locations (you might have to adapt define_mod_locs.py)\n",
    "%run ../swiss_utils/define_mod_locs.py\n",
    "\n",
    "# to plot figures\n",
    "%matplotlib inline\n",
    "\n",
    "import pandas as pd\n",
    "\n",
    "from datetime import datetime\n",
    "\n",
    "from utils.data_cube_utilities.dc_mosaic import create_hdmedians_multiple_band_mosaic\n",
    "\n",
    "from swiss_utils.data_cube_utilities.sdc_utilities import create_slc_clean_mask\n",
    "from swiss_utils.data_cube_utilities.sdc_advutils import composite_fig\n",
    "\n",
    "import datacube\n",
    "dc = datacube.Datacube()"
   ]
  },
  {
   "cell_type": "markdown",
   "metadata": {},
   "source": [
    "The next cell contains the dataset configuration information:\n",
    "- platform and product (**for this demo SENTINEL 1 data are required**)\n",
    "- geographical extent\n",
    "- time period\n",
    "- measurements (**for this demo VV, VH and VVVH measurements are required**)\n",
    "\n",
    "You can generate it in three ways:\n",
    "1. manually from scratch,\n",
    "2. by manually copy/pasting the final cell content of the [config_tool_indexed](config_tool_indexed.ipynb) notebook,\n",
    "3. by loading the final cell content of the [config_tool_indexed](config_tool_indexed.ipynb) notebook using the magic `# %load config_cell.txt`.\n",
    "\n",
    "**Once the %load ran, you need to re-run the cell to set the configuration variables.**"
   ]
  },
  {
   "cell_type": "code",
   "execution_count": null,
   "metadata": {},
   "outputs": [],
   "source": [
    "%load config_cell.txt"
   ]
  },
  {
   "cell_type": "code",
   "execution_count": null,
   "metadata": {},
   "outputs": [],
   "source": [
    "# Let's load and clean a demo dasatet\n",
    "\n",
    "dataset_in = dc.load(platform = platform, product = product,\n",
    "                         time = (start_date, end_date),\n",
    "                         lon = (min_lon, max_lon),\n",
    "                         lat = (min_lat, max_lat),\n",
    "                         measurements = measurements,\n",
    "                         output_crs = 'epsg:27700', resolution = (-10,10))\n",
    "# the two last arguments are not mandatory as they are included in the product description\n",
    "# but it's nice to keep them to keep an eye on data representation\n",
    "\n",
    "# define nodata\n",
    "dataset_in = dataset_in.where(dataset_in != -9999)\n",
    "\n",
    "# When using epsg other than 4326, latitude and longitude are renames y and x.\n",
    "# Let's correct that then the notebook run more smoothly\n",
    "dataset_in = dataset_in.rename({'x': 'longitude', 'y': 'latitude'})"
   ]
  },
  {
   "cell_type": "code",
   "execution_count": null,
   "metadata": {},
   "outputs": [],
   "source": [
    "# Display the first scene as a RGB composite\n",
    "\n",
    "composite_fig(dataset_in.isel(time = 0),\n",
    "              bands = ['VV', 'VH', 'VVVH'],\n",
    "              hist_str = 'contr',\n",
    "              title = f\"VV,VH,VVVH composite {pd.to_datetime(str(dataset_in.isel(time=0).time.values)).strftime('%Y.%m.%d')}\",\n",
    "              max_size = 16)"
   ]
  },
  {
   "cell_type": "code",
   "execution_count": null,
   "metadata": {},
   "outputs": [],
   "source": []
  }
 ],
 "metadata": {
  "kernelspec": {
   "display_name": "Python 3",
   "language": "python",
   "name": "python3"
  },
  "language_info": {
   "codemirror_mode": {
    "name": "ipython",
    "version": 3
   },
   "file_extension": ".py",
   "mimetype": "text/x-python",
   "name": "python",
   "nbconvert_exporter": "python",
   "pygments_lexer": "ipython3",
   "version": "3.6.7"
  }
 },
 "nbformat": 4,
 "nbformat_minor": 2
}
