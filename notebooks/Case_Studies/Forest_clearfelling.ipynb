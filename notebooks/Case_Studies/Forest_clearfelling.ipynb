{
 "cells": [
  {
   "cell_type": "markdown",
   "id": "9ab77397",
   "metadata": {
    "deletable": true,
    "editable": true
   },
   "source": [
    "# Monitoring forest clearfelling in Wales"
   ]
  },
  {
   "cell_type": "markdown",
   "id": "a893d581",
   "metadata": {
    "deletable": true,
    "editable": true
   },
   "source": [
    "## Background"
   ]
  },
  {
   "cell_type": "markdown",
   "id": "994c13e0",
   "metadata": {
    "deletable": true,
    "tags": []
   },
   "source": [
    "### Clearfelling in Wales\n",
    "Wales is one of the least wooded countries in Europe, with woodland covering only 15% of the land area, compared to the European average of 38% (Welsh Government, 2018). In 2018, Welsh Government published the latest version of Woodlands for Wales.The 50-year strategy outlines Welsh Government’s vision and targets for Wales’ trees, woodlands and forest and aims to ensure high-quality woodlands that: \n",
    "- Enhance the landscape,\n",
    "- Are appropriate to local conditions,\n",
    "- Have a diverse mixture of species and habitats.\n",
    "\n",
    "In 2017 (Natural Resources Wales, 2017), the vast majority of managed woodlands were reported as:\n",
    "- Planted single species, \n",
    "- Single aged (over half is coniferous),\n",
    "- Predominantly manged on clearfell & restock regime. \n",
    "\n",
    "\n",
    "\n",
    "To increase the diversity of woodlands, the range of silvicultural systems currently used by managers needs to widen.\n",
    "Typically, forests managed solely by a clearfell silvicultural system are characterised by poor structural diversity with uniform aged crops, limited or no diversity of structure within a stand and sometimes whole forest blocks using\n",
    "the same system. In contrast, forests managed using one or more of the range of Low Impact Silvicultural Systems (LISS) tend to be more structurally diverse, and therefore more resilient.\n",
    "\n",
    "One of the objectives of the Woodlands for Wales strategy is to reduce the amount of clearfelling and increase the use of LISS. Therefore, monitoring clearfelling and condition of forests is important to show sucess of the Woodlands for Wales strategy."
   ]
  },
  {
   "cell_type": "markdown",
   "id": "ec42d617",
   "metadata": {
    "deletable": true,
    "editable": true
   },
   "source": [
    "![Image of Yaktocat](https://i.guim.co.uk/img/media/08dd74abf49c450818eae10853155cc6ae450604/0_0_6000_4000/master/6000.jpg?width=700&quality=85&auto=format&fit=max&s=545b3dbc65ccb322efef78a35c6c779e)\n",
    "         \n",
    "                  Clearfelled Sitka spruce. Photograph: Tom Allan"
   ]
  },
  {
   "cell_type": "markdown",
   "id": "db5835ef",
   "metadata": {
    "deletable": true,
    "tags": []
   },
   "source": [
    "## Description\n",
    "This notebook demonstrates how the new Wales Open Data Cube (`WDC`) allows to quickly analyse multiple years of nearly daily Sentinel-1 Synthetic Aperture Radar (SAR) data, to monitor forest clearfelling. \n",
    "\n",
    "By comparison with optical sensors, that are mainly sensitive to colour and chemistry, SAR data are stronly correlated to height and texture. Moreover, SAR data have the advantage of operating at wavelengths not impeded by cloud cover, illumination or weather conditions, allowing to monitor forests during the whole year, including during winter period. \n",
    "\n",
    "The Living Wales project has faciliated the generation of national annual land cover maps (2017-2021), but is also actively involved in the development of a new digital infrastructure for Wales that provides Sentinel-1 data in an Analysis Ready Data (ARD) format. The data are processed to a minimum set of requirements and organized into a form that allows immediate analysis with minimum additional user effort.\n",
    "\n",
    "This notebook uses the Sentinel-1 Analyis Ready Data (ARD), as well as a customed python library, to map forest and clearfelling using algorithms developed through the Living Wales project.\n",
    "\n",
    "\n",
    "Topics include: \n",
    "\n",
    "1. Querying data for an area and period of interest (i.e., 01 Jan 2017 - 12 Dec 2021)\n",
    "2. Loading data from datacube\n",
    "3. Mapping forest areas\n",
    "4. Mapping annual clearfells\n",
    "5. Mapping the extent and date of clearfells for the whole period\n",
    "6. Automatised reporting on clearfells for a period and area of interest\n",
    "\n"
   ]
  },
  {
   "cell_type": "markdown",
   "id": "423785b9",
   "metadata": {
    "deletable": true,
    "tags": []
   },
   "source": [
    "### Jupyter Notebooks\n",
    "#### Running (executing) a cell\n",
    "Jupyter Notebooks allow code to be separated into sections that can be executed independent of one another.\n",
    "These sections are called \"cells\".\n",
    "\n",
    "The python code is written into individual cells that can be executed by placing the cursor in the cell and typing `Shift-Enter` on the keyboard or selecting the &#9658; \"Run\" button in the ribbon at the top of the notebook.\n",
    "These options will run a single cell at a time.\n",
    "\n",
    "To automatically run all cells in a notebook, navigate to the \"Cell\" tab of the menu bar at the top of JupyterLab and select \"Run All\" (or the option that best suits your needs).\n",
    "When a cell is run, the cell's content is executed.\n",
    "Any output produced from running the cell will appear directly below it.\n",
    "\n",
    "Run the cell below as a test:"
   ]
  },
  {
   "cell_type": "code",
   "execution_count": null,
   "id": "bf311024",
   "metadata": {
    "deletable": true,
    "editable": true,
    "tags": []
   },
   "outputs": [],
   "source": [
    "print(\"I ran a cell!\")"
   ]
  },
  {
   "cell_type": "markdown",
   "id": "9915b410",
   "metadata": {
    "deletable": true,
    "editable": true
   },
   "source": [
    "#### Cell status\n",
    "The `[ ]:` symbol to the left of each Code cell describes the state of the cell:\n",
    "\n",
    "* `[ ]:` means that the cell has not been run yet.\n",
    "* `[*]:` means that the cell is currently running.\n",
    "* `[1]:` means that the cell has finished running and was the first cell run. The number indicates the order that the cells were run in.\n",
    "\n",
    "***"
   ]
  },
  {
   "cell_type": "markdown",
   "id": "aa20508a",
   "metadata": {
    "deletable": true,
    "editable": true
   },
   "source": [
    "## Getting started\n",
    "\n",
    "To run this analysis, run all the cells in the notebook starting with the 'Load packages and connect to the datacube' cell."
   ]
  },
  {
   "cell_type": "markdown",
   "id": "05a92c29",
   "metadata": {
    "deletable": true,
    "editable": true
   },
   "source": [
    "### Load packages\n",
    "\n",
    "Load key Python packages and supporting functions for the analysis, then connect to the datacube. "
   ]
  },
  {
   "cell_type": "code",
   "execution_count": null,
   "id": "6be76a21",
   "metadata": {
    "deletable": true,
    "editable": true,
    "tags": []
   },
   "outputs": [],
   "source": [
    "import sys\n",
    "\n",
    "sys.path.append(\"..\")\n",
    "\n",
    "import datacube\n",
    "import matplotlib.pyplot as plt\n",
    "from time import time as time\n",
    "import warnings\n",
    "\n",
    "warnings.filterwarnings(\"ignore\")\n",
    "import wales_utils.data_cube_utilities.display_tools as display_tools\n",
    "\n",
    "\n",
    "# Import Living Wales 'forest' Python library\n",
    "import wales_utils.themes_utilities.forest as forest"
   ]
  },
  {
   "cell_type": "markdown",
   "id": "96c83137",
   "metadata": {
    "deletable": true,
    "editable": true
   },
   "source": [
    "### Connect to the datacube\n",
    "Connect to the datacube so we can access Living Wales Analysis Ready Data. "
   ]
  },
  {
   "cell_type": "code",
   "execution_count": null,
   "id": "5701b4a9",
   "metadata": {
    "deletable": true,
    "editable": true,
    "tags": []
   },
   "outputs": [],
   "source": [
    "dc = datacube.Datacube()"
   ]
  },
  {
   "cell_type": "markdown",
   "id": "e4ae3e90",
   "metadata": {
    "deletable": true,
    "editable": true
   },
   "source": [
    "### Query an area and period\n",
    "#### Area :  Please choose one of the two Tywi Forest sites, enter the name in the cell below and \"Run\" it\n",
    "- 'esgair gelli'\n",
    "- 'cefn fannog'"
   ]
  },
  {
   "cell_type": "code",
   "execution_count": null,
   "id": "60467ea0",
   "metadata": {
    "deletable": true,
    "tags": []
   },
   "outputs": [],
   "source": [
    "######################\n",
    "#  ENTER FOREST NAME #\n",
    "######################\n",
    "\n",
    "site_name = \"esgair gelli\""
   ]
  },
  {
   "cell_type": "code",
   "execution_count": null,
   "id": "9dd46da5",
   "metadata": {
    "deletable": true,
    "editable": true,
    "tags": []
   },
   "outputs": [],
   "source": [
    "# select the above site\n",
    "site = forest.select_forest_site(site_name)"
   ]
  },
  {
   "cell_type": "markdown",
   "id": "3ef689a4",
   "metadata": {
    "deletable": true,
    "editable": true
   },
   "source": [
    "#### Display the extent of the selected forest site on ESRI World Imagery\n",
    "World Imagery provides very high resolution (one meter or better) satellite and aerial imagery in many parts of the world. \n",
    "However, it is static imagery and, as a consequence, for each place there is only one date is available. \n",
    "\n",
    "\n",
    "For the study sites available this notebook, it is a Maxar (Vivid) image captured 2 years 3 months ago, on 26 Mar 2020, with a 0.50 meters resolution. \n",
    "\n",
    "\n",
    "This image is only used for visualising the extent of the selected study site and is not used in the following analyses."
   ]
  },
  {
   "cell_type": "code",
   "execution_count": null,
   "id": "4840c0d6",
   "metadata": {
    "deletable": true,
    "editable": true,
    "tags": []
   },
   "outputs": [],
   "source": [
    "display_tools.map_extent(site)"
   ]
  },
  {
   "cell_type": "markdown",
   "id": "b8d2cd3f",
   "metadata": {
    "deletable": true,
    "editable": true
   },
   "source": [
    "#### Period\n",
    "For this example, period of interest has been fixed to five years (01 Jan 2017 to 31 Dec 2021)."
   ]
  },
  {
   "cell_type": "code",
   "execution_count": null,
   "id": "6e955a2d",
   "metadata": {
    "deletable": true,
    "editable": true,
    "tags": []
   },
   "outputs": [],
   "source": [
    "start_date = \"2017-01-01\"\n",
    "end_date = \"2021-12-31\"\n",
    "\n",
    "print(\"Analysed period: \" + start_date + \" to \" + end_date)"
   ]
  },
  {
   "cell_type": "markdown",
   "id": "58fc0660",
   "metadata": {
    "deletable": true,
    "editable": true
   },
   "source": [
    "### Loading data from datacube "
   ]
  },
  {
   "cell_type": "markdown",
   "id": "a37a833e",
   "metadata": {
    "deletable": true,
    "editable": true
   },
   "source": [
    "#### Load data"
   ]
  },
  {
   "cell_type": "code",
   "execution_count": null,
   "id": "7892adc4",
   "metadata": {
    "deletable": true,
    "editable": true,
    "tags": []
   },
   "outputs": [],
   "source": [
    "# Preparing query for datacube\n",
    "min_x = site[0]\n",
    "min_y = site[1]\n",
    "max_x = site[2]\n",
    "max_y = site[3]\n",
    "\n",
    "query = {\n",
    "    \"x\": (min_x, max_x),\n",
    "    \"y\": (min_y, max_y),\n",
    "    \"crs\": \"epsg:27700\",\n",
    "    \"time\": (start_date, end_date),\n",
    "    \"output_crs\": \"epsg:27700\",\n",
    "    \"resolution\": (-10, 10),\n",
    "    \"dask_chunks\": {\"y\": 2048, \"x\": 2048},\n",
    "    \"measurements\": \"VH\",\n",
    "}\n",
    "\n",
    "\n",
    "start_time = time()\n",
    "\n",
    "# Let's load and clean a demo dataset\n",
    "dataset_in = dc.load(product=\"sen1_rtc_pyroSNAP\", **query)\n",
    "\n",
    "# define nodata\n",
    "dataset_in = dataset_in.where(dataset_in != 0)\n",
    "# drop dates with only nodata for the area of interest\n",
    "dataset_in = dataset_in.dropna(\"time\", how=\"all\")\n",
    "# rename x and y with explicit names\n",
    "dataset_in = dataset_in.rename({\"x\": \"longitude\", \"y\": \"latitude\"})\n",
    "\n",
    "print(\"Datacube ready\")\n",
    "print(\n",
    "    \"Took \"\n",
    "    + str(round(time() - start_time, 2))\n",
    "    + \" seconds to \\\n",
    "request 5 years of almost daily data(i.e., \"\n",
    "    + str(len(dataset_in.time) * len(dataset_in.keys()))\n",
    "    + \" images).\"\n",
    ")"
   ]
  },
  {
   "cell_type": "markdown",
   "id": "a948cedb",
   "metadata": {
    "deletable": true,
    "editable": true
   },
   "source": [
    "#### Have a look at the dataset structure"
   ]
  },
  {
   "cell_type": "code",
   "execution_count": null,
   "id": "7cabf3f6",
   "metadata": {
    "deletable": true,
    "editable": true,
    "tags": []
   },
   "outputs": [],
   "source": [
    "dataset_in"
   ]
  },
  {
   "cell_type": "markdown",
   "id": "ed1021e2",
   "metadata": {
    "deletable": true,
    "editable": true
   },
   "source": [
    "#### Groupping images by month for each year"
   ]
  },
  {
   "cell_type": "code",
   "execution_count": null,
   "id": "180f3ade",
   "metadata": {
    "deletable": true,
    "editable": true,
    "tags": []
   },
   "outputs": [],
   "source": [
    "s1_dataset = forest.group_data_by(dataset_in, \"month\")"
   ]
  },
  {
   "cell_type": "markdown",
   "id": "06ea6e55",
   "metadata": {
    "deletable": true,
    "editable": true,
    "tags": []
   },
   "source": [
    "### Mapping forested areas\n",
    "In this section, we will create a forest map for each year of the period of interest using the custom `WDC` `forest_mapping()` function developed by Living Wales, and visualise them."
   ]
  },
  {
   "cell_type": "code",
   "execution_count": null,
   "id": "69f443bd",
   "metadata": {
    "deletable": true,
    "editable": true,
    "tags": []
   },
   "outputs": [],
   "source": [
    "# Map forest areas for each year using Sentinel-1 data\n",
    "woody = forest.forest_mapping(s1_dataset)\n",
    "\n",
    "\n",
    "# Visualise forest extent for each year\n",
    "print(\"Plotting ...\")\n",
    "print(\"(Please wait until images appear. This may take a few seconds)\")\n",
    "\n",
    "woody.plot(col=\"year\", col_wrap=3, add_colorbar=False, size=5, cmap=\"Greens\");"
   ]
  },
  {
   "cell_type": "markdown",
   "id": "f401457b",
   "metadata": {
    "deletable": true,
    "editable": true,
    "tags": []
   },
   "source": [
    "### Mapping annual clearfells\n",
    "In this section, we will be detecting and mapping annual clearfells during the period of interest using the custom `WDC` `clearfells_monitoring()` function developed by Living Wales.\n"
   ]
  },
  {
   "cell_type": "code",
   "execution_count": null,
   "id": "d4fd76c0",
   "metadata": {
    "deletable": true,
    "editable": true,
    "tags": []
   },
   "outputs": [],
   "source": [
    "# Detecting clearfells in forest for each year\n",
    "clear_cuts = forest.clearfells_monitoring(woody)\n",
    "\n",
    "# Visualise forest clearfells for each year\n",
    "print(\"Plotting ...\")\n",
    "print(\"(Please wait until images appear. This may take a few seconds)\")\n",
    "\n",
    "clear_cuts.plot(col=\"year\", col_wrap=2, add_colorbar=False, size=4, cmap=\"Reds\")"
   ]
  },
  {
   "cell_type": "markdown",
   "id": "59a46d85",
   "metadata": {
    "deletable": true,
    "editable": true,
    "tags": []
   },
   "source": [
    "### Mapping the extent and date (i.e., year) of clearfells for the whole period\n",
    "In this section, we will generate a single map that summaries the extent and year of the clearfells using the custom `mapping_clearfelling_dates()` function developed by Living Wales.\n",
    "\n",
    "- CYAN:      2021 clearfell\n",
    "- PINK:      2020 clearfell\n",
    "- RED:       2019 clearfell\n",
    "- DARK BLUE: 2018 clearfell"
   ]
  },
  {
   "cell_type": "code",
   "execution_count": null,
   "id": "8df9197f",
   "metadata": {
    "deletable": true,
    "editable": true,
    "tags": []
   },
   "outputs": [],
   "source": [
    "# Retrieving date of clearfells\n",
    "clearfell_date = forest.mapping_clearfelling_dates(clear_cuts)\n",
    "\n",
    "# Visualise date and extent of forest clearfells\n",
    "print(\"Plotting ...\")\n",
    "print(\"(Please wait until images appear. This may take a few seconds)\")\n",
    "\n",
    "clearfell_date.plot(figsize=(7, 6), cmap=\"tab10\", add_colorbar=False)\n",
    "plt.title(\"Date and extent of cleafells\")"
   ]
  },
  {
   "cell_type": "markdown",
   "id": "08da52f1",
   "metadata": {
    "deletable": true,
    "editable": true
   },
   "source": [
    "### Automatised reporting on clearfells for the period and area of interest"
   ]
  },
  {
   "cell_type": "code",
   "execution_count": null,
   "id": "a37b0e4a",
   "metadata": {
    "deletable": true,
    "editable": true,
    "tags": []
   },
   "outputs": [],
   "source": [
    "forest.clearfell_reporting(site_name, clearfell_date)"
   ]
  },
  {
   "cell_type": "code",
   "execution_count": null,
   "id": "2e25a27f",
   "metadata": {},
   "outputs": [],
   "source": []
  }
 ],
 "metadata": {
  "celltoolbar": "Edit Metadata",
  "kernelspec": {
   "display_name": "Python 3 (ipykernel)",
   "language": "python",
   "name": "python3"
  },
  "language_info": {
   "codemirror_mode": {
    "name": "ipython",
    "version": 3
   },
   "file_extension": ".py",
   "mimetype": "text/x-python",
   "name": "python",
   "nbconvert_exporter": "python",
   "pygments_lexer": "ipython3",
   "version": "3.11.6"
  }
 },
 "nbformat": 4,
 "nbformat_minor": 5
}
