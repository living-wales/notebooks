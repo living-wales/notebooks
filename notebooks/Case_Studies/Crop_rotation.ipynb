{
 "cells": [
  {
   "cell_type": "markdown",
   "metadata": {},
   "source": [
    "# Farm monitoring: multi-year crop extent, rotation and dynamics"
   ]
  },
  {
   "cell_type": "markdown",
   "metadata": {},
   "source": [
    "## Background"
   ]
  },
  {
   "cell_type": "markdown",
   "metadata": {},
   "source": [
    "Crops are important in national and international economics, trade, and food security and are a major topic of interest in the domains of policy, economics, land management, and conservation. Monitoring agricultural practices is also essential as demand for food has placed huge pressures on landscapes and particularly natural ecosystems, with these impacting (often adversely) on soils, air, water, and biodiversity. By knowing and understanding the distributions, types, and management regimes (e.g., rotational cycles) of crops, changes in management practices can be better implemented to reduce pollution, conserve and/or restore biodiversity, and control the spread of crop diseases."
   ]
  },
  {
   "cell_type": "markdown",
   "metadata": {},
   "source": [
    "              Dynamics of crop fields in Monmouthshire between Nov 2017 and Nov 2021 (Planet imagery)\n",
    "<video controls autoplay width=\"960\" height=\"540\" src=\"https://storage.googleapis.com/planet-t2/monmouthshire_crops-IkhQm8S4g/movie.mp4\" />\n"
   ]
  },
  {
   "cell_type": "markdown",
   "metadata": {},
   "source": [
    "## Description\n",
    "\n",
    "This notebook demonstrates how crop extent, rotation and dynamics can be quickly mapped/monitored over multiple years, using Sentinel-1 Synthetic Aperture Radar (SAR) satellite sensor, within the Wales Open Data Cube (`WDC`). \n",
    "\n",
    "By comparison with optical sensors, that are mainly sensitive to colour and chemistry, SAR data are stronly correlated to height and texture (i.e., the structure of crops). Moreover, SAR data have the advantage of operating at wavelengths not impeded by cloud cover, illumination or weather conditions, with this allowing monitoring of field plots over the course of the crop cycle including during winter period.\n",
    "\n",
    "This notebook uses the Sentinel-1 Analyis Ready Data (ARD), as well as custom python libraries for crop monitoring using algorithms developed by and provided through the Living Wales project.\n",
    "\n",
    "Topics include: \n",
    "\n",
    "1. Import an area of interest (e.g., a farm's field plots) from shapefile\n",
    "2. Reporting on the annual  crop type area\n",
    "3. Mapping crop rotation at farm scale\n",
    "4. Mapping crop rotation at plot scale"
   ]
  },
  {
   "cell_type": "markdown",
   "metadata": {},
   "source": [
    "### Jupyter Notebooks\n",
    "#### Running (executing) a cell\n",
    "Jupyter Notebooks allow code to be separated into sections that can be executed independent of one another.\n",
    "These sections are called \"cells\".\n",
    "\n",
    "The python code is written into individual cells that can be executed by placing the cursor in the cell and typing `Shift-Enter` on the keyboard or selecting the &#9658; \"Run\" button in the ribbon at the top of the notebook.\n",
    "These options will run a single cell at a time.\n",
    "\n",
    "When a cell is run, the cell's content is executed.\n",
    "Any output produced from running the cell will appear directly below it.\n",
    "\n",
    "Run the cell below as a test:"
   ]
  },
  {
   "cell_type": "code",
   "execution_count": null,
   "metadata": {
    "tags": []
   },
   "outputs": [],
   "source": [
    "%load_ext jupyter_black"
   ]
  },
  {
   "cell_type": "code",
   "execution_count": null,
   "metadata": {
    "tags": []
   },
   "outputs": [],
   "source": [
    "print(\"I ran a cell!\")"
   ]
  },
  {
   "cell_type": "markdown",
   "metadata": {},
   "source": [
    "#### Cell status\n",
    "The `[ ]:` symbol to the left of each Code cell describes the state of the cell:\n",
    "\n",
    "* `[ ]:` means that the cell has not been run yet.\n",
    "* `[*]:` means that the cell is currently running.\n",
    "* `[1]:` means that the cell has finished running and was the first cell run. The number indicates the order that the cells were run in.\n",
    "\n",
    "***"
   ]
  },
  {
   "cell_type": "markdown",
   "metadata": {},
   "source": [
    "## Getting started\n",
    "\n",
    "To run this analysis, run all the cells in the notebook starting with the 'Load packages and connect to the datacube' cell."
   ]
  },
  {
   "cell_type": "markdown",
   "metadata": {},
   "source": [
    "### Load packages\n",
    "\n",
    "Load key Python packages and supporting functions for the analysis, then connect to the datacube. "
   ]
  },
  {
   "cell_type": "code",
   "execution_count": null,
   "metadata": {
    "tags": []
   },
   "outputs": [],
   "source": [
    "# Import modules\n",
    "\n",
    "import sys\n",
    "\n",
    "import time\n",
    "from time import time as now\n",
    "import datetime as dt\n",
    "\n",
    "import matplotlib.pyplot as plt\n",
    "from matplotlib.dates import DateFormatter\n",
    "import matplotlib.dates as mdates\n",
    "\n",
    "import geopandas as gpd\n",
    "from ipyleaflet import GeoData\n",
    "\n",
    "import warnings\n",
    "\n",
    "warnings.filterwarnings(\"ignore\")\n",
    "\n",
    "import datacube\n",
    "from datacube.utils.geometry import Geometry, CRS\n",
    "\n",
    "sys.path.append(\"../wales_utils/data_cube_utilities\")\n",
    "from display_tools import map_geom, draw_select\n",
    "from wdc_datahandling import geom_fromdrawn, geopolygon_masking\n",
    "\n",
    "sys.path.append(\"../wales_utils/themes_utilities\")\n",
    "from crop import crop_type_widget, report_crop_type_area, play_crop_rotation"
   ]
  },
  {
   "cell_type": "markdown",
   "metadata": {},
   "source": [
    "### Connect to the datacube\n",
    "Connect to the datacube so we can access Living Wales Analysis Ready Data."
   ]
  },
  {
   "cell_type": "code",
   "execution_count": null,
   "metadata": {
    "tags": []
   },
   "outputs": [],
   "source": [
    "dc = datacube.Datacube()"
   ]
  },
  {
   "cell_type": "markdown",
   "metadata": {},
   "source": [
    "### Import an area of interest (e.g., a farm's field plots) from shapefile"
   ]
  },
  {
   "cell_type": "code",
   "execution_count": null,
   "metadata": {
    "tags": []
   },
   "outputs": [],
   "source": [
    "# Loading field plots from shapefile\n",
    "field_plots = gpd.read_file(\"../vectors/crops_study_area_27700.shp\")\n",
    "\n",
    "# Transform shapefile boundaries into geographic data (and affect a style)\n",
    "geo_data = GeoData(\n",
    "    geo_dataframe=field_plots.to_crs(epsg=4326),\n",
    "    style={\n",
    "        \"color\": \"black\",\n",
    "        \"fillColor\": \"#3366cc\",\n",
    "        \"opacity\": 0.05,\n",
    "        \"weight\": 1.9,\n",
    "        \"dashArray\": \"2\",\n",
    "        \"fillOpacity\": 0.6,\n",
    "    },\n",
    "    hover_style={\"fillColor\": \"red\", \"fillOpacity\": 0.2},\n",
    "    name=\"Fields\",\n",
    ")\n",
    "\n",
    "# map the geographic data\n",
    "m = map_geom(geo_data)\n",
    "m"
   ]
  },
  {
   "cell_type": "markdown",
   "metadata": {},
   "source": [
    "## Reporting on the annual  crop type area"
   ]
  },
  {
   "cell_type": "markdown",
   "metadata": {},
   "source": [
    "For each plot of the hypothetical farm extent, the annual crop type was mapped (not shown here) and validated using Planet imagery, during the period 2018-2021.\n",
    "\n",
    "In this section, we show how the data cube can help to report on the annual crop type area at farm scale."
   ]
  },
  {
   "cell_type": "markdown",
   "metadata": {},
   "source": [
    "#### Select a crop type of interest\n",
    "\n",
    "Please select a crop type of interest. You can select one specific crop type or consider all of them"
   ]
  },
  {
   "cell_type": "code",
   "execution_count": null,
   "metadata": {
    "tags": []
   },
   "outputs": [],
   "source": [
    "crop_type = crop_type_widget()\n",
    "crop_type"
   ]
  },
  {
   "cell_type": "markdown",
   "metadata": {},
   "source": [
    "#### Report"
   ]
  },
  {
   "cell_type": "code",
   "execution_count": null,
   "metadata": {
    "tags": []
   },
   "outputs": [],
   "source": [
    "# Create report\n",
    "report = report_crop_type_area(field_plots, crop_type.value)\n",
    "\n",
    "# Print report\n",
    "for year in report:\n",
    "    print(\"\\n  In \" + year + \":\")\n",
    "    for crop in list(report[year].keys()):\n",
    "        print(str(round(report[year][crop], 2)) + \" ha of \" + crop)"
   ]
  },
  {
   "cell_type": "markdown",
   "metadata": {},
   "source": [
    "## Mapping crop rotation at farm scale\n",
    "\n",
    "Run the cell below to visualize crop rotation between 2018 and 2021 at farm scale."
   ]
  },
  {
   "cell_type": "code",
   "execution_count": null,
   "metadata": {
    "tags": []
   },
   "outputs": [],
   "source": [
    "play_crop_rotation(field_plots)"
   ]
  },
  {
   "cell_type": "markdown",
   "metadata": {},
   "source": [
    "## Mapping crop rotation at plot scale"
   ]
  },
  {
   "cell_type": "markdown",
   "metadata": {},
   "source": [
    "### Select a field plot of interest"
   ]
  },
  {
   "cell_type": "markdown",
   "metadata": {},
   "source": [
    "#### Map all the field plots"
   ]
  },
  {
   "cell_type": "code",
   "execution_count": null,
   "metadata": {
    "tags": []
   },
   "outputs": [],
   "source": [
    "# Run display tool\n",
    "m, option_widget = draw_select(geo_data)\n",
    "m.add_layer(geo_data)\n",
    "m"
   ]
  },
  {
   "cell_type": "markdown",
   "metadata": {},
   "source": [
    "#### Select a field plot of interest\n",
    "\n",
    "In this section, we will interact with the above display tool to select a field plot from the shapefile. \n",
    "\n",
    "Unfortunately, currently, there is no ipython library available to click-select. As part of the Living Wales, we have developed an alternative to allow you to select a polygon feature.\n",
    "\n",
    "- TO SELECT: use the &#9726; *'draw a rectangle'* symbol in the leftside bar, draw a small polygon **inside** the polygon you would like to select and click on the 'Select' button\n",
    "- TO DELETE: at any time, you can click on the bin symbol and choose 'Clear All\" to delete the polygon(s) you have drawn.\n"
   ]
  },
  {
   "cell_type": "markdown",
   "metadata": {},
   "source": [
    "#### Use the selected field plot as the geopolygon of interest"
   ]
  },
  {
   "cell_type": "code",
   "execution_count": null,
   "metadata": {
    "tags": []
   },
   "outputs": [],
   "source": [
    "# Select\n",
    "my_geopolygon, feature = geom_fromdrawn(option=\"Selection\", shapefile=field_plots)\n",
    "\n",
    "print(\"The geopolygon of interest is the following one; \")\n",
    "my_geopolygon"
   ]
  },
  {
   "cell_type": "markdown",
   "metadata": {},
   "source": [
    "### Loading data from datacube "
   ]
  },
  {
   "cell_type": "markdown",
   "metadata": {},
   "source": [
    "#### Prepare query for datacube"
   ]
  },
  {
   "cell_type": "code",
   "execution_count": null,
   "metadata": {
    "tags": []
   },
   "outputs": [],
   "source": [
    "# Use the whole study period as period of interest\n",
    "start_date = \"2017-10-01\"\n",
    "end_date = \"2021-11-01\"\n",
    "\n",
    "# Prepare query\n",
    "query = {\n",
    "    \"product\": \"sen1_rtc_pyroSNAP\",\n",
    "    \"geopolygon\": my_geopolygon,\n",
    "    \"time\": (start_date, end_date),\n",
    "    \"output_crs\": \"epsg:27700\",\n",
    "    \"measurements\": [\"VH\", \"VV\"],\n",
    "    \"dask_chunks\": {\"y\": 2048, \"x\": 2048},\n",
    "    \"resolution\": (-10, 10),\n",
    "}"
   ]
  },
  {
   "cell_type": "markdown",
   "metadata": {},
   "source": [
    "#### Load data"
   ]
  },
  {
   "cell_type": "code",
   "execution_count": null,
   "metadata": {
    "tags": []
   },
   "outputs": [],
   "source": [
    "# Preparing query for datacube\n",
    "start_time = now()\n",
    "# Let's load the dataset\n",
    "dataset_in = dc.load(**query)\n",
    "\n",
    "# define nodata\n",
    "dataset_in = dataset_in.where(dataset_in != 0)\n",
    "\n",
    "# clean data: drop dates with only nodata for the area of interest\n",
    "dataset_in = dataset_in.dropna(\"time\", how=\"all\")\n",
    "\n",
    "# When using epsg other than 4326 (here: 27700), latitude and longitude are renamed y and x.\n",
    "# Let's correct that and rename x and y with explicit names\n",
    "dataset_in = dataset_in.rename({\"x\": \"longitude\", \"y\": \"latitude\"})\n",
    "\n",
    "# group images by YYYY-MM-DD\n",
    "s1_dataset = dataset_in.groupby(dataset_in.time.dt.strftime(\"%Y-%m-%d\")).mean(\"time\")\n",
    "s1_dataset = s1_dataset.rename({\"strftime\": \"time\"})\n",
    "\n",
    "print(\"Datacube ready\")\n",
    "print(\n",
    "    \"Took \"\n",
    "    + str(round(now() - start_time, 2))\n",
    "    + \" seconds to request \"\n",
    "    + str(len(s1_dataset.time))\n",
    "    + \" images from datacube.\"\n",
    ")"
   ]
  },
  {
   "cell_type": "code",
   "execution_count": null,
   "metadata": {
    "tags": []
   },
   "outputs": [],
   "source": [
    "# Visualise VH backscatter for the first date in the dataset\n",
    "print(\"Plotting ...\")\n",
    "print(\"(Please wait until images appear. This may take a few seconds.)\")\n",
    "\n",
    "s1_dataset.VH.isel(time=0).plot();"
   ]
  },
  {
   "cell_type": "markdown",
   "metadata": {},
   "source": [
    "### Masking data out of the field plot\n",
    "\n",
    "As you can see on the above figure, within the data cube, data are loaded as a geobox (i.e., a rectangle). \n",
    "In our case, in cell 9, we have queried a geopolygon. However, the data cube uses the maximum/minimum latitude/longitude of the polygon to load the data.\n",
    "\n",
    "In this section, we will mask out the pixels which are not included within the draw/selected geopolygon using one of the tools developed by Living Wales."
   ]
  },
  {
   "cell_type": "code",
   "execution_count": null,
   "metadata": {
    "tags": []
   },
   "outputs": [],
   "source": [
    "# Masking data out of the field plot\n",
    "s1_dataset = geopolygon_masking(s1_dataset, my_geopolygon)\n",
    "\n",
    "# Visualise VH backscatter for the first date in the dataset (after masking)\n",
    "print(\"Plotting ...\")\n",
    "print(\"(Please wait until images appear. This may take a few seconds.)\")\n",
    "\n",
    "s1_dataset.VH.isel(time=0).plot();"
   ]
  },
  {
   "cell_type": "markdown",
   "metadata": {},
   "source": [
    "### Mapping multi-year rotation\n",
    "\n",
    "As with Sentinel-2, indices can be calculated using Sentinel-1. The polarization ratio is one of the most used index when analysing radar data.\n",
    "\n",
    "In this section, for each available date, from the beginning of the period of interest (i.e., Oct 2017) to the end (i.e., Nov 2021), we calculate the parcel backscatter/index and plot its evolution."
   ]
  },
  {
   "cell_type": "code",
   "execution_count": null,
   "metadata": {
    "tags": []
   },
   "outputs": [],
   "source": [
    "# Calculate VH/VV ratio for each pixel\n",
    "s1_dataset[\"Ratio\"] = s1_dataset.VH - s1_dataset.VV\n",
    "\n",
    "# Summarise the polarization ratio at parcel level\n",
    "median_Ratio = s1_dataset.Ratio.median([\"latitude\", \"longitude\"])"
   ]
  },
  {
   "cell_type": "code",
   "execution_count": null,
   "metadata": {
    "tags": []
   },
   "outputs": [],
   "source": [
    "# Plotting the parcel backscatters/indices\n",
    "print(\"Plotting ...\")\n",
    "print(\"(Please wait until images appear. This may take a few seconds.)\")\n",
    "\n",
    "# define figure size\n",
    "fig, (ax1) = plt.subplots(1, figsize=(18, 6))\n",
    "# set title\n",
    "fig.suptitle(\"Evolution of the parcel between Oct 2017 and Nov 2021\", y=1, fontsize=14)\n",
    "# set date format for the a axises\n",
    "dates = [dt.datetime.strptime(d, \"%Y-%m-%d\").date() for d in median_Ratio.time.values]\n",
    "\n",
    "# Plot the  ratio\n",
    "ax1.plot(dates, median_Ratio.values, marker=\"o\")\n",
    "ax1.grid(visible=True, which=\"major\", axis=\"both\")\n",
    "ax1.set_ylim([-16, -2])\n",
    "ax1.xaxis.set_major_locator(mdates.MonthLocator((1, 4, 7, 10)))\n",
    "ax1.xaxis.set_major_formatter(DateFormatter(\"%b-%Y\"))\n",
    "ax1.tick_params(\"x\", labelrotation=45)\n",
    "ax1.set_ylabel(\"Ratio\")\n",
    "\n",
    "ax1.axvline(x=dt.date(2018, 10, 1), color=\"lightcoral\", linewidth=1.5)\n",
    "ax1.axvline(x=dt.date(2019, 10, 1), color=\"lightcoral\", linewidth=1.5)\n",
    "ax1.axvline(x=dt.date(2020, 10, 1), color=\"lightcoral\", linewidth=1.5)\n",
    "\n",
    "crop = field_plots[field_plots.id == int(feature)]\n",
    "ax2 = ax1.twiny()\n",
    "ax2.set_xticks(ticks=[0.15, 0.38, 0.60, 0.85])\n",
    "ax2.tick_params(axis=\"x\", which=\"major\", labelsize=12)\n",
    "ax2.set_xticklabels(\n",
    "    labels=[\n",
    "        crop[\"Year_2018\"].values[0],\n",
    "        crop[\"Year_2019\"].values[0],\n",
    "        crop[\"Year_2020\"].values[0],\n",
    "        crop[\"Year_2021\"].values[0],\n",
    "    ],\n",
    "    color=\"red\",\n",
    ");"
   ]
  },
  {
   "cell_type": "code",
   "execution_count": null,
   "metadata": {},
   "outputs": [],
   "source": []
  }
 ],
 "metadata": {
  "kernelspec": {
   "display_name": "Python 3 (ipykernel)",
   "language": "python",
   "name": "python3"
  },
  "language_info": {
   "codemirror_mode": {
    "name": "ipython",
    "version": 3
   },
   "file_extension": ".py",
   "mimetype": "text/x-python",
   "name": "python",
   "nbconvert_exporter": "python",
   "pygments_lexer": "ipython3",
   "version": "3.11.6"
  }
 },
 "nbformat": 4,
 "nbformat_minor": 4
}
