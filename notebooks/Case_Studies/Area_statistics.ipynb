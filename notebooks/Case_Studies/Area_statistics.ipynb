{
 "cells": [
  {
   "cell_type": "markdown",
   "id": "654122aa-cc1d-47d2-ab94-d6f562ff69b3",
   "metadata": {},
   "source": [
    "# Area Habitat Statistics"
   ]
  },
  {
   "cell_type": "markdown",
   "id": "a73fb4f8-0179-4657-8aeb-556ce85166b7",
   "metadata": {},
   "source": [
    "## Your Area Statistics"
   ]
  },
  {
   "cell_type": "markdown",
   "id": "b0e09493-f51d-49a2-8c2b-9223bcf85d0f",
   "metadata": {},
   "source": [
    "Land cover, Habitat types and Water hydroperiod are all Living wales layers spanning years from 2018-2023. Using this notebook we can quantify the area and percentage covered by each land cover class or habitat type as well as the proportion of the land covered by water (hydroperiod)."
   ]
  },
  {
   "cell_type": "markdown",
   "id": "820fa1b3-98b9-47b4-9e03-4ca0c9e5c642",
   "metadata": {},
   "source": [
    "This notebook stems from a novel and unique collaboration between Monmouthshire County, Aberystwyth University, Dwr Cymru Welsh Water and Natural Resources Wales that linked *Living Wales*, to national initiatives that give free and open access to remotely sensed data and products to support wise use of the Welsh landscape and a better collective outlook for current and future generations."
   ]
  },
  {
   "cell_type": "markdown",
   "id": "e812bb9f-d4dc-4c86-9905-b6b3ea3a03d4",
   "metadata": {},
   "source": [
    "## Information about your area."
   ]
  },
  {
   "cell_type": "markdown",
   "id": "faf8acf2-b57b-481a-9ee8-51495dfec6f7",
   "metadata": {},
   "source": [
    "This Notebook extracts information on your area for different years from the newly developed Welsh Data Cube (WDC), which houses all satellite data acquired over Wales since 2018 and derived products with these including land cover, broad habitats and water/moisture persistence.  "
   ]
  },
  {
   "cell_type": "markdown",
   "id": "e02a6836-1f0e-4b9f-9263-31e80553e313",
   "metadata": {},
   "source": [
    "**Land Cover** is the physical and biological cover of the land surface and includes vegetation (managed or semi-natural), water and bare surfaces.  The land cover maps generated through Living Land Management use the legends of the United Nation's Food and Agriculture Organisation (FAO) Land Cover Classification System (LCCS).\n",
    "\n",
    "**Habitats** represent the natural environments in which individual or groups of plant or animal species lives.  The habitat maps are generated from satellite data and are based on Wales' Phase 1 Habitat Taxonomy.\n",
    "\n",
    "The **water/moisture persistence** is obtained from time-series of radar data that are acquired almost every day over Wales and indicate relative frequency of wet conditions across the landscape.  "
   ]
  },
  {
   "cell_type": "code",
   "execution_count": null,
   "id": "1a654bab",
   "metadata": {
    "tags": []
   },
   "outputs": [],
   "source": [
    "import os\n",
    "import sys\n",
    "\n",
    "import datacube\n",
    "import pandas as pd\n",
    "import numpy as np\n",
    "import geopandas as gpd\n",
    "\n",
    "from datacube.utils.geometry import Geometry, CRS\n",
    "from ipyleaflet import GeoData\n",
    "\n",
    "from matplotlib.colors import ListedColormap\n",
    "import matplotlib.colors as colors\n",
    "import matplotlib.pyplot as plt\n",
    "from matplotlib.patches import Patch\n",
    "\n",
    "sys.path.append(\"../wales_utils/data_cube_utilities\")\n",
    "from display_tools import map_geom, rgb\n",
    "from wdc_datahandling import geopolygon_masking"
   ]
  },
  {
   "cell_type": "markdown",
   "id": "873afd8f-26bd-4fb6-895b-a63c5c3580f8",
   "metadata": {},
   "source": [
    "## Define a function to produce summary statistics\n",
    "\n",
    "For code that will be used multiple times in a notebook it is cleaner to define a function that can be called later. Here we create a function that will perform summary statistics and print them out. We'll come back to this function later in the notebook."
   ]
  },
  {
   "cell_type": "code",
   "execution_count": null,
   "id": "2d065e0d",
   "metadata": {
    "tags": []
   },
   "outputs": [],
   "source": [
    "def stat_summary(xarr, scheme):\n",
    "    \"\"\"\n",
    "    A function to perform summary statistics on an xarray object and return as a pandas\n",
    "    dataframe.\n",
    "    \"\"\"\n",
    "    # Search habitat types in farm\n",
    "    farm_types = np.unique(xarr, return_counts=True)\n",
    "\n",
    "    # Create dictionary to store outputs. Will convert this to a pandas data frame\n",
    "    out_stat_dict = {\"CATEGORY\": [], \"HECTARE\": []}\n",
    "\n",
    "    for color, label in scheme.items():\n",
    "        if (label[0] in farm_types[0]) & (label[0] != 0):\n",
    "            out_stat_dict[\"CATEGORY\"].append(label[1])\n",
    "            area_ha = (farm_types[1][list(farm_types[0]).index(label[0])] * 100) / 10000\n",
    "            out_stat_dict[\"HECTARE\"].append(area_ha)\n",
    "\n",
    "    # Convert to a pandas dataframe\n",
    "    out_stat_df = pd.DataFrame.from_dict(out_stat_dict)\n",
    "\n",
    "    # Calculate percentage\n",
    "    out_stat_df[\"PERCENT\"] = out_stat_df[\"HECTARE\"] / out_stat_df[\"HECTARE\"].sum()\n",
    "    return out_stat_df"
   ]
  },
  {
   "cell_type": "markdown",
   "id": "f9f168d3-d896-4113-b257-0cbee71c101a",
   "metadata": {},
   "source": [
    "## Load in Data\n",
    "Here we load in the Living Wales land cover and habitat products. These have been calculated and indexed into the open data cube so can be loaded as products."
   ]
  },
  {
   "cell_type": "code",
   "execution_count": null,
   "id": "0c31efd1",
   "metadata": {
    "tags": []
   },
   "outputs": [],
   "source": [
    "dc = datacube.Datacube(app=\"Farms\")"
   ]
  },
  {
   "cell_type": "code",
   "execution_count": null,
   "id": "7045f5f0-887b-4fcc-aacc-548b0882f1b1",
   "metadata": {
    "tags": []
   },
   "outputs": [],
   "source": [
    "product = \"lw_landcover_lw\"\n",
    "\n",
    "measurements = dc.list_measurements()\n",
    "measurements.loc[product]"
   ]
  },
  {
   "cell_type": "code",
   "execution_count": null,
   "id": "0dac73f9-2e12-4191-903a-f38a129f4358",
   "metadata": {
    "tags": []
   },
   "outputs": [],
   "source": [
    "product = \"lw_habitats_lw\"\n",
    "\n",
    "measurements = dc.list_measurements()\n",
    "measurements.loc[product]"
   ]
  },
  {
   "cell_type": "markdown",
   "id": "e3c57a8a",
   "metadata": {},
   "source": [
    "## Area selection \n",
    "\n",
    "A shapefile is used to define the area of interest. Within the 'vectors' folder there is an example shape file for the BBNP (`habstat_Boundary.*`) you can use this or upload one of your personal datasets. If you are using the example then download to your machine from the folder view and upload to the `uploads` folder.\n",
    "\n",
    "### Using Personal datasets\n",
    "\n",
    "If you want to use your own shapefiles these should be uploaded to the `uploads` folder and the name modified in the code below."
   ]
  },
  {
   "cell_type": "code",
   "execution_count": 1,
   "id": "0c0ebc80",
   "metadata": {
    "tags": []
   },
   "outputs": [],
   "source": [
    "# Provide a name for the shapefile you have uploaded \n",
    "file_name = \"habstat1_Boundary\"\n",
    "# Provide a name for your area to use in output files.\n",
    "# We are just using 'test_area' here\n",
    "area_name = \"test_area\"\n",
    "# Select a year to use\n",
    "year = \"2022\""
   ]
  },
  {
   "cell_type": "code",
   "execution_count": null,
   "id": "f063e164",
   "metadata": {
    "tags": []
   },
   "outputs": [],
   "source": [
    "# Open and read the shapefiles\n",
    "boundary_path = f\"../uploads/{file_name}.shp\"\n",
    "boundary_exists = os.path.isfile(boundary_path)\n",
    "\n",
    "\n",
    "if boundary_exists:\n",
    "    boundary = gpd.read_file(boundary_path)\n",
    "else:\n",
    "    print(\"Could not find file, please check the name\")\n",
    "    print(os.listdir(\"../uploads/\"))"
   ]
  },
  {
   "cell_type": "code",
   "execution_count": null,
   "id": "debbbfec",
   "metadata": {
    "tags": []
   },
   "outputs": [],
   "source": [
    "boundary.head(3)"
   ]
  },
  {
   "cell_type": "code",
   "execution_count": null,
   "id": "3a090bf6",
   "metadata": {
    "tags": []
   },
   "outputs": [],
   "source": [
    "# Transform shapefile boundaries into geographic data (and affect a style)\n",
    "geo_data = GeoData(\n",
    "    geo_dataframe=boundary.to_crs(epsg=4326),\n",
    "    style={\n",
    "        \"color\": \"black\",\n",
    "        \"fillColor\": \"#3366cc\",\n",
    "        \"opacity\": 0.05,\n",
    "        \"weight\": 1.9,\n",
    "        \"dashArray\": \"2\",\n",
    "        \"fillOpacity\": 0.6,\n",
    "    },\n",
    "    hover_style={\"fillColor\": \"red\", \"fillOpacity\": 0.2},\n",
    "    name=\"Boundary\",\n",
    ")\n",
    "\n",
    "# map the geographic data on dynamic map\n",
    "m = map_geom(geo_data)\n",
    "m"
   ]
  },
  {
   "cell_type": "code",
   "execution_count": null,
   "id": "9eff38e5",
   "metadata": {
    "tags": []
   },
   "outputs": [],
   "source": [
    "geom = Geometry(geom=boundary.iloc[0].geometry, crs=CRS(\"epsg:27700\"))\n",
    "geom"
   ]
  },
  {
   "cell_type": "code",
   "execution_count": null,
   "id": "25e30a0a",
   "metadata": {
    "tags": []
   },
   "outputs": [],
   "source": [
    "query = {\n",
    "    \"geopolygon\": geom,\n",
    "    \"time\": (year + \"-01-01\", year + \"-12-31\"),\n",
    "    \"output_crs\": \"EPSG:27700\",\n",
    "    \"resolution\": (-10, 10),\n",
    "    \"dask_chunks\": {\"y\": 2048, \"x\": 2048},\n",
    "}"
   ]
  },
  {
   "cell_type": "code",
   "execution_count": null,
   "id": "ca7b27ed",
   "metadata": {
    "tags": []
   },
   "outputs": [],
   "source": [
    "# Load land cover data for our polygon and time period\n",
    "lc_dataset = dc.load(product=\"lw_landcover_lw\", **query)\n",
    "lc_dataset_masked = geopolygon_masking(lc_dataset, geopolygon=geom)"
   ]
  },
  {
   "cell_type": "code",
   "execution_count": null,
   "id": "7dfc21f0",
   "metadata": {
    "tags": []
   },
   "outputs": [],
   "source": [
    "level3plus = (\n",
    "    lc_dataset_masked.level3.where(lc_dataset_masked.level3 == 112)\n",
    "    + lc_dataset_masked.lifeform\n",
    ").fillna(0) + (lc_dataset_masked.level3.where(lc_dataset_masked.level3 != 112)).fillna(\n",
    "    0\n",
    ")\n",
    "lc_dataset[\"level3plus\"] = level3plus"
   ]
  },
  {
   "cell_type": "code",
   "execution_count": null,
   "id": "bb570101",
   "metadata": {
    "tags": []
   },
   "outputs": [],
   "source": [
    "# Level3plus colour scheme\n",
    "level3plus_scheme = {\n",
    "    \"#FFFFFF\": [0.0, \"Not classified\"],\n",
    "    \"#D1E133\": [111.0, \"Cultivated or managed terrestrial vegetation\"],\n",
    "    \"#007A02\": [113.0, \"Semi-natural terrestrial woody vegetation\"],\n",
    "    \"#95c748\": [114.0, \"Semi-natural terrestrial herbaceous vegetation\"],\n",
    "    \"#4EEEE8\": [123.0, \"Cultivated or managed aquatic vegetation\"],\n",
    "    \"#02C077\": [124.0, \"Semi-natural aquatic vegetation\"],\n",
    "    \"#DA5C69\": [215.0, \"Artificial surface\"],\n",
    "    \"#F3AB69\": [216.0, \"Bare surface\"],\n",
    "    \"#4D9FDC\": [220.0, \"Water\"],\n",
    "}\n",
    "\n",
    "# Colour map\n",
    "level3plus_cmap = ListedColormap(list(level3plus_scheme.keys()))\n",
    "# Level3plus classes\n",
    "# Define a normalization from values -> colors\n",
    "level3plus_norm = colors.BoundaryNorm(\n",
    "    [value[0] for value in level3plus_scheme.values()], 9\n",
    ")"
   ]
  },
  {
   "cell_type": "markdown",
   "id": "69ce4bcf-6909-46e7-b009-eb74d1664325",
   "metadata": {},
   "source": [
    "## Plot Land Cover Map"
   ]
  },
  {
   "cell_type": "code",
   "execution_count": null,
   "id": "1326ec51",
   "metadata": {
    "tags": []
   },
   "outputs": [],
   "source": [
    "# Plotting\n",
    "lc_fig, ax = plt.subplots(figsize=(20, 10))\n",
    "\n",
    "lc_plot = ax.imshow(\n",
    "    lc_dataset.level3plus.isel(time=0),\n",
    "    cmap=level3plus_cmap,\n",
    "    norm=level3plus_norm,\n",
    "    extent=[\n",
    "        lc_dataset.x.min().data,\n",
    "        lc_dataset.x.max().data,\n",
    "        lc_dataset.y.min().data,\n",
    "        lc_dataset.y.max().data,\n",
    "    ],\n",
    ")\n",
    "\n",
    "# Specify if want to show bounds on image (if they exist)\n",
    "show_bounds = True\n",
    "if boundary_exists and show_bounds:\n",
    "    boundary.boundary.plot(ax=ax, ec=\"#e72323\", linewidth=3)\n",
    "\n",
    "patches = [\n",
    "    Patch(color=color, label=label[1]) for color, label in level3plus_scheme.items()\n",
    "]\n",
    "\n",
    "ax.legend(handles=patches, bbox_to_anchor=(1.35, 0.3), facecolor=\"white\")\n",
    "\n",
    "# ax.set_axis_off()\n",
    "plt.show()"
   ]
  },
  {
   "cell_type": "markdown",
   "id": "dc4c33e3-54f6-42bb-8b98-8c929c90a2f4",
   "metadata": {},
   "source": [
    "### Save Figures to file\n",
    "The figure can be saved out as a PNG file for inclusion in reports. It is also possible to skip the `show` command and just save the figure to a file, this can be useful when producing a lot of figures (e.g., for different years)."
   ]
  },
  {
   "cell_type": "code",
   "execution_count": null,
   "id": "e241478e",
   "metadata": {
    "tags": []
   },
   "outputs": [],
   "source": [
    "lc_fig.savefig(f\"Land_cover_{area_name}_{year}.png\")"
   ]
  },
  {
   "cell_type": "markdown",
   "id": "d4a4fe34-28f2-470e-abcc-b4caf16121b5",
   "metadata": {},
   "source": [
    "## Quantify the area of each land cover in your area\n",
    "\n",
    "Here we are using the `stat_summary` function defined at the start of the notebook to print summary satistics."
   ]
  },
  {
   "cell_type": "code",
   "execution_count": null,
   "id": "533769bc-be3a-4eb1-b057-7ba3c2c9dd38",
   "metadata": {
    "tags": []
   },
   "outputs": [],
   "source": [
    "landcover_stats_df = stat_summary(lc_dataset.level3plus, level3plus_scheme)\n",
    "landcover_stats_df"
   ]
  },
  {
   "cell_type": "markdown",
   "id": "6b506e70-a85a-4065-be92-53d77ebec619",
   "metadata": {},
   "source": [
    "### Calculate the total area\n",
    "Not the results are in a Pandas data frame it is possible to perform different statistics on them, for example the sum to get the total area"
   ]
  },
  {
   "cell_type": "code",
   "execution_count": null,
   "id": "a4d08c14-2285-4c15-b0cc-4d54f7d5a41d",
   "metadata": {
    "tags": []
   },
   "outputs": [],
   "source": [
    "total_area = landcover_stats_df[\"HECTARE\"].sum()\n",
    "print(f\"Total area {total_area:.2f} ha\")"
   ]
  },
  {
   "cell_type": "markdown",
   "id": "c68fd883-bb70-49de-a1f2-c1d73619bd4c",
   "metadata": {
    "tags": []
   },
   "source": [
    "## Produce some plots\n",
    "Pandas also has built in functions to produce plots from the data. Here we are going to produce a pie chart to show the proportion of each category"
   ]
  },
  {
   "cell_type": "code",
   "execution_count": null,
   "id": "4c9722d8-29eb-4ebc-9260-4f65d56d4a4b",
   "metadata": {
    "tags": []
   },
   "outputs": [],
   "source": [
    "landcover_stats_df.set_index(\"CATEGORY\").plot.pie(\n",
    "    y=\"HECTARE\", legend=False, ylabel=\"Area\"\n",
    ")"
   ]
  },
  {
   "cell_type": "markdown",
   "id": "d5b8bd71-974a-48a9-9662-cd349eb665ba",
   "metadata": {
    "tags": []
   },
   "source": [
    "### Save out to a CSV file\n",
    "It is also possible to save out pandas dataframes to a CSV file so they can be opened in Excel. Here we are specifying we only want outputs to two decimal places using `float_format`."
   ]
  },
  {
   "cell_type": "code",
   "execution_count": null,
   "id": "7e10e766-376f-4768-8636-921921a0c42e",
   "metadata": {
    "tags": []
   },
   "outputs": [],
   "source": [
    "landcover_stats_df.to_csv(\n",
    "    f\"Land_cover_{area_name}_{year}_stats.csv\", float_format=\"%.2f\", index=False\n",
    ")"
   ]
  },
  {
   "cell_type": "markdown",
   "id": "0d5827b1-7ad0-4f15-8859-8023f3ef615b",
   "metadata": {
    "tags": []
   },
   "source": [
    "## Habitat data\n",
    "We can perform a similar process of subsetting data and calculating statistics using the habitat data provided by Living Wales."
   ]
  },
  {
   "cell_type": "code",
   "execution_count": null,
   "id": "8e1e451c",
   "metadata": {
    "tags": []
   },
   "outputs": [],
   "source": [
    "# Load habitat data for our polygon and time period\n",
    "habitat_dataset = dc.load(product=\"lw_habitats_lw\", **query)\n",
    "habitat_dataset_masked = geopolygon_masking(habitat_dataset, geopolygon=geom)"
   ]
  },
  {
   "cell_type": "code",
   "execution_count": null,
   "id": "b5beb9f3",
   "metadata": {
    "tags": []
   },
   "outputs": [],
   "source": [
    "# Level3plus colour scheme\n",
    "broadhabitat_scheme = {\n",
    "    \"#FFFFFF\": [0.0, \"Not classified\"],\n",
    "    \"#00C502\": [1.0, \"Broadleaved woodland\"],\n",
    "    \"#006902\": [2.0, \"Needle-leaved woodland\"],\n",
    "    \"#CEF191\": [3.0, \"Semi-natural grassland\"],\n",
    "    \"#C91FCC\": [4.0, \"Heathland and Scrub\"],\n",
    "    \"#F2A008\": [5.0, \"Bracken\"],\n",
    "    \"#F8F8C9\": [6.0, \"Bog\"],\n",
    "    \"#177E88\": [7.0, \"Fen/Marsh/Swamp\"],\n",
    "    \"#FFFF00\": [8.0, \"Cultivated or managed vegetation\"],\n",
    "    \"#00DDA4\": [9.0, \"Coastal habitat\"],\n",
    "    \"#0E00ED\": [10.0, \"Open Water\"],\n",
    "    \"#908E8D\": [11.0, \"Natural Bare Surfaces\"],\n",
    "    \"#000000\": [12.0, \"Artificial Bare Surfaces\"],\n",
    "    \"#DAC654\": [13.0, \"Young trees/Felled/Coppice\"],\n",
    "    \"#5d994e\": [14.0, \"Woodland and scrub\"],\n",
    "}\n",
    "\n",
    "# Habitat colour scheme\n",
    "broadhabitat_cmap = ListedColormap(list(broadhabitat_scheme.keys()))\n",
    "# Habitat classes\n",
    "broadhabitat_norm = colors.BoundaryNorm(\n",
    "    [value[0] for value in broadhabitat_scheme.values()], 15\n",
    ")"
   ]
  },
  {
   "cell_type": "markdown",
   "id": "cfa71df6-4683-487c-9235-056cd2e44be4",
   "metadata": {
    "tags": []
   },
   "source": [
    "### Plot Habitat map"
   ]
  },
  {
   "cell_type": "code",
   "execution_count": null,
   "id": "84627bd0",
   "metadata": {
    "tags": []
   },
   "outputs": [],
   "source": [
    "# Plotting\n",
    "habitat_fig, ax = plt.subplots(figsize=(20, 10))\n",
    "\n",
    "habitat_plot = ax.imshow(\n",
    "    habitat_dataset_masked.broad.isel(time=0),\n",
    "    cmap=broadhabitat_cmap,\n",
    "    norm=broadhabitat_norm,\n",
    "    extent=[\n",
    "        habitat_dataset.x.min().data,\n",
    "        habitat_dataset.x.max().data,\n",
    "        habitat_dataset.y.min().data,\n",
    "        habitat_dataset.y.max().data,\n",
    "    ],\n",
    ")\n",
    "\n",
    "show_bounds = True\n",
    "if boundary_exists and show_bounds:\n",
    "    boundary.boundary.plot(ax=ax, ec=\"#e72323\", linewidth=3)\n",
    "\n",
    "\n",
    "patches = [\n",
    "    Patch(color=color, label=label[1]) for color, label in broadhabitat_scheme.items()\n",
    "]\n",
    "\n",
    "ax.legend(handles=patches, bbox_to_anchor=(1.35, 1), facecolor=\"white\")\n",
    "\n",
    "# ax.set_axis_off()\n",
    "plt.show()"
   ]
  },
  {
   "cell_type": "markdown",
   "id": "d88e461a-2325-48dc-b2b2-41275bdb805f",
   "metadata": {},
   "source": [
    "### Save the figure to a file"
   ]
  },
  {
   "cell_type": "code",
   "execution_count": null,
   "id": "90cca7d1",
   "metadata": {
    "tags": []
   },
   "outputs": [],
   "source": [
    "habitat_fig.savefig(f\"Broad_habitats_{area_name}_{year}.png\")"
   ]
  },
  {
   "cell_type": "markdown",
   "id": "2e4e9766-0b21-4367-be5b-c4f2034f7059",
   "metadata": {},
   "source": [
    "### Quantify the area of each habitat in your area"
   ]
  },
  {
   "cell_type": "code",
   "execution_count": null,
   "id": "bc3c6e4e-62e5-4cef-8942-c8e3ff258dd4",
   "metadata": {
    "tags": []
   },
   "outputs": [],
   "source": [
    "habitat_stats_df = stat_summary(habitat_dataset_masked.broad, broadhabitat_scheme)\n",
    "habitat_stats_df"
   ]
  },
  {
   "cell_type": "markdown",
   "id": "d2d6cdb0-6718-49c9-a579-37ae144cb6ce",
   "metadata": {
    "tags": []
   },
   "source": [
    "You may want to produce some plots or save to a CSV, as for land cover."
   ]
  },
  {
   "cell_type": "code",
   "execution_count": null,
   "id": "abee1041-efeb-4fdb-ac84-392568370b13",
   "metadata": {},
   "outputs": [],
   "source": [
    " You may want to "
   ]
  },
  {
   "cell_type": "markdown",
   "id": "2209a842-1236-436d-a23a-bbde7d5f4bd4",
   "metadata": {
    "tags": []
   },
   "source": [
    "## Water persistance data"
   ]
  },
  {
   "cell_type": "code",
   "execution_count": null,
   "id": "80e239de",
   "metadata": {
    "tags": []
   },
   "outputs": [],
   "source": [
    "# Level3plus colour scheme\n",
    "waterper_scheme = {\n",
    "    \"#FFFFFF\": [0.0, \"Not affected\"],\n",
    "    \"#0a549e\": [1.0, \"9+ months\"],\n",
    "    \"#2172b6\": [2.0, \"8 months\"],\n",
    "    \"#3e8ec4\": [3.0, \"7 months\"],\n",
    "    \"#60a6d2\": [4.0, \"6 months\"],\n",
    "    \"#89bfdd\": [5.0, \"5 months\"],\n",
    "    \"#b0d2e8\": [6.0, \"4 months\"],\n",
    "    \"#cde0f2\": [7.0, \"3 months\"],\n",
    "    \"#cde0f2\": [8.0, \"2 months\"],\n",
    "    \"#e8f2fb\": [9.0, \"1 month\"],\n",
    "}\n",
    "\n",
    "# Water/wetness persistence colour scheme\n",
    "waterper_cmap = ListedColormap(list(waterper_scheme.keys()))\n",
    "# Habitat classes\n",
    "waterper_norm = colors.BoundaryNorm(\n",
    "    [value[0] for value in waterper_scheme.values()], 11\n",
    ")"
   ]
  },
  {
   "cell_type": "markdown",
   "id": "2f25decf-5954-4a17-aebe-fa6501f9ed62",
   "metadata": {
    "tags": []
   },
   "source": [
    "### Map Water persistence"
   ]
  },
  {
   "cell_type": "code",
   "execution_count": null,
   "id": "819ca260",
   "metadata": {
    "tags": []
   },
   "outputs": [],
   "source": [
    "# Plotting\n",
    "waterper_fig, ax = plt.subplots(figsize=(20, 10))\n",
    "\n",
    "waterper_plot = ax.imshow(\n",
    "    lc_dataset_masked.waterpersist.isel(time=0),\n",
    "    cmap=waterper_cmap,\n",
    "    norm=waterper_norm,\n",
    "    extent=[\n",
    "        lc_dataset.x.min().data,\n",
    "        lc_dataset.x.max().data,\n",
    "        lc_dataset.y.min().data,\n",
    "        lc_dataset.y.max().data,\n",
    "    ],\n",
    ")\n",
    "\n",
    "show_bounds = True\n",
    "if boundary_exists and show_bounds:\n",
    "    boundary.boundary.plot(ax=ax, ec=\"#e72323\", linewidth=3)\n",
    "\n",
    "patches = [\n",
    "    Patch(color=color, label=label[1]) for color, label in waterper_scheme.items()\n",
    "]\n",
    "\n",
    "ax.legend(handles=patches, bbox_to_anchor=(1.35, 1), facecolor=\"white\")\n",
    "ax.set_axis_off()\n",
    "plt.show()"
   ]
  },
  {
   "cell_type": "markdown",
   "id": "3ccb15a1-f177-4eb4-81f8-179e8b9e3abe",
   "metadata": {
    "tags": []
   },
   "source": [
    "### Save the figure to a file"
   ]
  },
  {
   "cell_type": "code",
   "execution_count": null,
   "id": "5bc94dd6",
   "metadata": {
    "tags": []
   },
   "outputs": [],
   "source": [
    "waterper_fig.savefig(f\"Soil_moisture_persistence_{area_name}_{year}.png\")"
   ]
  },
  {
   "cell_type": "markdown",
   "id": "e1d6fd1d-e841-470d-bd43-cd4db6a0de7b",
   "metadata": {},
   "source": [
    "### Show how much land has persistant water on the surface for how long"
   ]
  },
  {
   "cell_type": "code",
   "execution_count": null,
   "id": "abf2fc7f-0ba1-4838-b366-21e6e6da3ef6",
   "metadata": {
    "tags": []
   },
   "outputs": [],
   "source": [
    "waterper_stats_df = stat_summary(lc_dataset_masked.waterpersist, waterper_scheme)\n",
    "waterper_stats_df"
   ]
  }
 ],
 "metadata": {
  "kernelspec": {
   "display_name": "Python 3 (ipykernel)",
   "language": "python",
   "name": "python3"
  },
  "language_info": {
   "codemirror_mode": {
    "name": "ipython",
    "version": 3
   },
   "file_extension": ".py",
   "mimetype": "text/x-python",
   "name": "python",
   "nbconvert_exporter": "python",
   "pygments_lexer": "ipython3",
   "version": "3.11.6"
  }
 },
 "nbformat": 4,
 "nbformat_minor": 5
}
