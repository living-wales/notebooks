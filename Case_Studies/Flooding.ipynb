{
 "cells": [
  {
   "cell_type": "markdown",
   "id": "c23cfea4",
   "metadata": {
    "deletable": false,
    "editable": false
   },
   "source": [
    "# Flood mapping in Wales during 2020 winter"
   ]
  },
  {
   "cell_type": "markdown",
   "id": "729055ae",
   "metadata": {
    "deletable": false,
    "editable": false
   },
   "source": [
    "## Background"
   ]
  },
  {
   "cell_type": "markdown",
   "id": "29a1d7d0",
   "metadata": {
    "deletable": false,
    "editable": false
   },
   "source": [
    "### Floodings in Wales during 2020"
   ]
  },
  {
   "cell_type": "markdown",
   "id": "ec42d617",
   "metadata": {
    "deletable": false,
    "editable": false
   },
   "source": [
    "In 2020, Wales experienced some of the largest flooding on record. \n",
    "The sequencing, duration and severity of the rainfall in the catchment areas of Wales during February was of such intensity that many river levels reacted extremely quickly, reaching record levels and flows.\n",
    "Records show 288mm of rain fell on average across Wales in February, but with some areas receiving up to four times the long-term monthly average.\n",
    "\n",
    "\n",
    "For River Wye, Flood Warnings were issued on:\n",
    "- 15 Feb (evening) - 17 Feb 2020\n",
    "- 24 Feb - 25 Feb 2020\n",
    "- 29 Feb - 01 Mar 2020\n",
    "- 10 Mar 2020\n",
    "\n",
    "For River Usk, Flood Alerts were issued on:\n",
    "- 09 Feb - 10 Feb 2020\n",
    "- 15 Feb (evening) - 18 Feb 2020\n",
    "- 24 Feb - 25 Feb 2020\n",
    "- 28 Feb  (evening) - 01 Mar 2020\n",
    "\n",
    "For River Severn, Flood Warnings were issued on:\n",
    "- 09 Feb - 10 Feb 2020\n",
    "- 16 Feb - 17 Mar 2020\n",
    "- 23 Feb - 25 Mar 2020\n",
    "- 29 Feb 2020\n",
    "- 10 Mar 2020\n",
    "\n",
    "For River Dee, Flood Alerts were issued on:\n",
    "- 09 Feb - 11 Feb 2020\n",
    "- 13 Feb - 04 Mar 2020\n"
   ]
  },
  {
   "cell_type": "markdown",
   "id": "3e888e09",
   "metadata": {
    "deletable": false,
    "editable": false
   },
   "source": [
    "![Image of Yaktocat](https://i.guim.co.uk/img/media/4c458a2a9007cb1d60a20a0cae70ab3439ed99d4/0_27_4314_2588/master/4314.jpg?width=620&quality=45&auto=format&fit=max&dpr=2&s=2371d95503d9d0f28a6c8206937f70ca)\n",
    "An aerial view of the flooded Welsh town of Crickhowell, where the River Usk burst its banks as a result of Storm Dennis. Photograph: Christopher Furlong/Getty Images"
   ]
  },
  {
   "cell_type": "markdown",
   "id": "f6b26f41",
   "metadata": {
    "deletable": false,
    "tags": []
   },
   "source": [
    "## Description\n",
    "This notebook demonstrates how floods can be quickly mapped/monitored, using Sentinel-1 Synthetic Aperture Radar (SAR) satellite sensor, from the newly developped Wales Data Cube (`WDC`). \n",
    "\n",
    "Synthetic Aperture Radar (SAR) data have the advantage of operating at wavelengths not impeded by cloud cover or a lack of illumination and can acquire data over a site during day or night time under all weather conditions. Sentinel-1, with its C-SAR instrument, offers reliable repeated wide area monitoring.\n",
    "\n",
    "Living Wales project has allowed generation of national annual land cover maps (2017-2021), but is also actively involved in the development of a new digital infrastructure (incl. Open Data Cube technology) for Wales that provides Analysis Ready Data, which are satellite data that have been processed to a minimum set of requirements and organized into a form that allows immediate analysis with minimum additional user effort, and derived products in Near-Real Time.\n",
    "\n",
    "This notebook uses the Near-Real Time Analysis Ready Sentinel-1 Data, as well as a custom python library for flood mapping, developed and provided by the Living Wales project.\n",
    "\n",
    "\n",
    "Topics include: \n",
    "\n",
    "1. Querying data for an area and period of interest (i.e., 01 Feb - 15 Mar 2020)\n",
    "2. Loading data from datacube\n",
    "3. Mapping Sentinel-1 signal for each date of the period of interest\n",
    "4. Mapping flooded areas on daily basis\n",
    "5. Mapping the progression of flood waters during the period of interest\n",
    "6. Calculating water frequency\n"
   ]
  },
  {
   "cell_type": "markdown",
   "id": "86a39ff0",
   "metadata": {
    "deletable": false,
    "editable": false
   },
   "source": [
    "### Jupyter Notebooks\n",
    "#### Running (executing) a cell\n",
    "Jupyter Notebooks allow code to be separated into sections that can be executed independent of one another.\n",
    "These sections are called \"cells\".\n",
    "\n",
    "Python code is written into individual cells that can be executed by placing the cursor in the cell and typing `Shift-Enter` on the keyboard or selecting the &#9658; \"Run\" button in the ribbon at the top of the notebook.\n",
    "These options will run a single cell at a time.\n",
    "\n",
    "To automatically run all cells in a notebook, navigate to the \"Cell\" tab of the menu bar at the top of JupyterLab and select \"Run All\" (or the option that best suits your needs).\n",
    "When a cell is run, the cell's content is executed.\n",
    "Any output produced from running the cell will appear directly below it.\n",
    "\n",
    "Run the cell below as a test:"
   ]
  },
  {
   "cell_type": "code",
   "execution_count": null,
   "id": "4881db56",
   "metadata": {
    "deletable": false,
    "editable": false
   },
   "outputs": [],
   "source": [
    "print(\"I ran a cell!\")"
   ]
  },
  {
   "cell_type": "markdown",
   "id": "9fb14044",
   "metadata": {
    "deletable": false,
    "editable": false
   },
   "source": [
    "#### Cell status\n",
    "The `[ ]:` symbol to the left of each Code cell describes the state of the cell:\n",
    "\n",
    "* `[ ]:` means that the cell has not been run yet.\n",
    "* `[*]:` means that the cell is currently running.\n",
    "* `[1]:` means that the cell has finished running and was the first cell run. The number indicates the order that the cells were run in.\n",
    "\n",
    "***"
   ]
  },
  {
   "cell_type": "markdown",
   "id": "c4a4bdbc",
   "metadata": {
    "deletable": false,
    "editable": false
   },
   "source": [
    "## Getting started\n",
    "\n",
    "To run this analysis, run all the cells in the notebook starting with the 'Load packages and connect to the datacube' cell."
   ]
  },
  {
   "cell_type": "markdown",
   "id": "42f3dfcc",
   "metadata": {
    "deletable": false,
    "editable": false
   },
   "source": [
    "### Load packages\n",
    "\n",
    "Load key Python packages and supporting functions for the analysis, then connect to the datacube. "
   ]
  },
  {
   "cell_type": "code",
   "execution_count": null,
   "id": "6be76a21",
   "metadata": {
    "deletable": false,
    "editable": false,
    "tags": []
   },
   "outputs": [],
   "source": [
    "import sys\n",
    "sys.path.append(\"..\")\n",
    "\n",
    "import datacube\n",
    "import matplotlib.pyplot as plt\n",
    "from time import time as time\n",
    "import warnings\n",
    "warnings.filterwarnings(\"ignore\")\n",
    "import wales_utils.data_cube_utilities.display_tools as display_tools\n",
    "\n",
    "\n",
    "# Import Living Wales 'flooding' Python library\n",
    "import wales_utils.themes_utilities.flooding as flooding"
   ]
  },
  {
   "cell_type": "markdown",
   "id": "ecd9a271",
   "metadata": {
    "deletable": false,
    "editable": false,
    "tags": []
   },
   "source": [
    "### Connect to the datacube\n",
    "Connect to the datacube so we can access `WDC` Analysis Ready Data. "
   ]
  },
  {
   "cell_type": "code",
   "execution_count": null,
   "id": "b0dfe5c8",
   "metadata": {
    "deletable": false,
    "editable": false,
    "tags": []
   },
   "outputs": [],
   "source": [
    "dc = datacube.Datacube(app=\"Flooding\")"
   ]
  },
  {
   "cell_type": "markdown",
   "id": "e4ae3e90",
   "metadata": {
    "deletable": false,
    "editable": false
   },
   "source": [
    "### Query an area and period\n",
    "#### Area :  Please choose one of the four rivers, enter the name in the cell below and \"Run\" it\n",
    "- 'wye'\n",
    "- 'severn'\n",
    "- 'dee'\n",
    "- 'usk'\n"
   ]
  },
  {
   "cell_type": "code",
   "execution_count": null,
   "id": "9dd46da5",
   "metadata": {
    "deletable": false
   },
   "outputs": [],
   "source": [
    "#####################\n",
    "#  ENTER RIVER NAME #\n",
    "#####################\n",
    "\n",
    "river = 'wye'\n",
    "\n",
    "# select the above site\n",
    "site = flooding.select_flooded_site(river)"
   ]
  },
  {
   "cell_type": "markdown",
   "id": "53dba97e",
   "metadata": {
    "deletable": false,
    "editable": false,
    "tags": []
   },
   "source": [
    "#### Display the extent of the selected river site on ESRI World Imagery: `map_extent()`\n",
    "World Imagery provides very high resolution (one meter or better) satellite and aerial imagery in many parts of the world. \n",
    "However, it is static imagery and, as a consequence, for each place there is only one date is available. \n",
    "For the study sites available this notebook, it is :\n",
    "- River Wye: Maxar (Vivid) imagery captured 1 year 2 months ago, on 23 Apr 2021, with a 0.50 meters resolution\n",
    "- Severn: Maxar (Vivid) imagery captured 2 years 3 months ago, on 7 Apr 2020, with a 0.50 meters resolution\n",
    "- River Dee: Maxar (Vivid) imagery captured 3 years 9 months ago, on 27 Sept 2018, with a 0.50 meters resolution\n",
    "- River Usk: Maxar (Vivid) imagery captured 2 years ago, on 25 Jun 2020, with a 0.50 meters resolution\n",
    "\n",
    "\n",
    "This image is only used for visualising the extent of the selected study site and is not used in the following analyses.\n",
    "\n"
   ]
  },
  {
   "cell_type": "code",
   "execution_count": null,
   "id": "6ba44d35",
   "metadata": {
    "deletable": false,
    "editable": false,
    "tags": []
   },
   "outputs": [],
   "source": [
    "display_tools.map_extent(site)"
   ]
  },
  {
   "cell_type": "markdown",
   "id": "b8d2cd3f",
   "metadata": {
    "deletable": false,
    "editable": false
   },
   "source": [
    "#### Period\n",
    "For this example, period of interest has been fixed to 01 Feb to 15 Mar 2020, which is the period of issued Flood Warnings/Alerts."
   ]
  },
  {
   "cell_type": "code",
   "execution_count": null,
   "id": "6e955a2d",
   "metadata": {
    "deletable": false,
    "editable": false,
    "tags": []
   },
   "outputs": [],
   "source": [
    "start_date = '2020-02-01'\n",
    "end_date = '2020-03-15'\n",
    "\n",
    "print(\"Analysed period: \" + start_date + \" to \" + end_date)"
   ]
  },
  {
   "cell_type": "markdown",
   "id": "58fc0660",
   "metadata": {
    "deletable": false,
    "tags": []
   },
   "source": [
    "### Loading data from `WDC` "
   ]
  },
  {
   "cell_type": "markdown",
   "id": "a37a833e",
   "metadata": {
    "deletable": false,
    "editable": false
   },
   "source": [
    "#### Load data"
   ]
  },
  {
   "cell_type": "code",
   "execution_count": null,
   "id": "7892adc4",
   "metadata": {
    "deletable": false,
    "editable": false,
    "tags": []
   },
   "outputs": [],
   "source": [
    "# Preparing query for datacube\n",
    "min_x = site[0]\n",
    "min_y = site[1]\n",
    "max_x = site[2]\n",
    "max_y = site[3]\n",
    "\n",
    "query = {'x': (min_x, max_x),\n",
    "         'y': (min_y, max_y),\n",
    "         'crs':'epsg:27700',\n",
    "         'time': (start_date, end_date),\n",
    "         'output_crs': 'epsg:27700',\n",
    "         'resolution': (-10,10)}\n",
    "\n",
    "start_time = time()\n",
    "\n",
    "# Let's load and clean a demo dataset\n",
    "dataset_in = dc.load(product=\"sen1_rtc_pyroSNAP\",\n",
    "                     **query,\n",
    "                    dask_chunks={'x': 1000, 'y': 1000})\n",
    "\n",
    "# define nodata\n",
    "dataset_in = dataset_in.where(dataset_in != 0)\n",
    "# drop dates with only nodata for the area of interest\n",
    "dataset_in = dataset_in.dropna('time', how='all')\n",
    "# rename x and y with explicit names\n",
    "dataset_in = dataset_in.rename({'x': 'longitude', 'y': 'latitude'})\n",
    "\n",
    "# group images by YYYY-MM-DD\n",
    "S1_dataset = dataset_in.groupby(dataset_in.time.dt.strftime(\"%Y-%m-%d\")).mean(\"time\")\n",
    "S1_dataset = S1_dataset.rename({'strftime': 'time'})\n",
    "\n",
    "print(\"Datacube ready\")\n",
    "print(\"Took only \" + str(round(time()-start_time,2)) + \" seconds to load a whole year of data from datacube \\\n",
    "for the specified extent (i.e., \"+ str(len(dataset_in.time)*len(dataset_in.keys())) +\" images).\")"
   ]
  },
  {
   "cell_type": "markdown",
   "id": "a948cedb",
   "metadata": {
    "deletable": false,
    "editable": false
   },
   "source": [
    "#### Have a look at the dataset structure"
   ]
  },
  {
   "cell_type": "code",
   "execution_count": null,
   "id": "7654a0f5",
   "metadata": {
    "deletable": false,
    "editable": false
   },
   "outputs": [],
   "source": [
    "S1_dataset"
   ]
  },
  {
   "cell_type": "markdown",
   "id": "77b89b77",
   "metadata": {
    "deletable": false,
    "editable": false
   },
   "source": [
    "#### Map Sentinel-1 VH backscatter (decibel) for each date of the period of interest"
   ]
  },
  {
   "cell_type": "code",
   "execution_count": null,
   "id": "03b6c7ca",
   "metadata": {
    "deletable": false,
    "editable": false,
    "tags": []
   },
   "outputs": [],
   "source": [
    "print(\"Plotting ...\")\n",
    "print(\"(Please wait until images appear. This may take a few seconds)\")\n",
    "\n",
    "S1_dataset.VH.plot(col='time', col_wrap=5);"
   ]
  },
  {
   "cell_type": "markdown",
   "id": "06ea6e55",
   "metadata": {
    "deletable": false,
    "editable": false,
    "tags": []
   },
   "source": [
    "### Mapping flooded areas\n",
    "In this section, we will create a map of flood water extent for each date of the period of interest using the custom `WDC` `flood_mapping()` tool, and visualise them."
   ]
  },
  {
   "cell_type": "code",
   "execution_count": null,
   "id": "9501a4f6",
   "metadata": {
    "deletable": false,
    "editable": false,
    "tags": []
   },
   "outputs": [],
   "source": [
    "# Map flooded areas for each available Sentinel-1 scene\n",
    "floods = flooding.flood_mapping(S1_dataset)"
   ]
  },
  {
   "cell_type": "code",
   "execution_count": null,
   "id": "0cf7f42c",
   "metadata": {
    "deletable": false,
    "editable": false,
    "tags": []
   },
   "outputs": [],
   "source": [
    "# Visualise flooded areas for each date\n",
    "print(\"Plotting ...\")\n",
    "print(\"(Please wait until images appear. This may take a few seconds)\")\n",
    "\n",
    "floods.plot(col='time', col_wrap=5, add_colorbar=False, cmap=\"Blues\");"
   ]
  },
  {
   "cell_type": "markdown",
   "id": "38500900",
   "metadata": {
    "deletable": false,
    "editable": false
   },
   "source": [
    "### Mapping progression of flood waters"
   ]
  },
  {
   "cell_type": "markdown",
   "id": "09e11919",
   "metadata": {
    "deletable": false,
    "editable": false,
    "tags": []
   },
   "source": [
    "In this section, we will be mapping the progression of the flood waters through the landscape in Near-Real Time during the whole period using the custom `WDC` `flood_progression()` function. This allows sensing of (1) newly flooded areas, (2) areas where flood waters have receded and (3) areas still flooded, for each consecutive date.\n",
    "\n",
    "\n",
    "- RED: newly flooded areas since previous satellite imagery\n",
    "- ORANGE: areas remaining flooded\n",
    "- BLUE: areas where flood waters have receded since previous satellite imagery"
   ]
  },
  {
   "cell_type": "code",
   "execution_count": null,
   "id": "7861f530",
   "metadata": {
    "deletable": false,
    "editable": false,
    "tags": []
   },
   "outputs": [],
   "source": [
    "# Calculate water progression between each date of the studied period \n",
    "water_changes = flooding.flood_progression(floods)"
   ]
  },
  {
   "cell_type": "code",
   "execution_count": null,
   "id": "a2b81aa3",
   "metadata": {
    "deletable": false,
    "editable": false,
    "tags": []
   },
   "outputs": [],
   "source": [
    "# Visualise water progression between each date of the studied period \n",
    "print(\"Plotting ...\")\n",
    "print(\"(Please wait until images appear. This may take a few seconds)\")\n",
    "\n",
    "water_changes.plot(col='time', col_wrap=5, cmap=\"jet\", add_colorbar=False);"
   ]
  },
  {
   "cell_type": "markdown",
   "id": "08da52f1",
   "metadata": {
    "deletable": false,
    "editable": false,
    "tags": []
   },
   "source": [
    "### Calculate water frequency during February 2020\n",
    "In this section, we will calculate how frequently each pixel was observed as wet during February 2020 using the custom `WDC` `flood_frequency()` function, and plot the frequency map.\n",
    "\n",
    "To visualise results we are using the magma color scheme, but you can select a different one from the [Matplotlib library](https://matplotlib.org/stable/tutorials/colors/colormaps.html)."
   ]
  },
  {
   "cell_type": "code",
   "execution_count": null,
   "id": "cc2bf1d6",
   "metadata": {
    "deletable": false,
    "editable": false,
    "tags": []
   },
   "outputs": [],
   "source": [
    "# Calculate water frequency during February 2020\n",
    "frequency = flooding.flood_frequency(floods, '2020-02-01', '2020-02-29')"
   ]
  },
  {
   "cell_type": "code",
   "execution_count": null,
   "id": "dd3f5622",
   "metadata": {
    "deletable": false,
    "editable": false,
    "tags": []
   },
   "outputs": [],
   "source": [
    "# Visualise water frequency during February 2020\n",
    "print(\"Plotting ...\")\n",
    "print(\"(Please wait until images appear. This may take a few seconds)\")\n",
    "\n",
    "frequency.plot(figsize=(12,10), cmap=\"magma_r\", levels=40);\n",
    "plt.title('Water frequency during February 2020');"
   ]
  },
  {
   "cell_type": "markdown",
   "id": "aff203bd",
   "metadata": {
    "deletable": false,
    "editable": false,
    "tags": []
   },
   "source": [
    "#### Overlay the result on an ESRI World Imagery\n",
    "\n",
    "As part of the Living Wales project, we have added a tool (i.e, `display_da()`) in the `WDC` that allows overlaying an `xarray.DataArray` on a dynamic map.\n",
    "\n",
    "Here we use the reverse magma colour scheme. You can select a different name of colour scheme from the [Matplotlib library](https://matplotlib.org/stable/tutorials/colors/colormaps.html)."
   ]
  },
  {
   "cell_type": "code",
   "execution_count": null,
   "id": "29b331e6",
   "metadata": {
    "deletable": false,
    "editable": false,
    "tags": []
   },
   "outputs": [],
   "source": [
    "display_tools.display_da(frequency, colormap='magma_r')"
   ]
  },
  {
   "cell_type": "markdown",
   "id": "c405366c-f060-4c7a-8eba-2192a68e18fb",
   "metadata": {},
   "source": [
    "Let's re-run the whole analysis for another river (e.g., 'servern'). Change the name of the river in cell `4`, and then navigate to `Kernel` and select `'Restart Kernel and Run All Cells...'`"
   ]
  },
  {
   "cell_type": "code",
   "execution_count": null,
   "id": "07b83109-e69a-46e0-9e32-c43f4e967b7e",
   "metadata": {},
   "outputs": [],
   "source": []
  }
 ],
 "metadata": {
  "celltoolbar": "Edit Metadata",
  "kernelspec": {
   "display_name": "Python 3 (ipykernel)",
   "language": "python",
   "name": "python3"
  },
  "language_info": {
   "codemirror_mode": {
    "name": "ipython",
    "version": 3
   },
   "file_extension": ".py",
   "mimetype": "text/x-python",
   "name": "python",
   "nbconvert_exporter": "python",
   "pygments_lexer": "ipython3",
   "version": "3.10.6"
  }
 },
 "nbformat": 4,
 "nbformat_minor": 5
}
