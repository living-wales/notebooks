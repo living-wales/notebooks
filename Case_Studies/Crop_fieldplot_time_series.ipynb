{
 "cells": [
  {
   "cell_type": "markdown",
   "metadata": {},
   "source": [
    "# Field monitoring in near-real time"
   ]
  },
  {
   "cell_type": "markdown",
   "metadata": {},
   "source": [
    "## Background"
   ]
  },
  {
   "cell_type": "markdown",
   "metadata": {},
   "source": [
    "crop\n"
   ]
  },
  {
   "cell_type": "markdown",
   "metadata": {},
   "source": [
    "![Image of Yaktocat](https://wales.livingearth.online/wp-content/uploads/2022/01/croptype.png)\n",
    "\n",
    "                         Crop field in Pembrokshire. Photograph: Clive Hurford"
   ]
  },
  {
   "cell_type": "markdown",
   "metadata": {},
   "source": [
    "## Description\n",
    "\n",
    "This notebook demonstrates how crops and their growth stages can be monitored, at parcel scale, in Near-Real Time using Sentinel-1 Synthetic Aperture Radar (SAR) satellite sensor, within the newly developed Wales Open Data Cube environment.\n",
    "\n",
    "Recently Planet has started to provide daily satellite data to Wales, which could be very useful for crop monitoring. However, as any optical sensor, Planet imagery is impeded by cloud cover, as well as winter lack of illumination.\n",
    "\n",
    "In Wales, the period of greatest cloud cover is from October to the end of April, which coincides with the beginning of the growing season for several crops. Moreover, cloud cover remains high during the whole year and as a consequence, through the major crop growth periods. In these conditions, even Planet, with its daily provision capacity, cannot provide near-real time data for monitoring crops during the whole growing season. \n",
    "\n",
    "Synthetic Aperture Radar (SAR) data have the advantage of operating at wavelengths not impeded by cloud cover or a lack of illumination and can acquire data over a site during day or night time under all weather conditions. Sentinel-1, with its C-SAR instrument, offers reliable repeated wide area monitoring with 10m spatial resolution.\n",
    "\n",
    "As part of the new digital infrastructure (incl. Open Data Cube technology), as soon as new Sentinel-1 scenes are made available by Copernicus, data are processed to Analysis Ready Data format and made available on EODataDown and within the Wales Open Data Cube, thus allowing monitoring in Near-Real Time.\n",
    "\n",
    "This notebook uses the Near-Real Time Analysis Ready Sentinel-1 Data, as well as tools developed by Living Wales, to continuously monitor field plots and their states, incl. beginning of vegetation growth, key growth stages, harvest date.\n",
    "\n",
    "\n",
    "Topics include: \n",
    "\n",
    "1. Query a field plot of interest, by drawing it or selecting a field plot from a shapefile\n",
    "2. Loading data from datacube\n",
    "3. Masking data out of the field plot\n",
    "4. Tracking the evolution of a parcel in near-real time\n",
    "5. Study case: tracking the growth stages in a Rapeseed plot"
   ]
  },
  {
   "cell_type": "markdown",
   "metadata": {},
   "source": [
    "### Jupyter Notebooks\n",
    "#### Running (executing) a cell\n",
    "Jupyter Notebooks allow code to be separated into sections that can be executed independent of one another.\n",
    "These sections are called \"cells\".\n",
    "\n",
    "Python code is written into individual cells that can be executed by placing the cursor in the cell and typing `Shift-Enter` on the keyboard or selecting the &#9658; \"Run\" button in the ribbon at the top of the notebook.\n",
    "These options will run a single cell at a time.\n",
    "\n",
    "When a cell is run, the cell's content is executed.\n",
    "Any output produced from running the cell will appear directly below it.\n",
    "\n",
    "Run the cell below as a test:"
   ]
  },
  {
   "cell_type": "code",
   "execution_count": null,
   "metadata": {},
   "outputs": [],
   "source": [
    "print(\"I ran a cell!\")"
   ]
  },
  {
   "cell_type": "markdown",
   "metadata": {},
   "source": [
    "#### Cell status\n",
    "The `[ ]:` symbol to the left of each Code cell describes the state of the cell:\n",
    "\n",
    "* `[ ]:` means that the cell has not been run yet.\n",
    "* `[*]:` means that the cell is currently running.\n",
    "* `[1]:` means that the cell has finished running and was the first cell run. The number indicates the order that the cells were run in.\n",
    "\n",
    "***"
   ]
  },
  {
   "cell_type": "markdown",
   "metadata": {},
   "source": [
    "## Getting started\n",
    "\n",
    "To run this analysis, run all the cells in the notebook starting with the 'Load packages and connect to the datacube' cell and choose an area and period of interest."
   ]
  },
  {
   "cell_type": "markdown",
   "metadata": {},
   "source": [
    "### Load packages\n",
    "\n",
    "Load key Python packages and supporting functions for the analysis, then connect to the datacube. "
   ]
  },
  {
   "cell_type": "code",
   "execution_count": null,
   "metadata": {},
   "outputs": [],
   "source": [
    "# Import modules\n",
    "\n",
    "import sys\n",
    "\n",
    "from time import time as time\n",
    "import datetime as dt\n",
    "\n",
    "import geopandas as gpd\n",
    "from ipyleaflet import GeoData\n",
    "\n",
    "import matplotlib.pyplot as plt\n",
    "from matplotlib.dates import DateFormatter\n",
    "import matplotlib.dates as mdates\n",
    "\n",
    "import warnings\n",
    "warnings.filterwarnings(\"ignore\")\n",
    "\n",
    "import datacube\n",
    "from datacube.utils.geometry import Geometry, CRS\n",
    "\n",
    "sys.path.append(\"../wales_utils/data_cube_utilities\")\n",
    "from display_tools import draw_select, calendar\n",
    "from wdc_datahandling import geom_fromdrawn, geopolygon_masking\n",
    "sys.path.append(\"../wales_utils/themes_utilities\")\n",
    "from crop import rapeseed_study_case_plot"
   ]
  },
  {
   "cell_type": "markdown",
   "metadata": {},
   "source": [
    "### Connect to the datacube\n",
    "Connect to the datacube so we can access Living Wales Analysis Ready Data."
   ]
  },
  {
   "cell_type": "code",
   "execution_count": null,
   "metadata": {},
   "outputs": [],
   "source": [
    "dc = datacube.Datacube()"
   ]
  },
  {
   "cell_type": "markdown",
   "metadata": {},
   "source": [
    "### Query a field plot of interest\n",
    "#### Loading field plots from shapefile"
   ]
  },
  {
   "cell_type": "code",
   "execution_count": null,
   "metadata": {},
   "outputs": [],
   "source": [
    "# Open and read a shapefile containing the boundaries of several field plots\n",
    "field_plots = gpd.read_file('../Vectors/WDC_workshop.shp')\n",
    "\n",
    "# Transform the shapefile boundaries into geographic data (and affect a style) \n",
    "geo_data = GeoData(geo_dataframe = field_plots.to_crs(epsg=4326),\n",
    "                   style={'color': 'black', 'fillColor': '#3366cc', 'opacity':0.05, \n",
    "                          'weight':1.9, 'dashArray':'2', 'fillOpacity':0.6},\n",
    "                   hover_style={'fillColor': 'red' , 'fillOpacity': 0.2},\n",
    "                   name = 'Fields')\n",
    "\n",
    "# map the geographic data\n",
    "m, option_widget = draw_select(geo_data)\n",
    "m.add_layer(geo_data)\n",
    "m"
   ]
  },
  {
   "cell_type": "markdown",
   "metadata": {},
   "source": [
    "#### Draw/Select a field plot\n",
    "\n",
    "In this section, we will interact with the above display tool to either select a field plot from the shapefile or draw the boundaries of a plot of interest. \n",
    "\n",
    "Unfortunately, currently, there is no ipython library available to click-select. As part of the Living Wales, we have developed an alternative to allow you to select a polygon feature. \n",
    "\n",
    "- TO SELECT: use the &#9726; *'draw a rectangle'* symbol in the leftside bar, draw a small polygon **inside** the polygon you would like to select and click on the 'Select' button\n",
    "- TO DRAW: use the &#11039; *'draw a polygon'* symbol in the leftside bar, draw the boundaries of your chosen field plot and click on the 'Extent' button\n",
    "- TO DELETE: at any time, you can click on the bin symbol and choose 'Clear All\" to delete the polygon(s) you have drawn.\n"
   ]
  },
  {
   "cell_type": "markdown",
   "metadata": {},
   "source": [
    "#### Use the drawn/selected field plot as the geopolygon of interest"
   ]
  },
  {
   "cell_type": "code",
   "execution_count": null,
   "metadata": {},
   "outputs": [],
   "source": [
    "# Get the selected option (i.e., Extent or Selection) \n",
    "selected_option = option_widget.value\n",
    "\n",
    "# Transform the drawn boundaries to a geopolygon\n",
    "my_geopolygon = geom_fromdrawn(selected_option, shapefile=field_plots)[0]\n",
    "\n",
    "print(\"The drawn shape was be used for : \" + selected_option)\n",
    "print(\"The geopolygon of interest is the following one; \")\n",
    "my_geopolygon"
   ]
  },
  {
   "cell_type": "markdown",
   "metadata": {},
   "source": [
    "#### Today's date"
   ]
  },
  {
   "cell_type": "markdown",
   "metadata": {},
   "source": [
    "In this notebook, we focus on monitoring the crops in near-real time at parcel scale.\n",
    "\n",
    "So, **let's imagine** what you would see if today was for example the 15th of May 2020 or any other date. \n",
    "\n",
    "Run the cell below and pick today's hypothetical date."
   ]
  },
  {
   "cell_type": "code",
   "execution_count": null,
   "metadata": {},
   "outputs": [],
   "source": [
    "# plot calendar and pick a date\n",
    "hypothetical_today_date = calendar()"
   ]
  },
  {
   "cell_type": "code",
   "execution_count": null,
   "metadata": {},
   "outputs": [],
   "source": [
    "# define the period of interest, i.e., beginning of the hypothetical year crop season\n",
    "# to hypothetical today's date\n",
    "hypothetical_year = hypothetical_today_date.value.year\n",
    "\n",
    "start_date = str(hypothetical_year-1)+'-10-01'\n",
    "end_date = hypothetical_today_date.value.strftime(\"%Y-%m-%d\")\n",
    "\n",
    "print(\"Analysing \" + str(hypothetical_year) + \" crop season: \"+ start_date + \" to \" + end_date)"
   ]
  },
  {
   "cell_type": "markdown",
   "metadata": {},
   "source": [
    "### Loading data from datacube "
   ]
  },
  {
   "cell_type": "markdown",
   "metadata": {},
   "source": [
    "#### Prepare query for datacube"
   ]
  },
  {
   "cell_type": "code",
   "execution_count": null,
   "metadata": {},
   "outputs": [],
   "source": [
    "query = {'product': 'sen1_rtc_pyroSNAP',\n",
    "             'geopolygon': my_geopolygon,\n",
    "             'time': (start_date, end_date),\n",
    "             'output_crs': 'epsg:27700',\n",
    "             'measurements': ['VH','VV'],\n",
    "             'resolution': (-10,10)}"
   ]
  },
  {
   "cell_type": "markdown",
   "metadata": {},
   "source": [
    "#### Load data"
   ]
  },
  {
   "cell_type": "code",
   "execution_count": null,
   "metadata": {},
   "outputs": [],
   "source": [
    "start_time = time()\n",
    "\n",
    "# Let's load the dataset\n",
    "dataset_in = dc.load(**query)\n",
    "\n",
    "# define nodata\n",
    "dataset_in = dataset_in.where(dataset_in != 0)\n",
    "\n",
    "# clean data: drop dates with only nodata for the area of interest\n",
    "dataset_in = dataset_in.dropna('time', how='all')\n",
    "\n",
    "# When using epsg other than 4326 (here: 27700), latitude and longitude are renamed y and x.\n",
    "# Let's correct that and rename x and y with explicit names\n",
    "dataset_in = dataset_in.rename({'x': 'longitude', 'y': 'latitude'})\n",
    "\n",
    "# group images by YYYY-MM-DD\n",
    "S1_dataset = dataset_in.groupby(dataset_in.time.dt.strftime(\"%Y-%m-%d\")).mean(\"time\")\n",
    "S1_dataset = S1_dataset.rename({'strftime': 'time'})\n",
    "\n",
    "print(\"Datacube ready\")\n",
    "print(\"Took only \" + str(round(time()-start_time,2)) + \" seconds to load \"+ str(len(S1_dataset.time\n",
    "                                                                              )) +\" images from datacube.\")"
   ]
  },
  {
   "cell_type": "code",
   "execution_count": null,
   "metadata": {},
   "outputs": [],
   "source": [
    "# Visualise VH backscatter for the first date in the dataset\n",
    "print(\"Plotting ...\")\n",
    "print(\"(Please wait until images appear. This may take a few seconds.)\")\n",
    "\n",
    "S1_dataset.VH.isel(time=0).plot();"
   ]
  },
  {
   "cell_type": "markdown",
   "metadata": {},
   "source": [
    "### Masking data out of the field plot\n",
    "\n",
    "As you can see on the above figure, within the data cube, data are loaded as a geobox (i.e., a rectangle). \n",
    "In our case, in cell 9, we have queried a geopolygon. However, the data cube only uses the maximum/minimum latitude/longitude of the polygon to load the data.\n",
    "\n",
    "In this section, we will mask out the pixels which are not included within the draw/selected geopolygon using one of the tools developed by Living Wales."
   ]
  },
  {
   "cell_type": "code",
   "execution_count": null,
   "metadata": {},
   "outputs": [],
   "source": [
    "# Masking data out of the field plot\n",
    "S1_dataset = geopolygon_masking(S1_dataset, my_geopolygon)\n",
    "\n",
    "# Visualise VH backscatter for the first date in the dataset (after masking)\n",
    "print(\"Plotting ...\")\n",
    "print(\"(Please wait until images appear. This may take a few seconds.)\")\n",
    "\n",
    "S1_dataset.VH.isel(time=0).plot();"
   ]
  },
  {
   "cell_type": "markdown",
   "metadata": {},
   "source": [
    "### Tracking the evolution of a parcel in near-real time\n",
    "\n",
    "As with Sentinel-2, indices can be calculated using Sentinel-1. The polarization ratio, which is very useful to reduce the effect of soil on VH backscattering and detect the beginning of vegetation growing, is one of the most used indices when analysing radar data.\n",
    "\n",
    "In this section, for each available date, from the beginning of the crop season (i.e., 1st October) to today's hypothetical date, we calculate the index, summarise the backscatter/index at parcel scale, and plot its evolution."
   ]
  },
  {
   "cell_type": "code",
   "execution_count": null,
   "metadata": {},
   "outputs": [],
   "source": [
    "# Calculate VH/VV ratio for each pixel\n",
    "S1_dataset['Ratio'] = S1_dataset.VH - S1_dataset.VV\n",
    "\n",
    "# Summarise the backscatters/indices at parcel scale\n",
    "median_VH = S1_dataset.VH.median(['latitude','longitude'])\n",
    "median_VV = S1_dataset.VV.median(['latitude','longitude'])\n",
    "median_Ratio = S1_dataset.Ratio.median(['latitude','longitude'])"
   ]
  },
  {
   "cell_type": "code",
   "execution_count": null,
   "metadata": {
    "scrolled": false
   },
   "outputs": [],
   "source": [
    "# Plotting the parcel backscatters/index\n",
    "print(\"Plotting ...\")\n",
    "print(\"(Please wait until images appear. This may take a few seconds depending on your period of interest.)\")\n",
    "\n",
    "# define figure size\n",
    "fig, (ax1, ax2, ax3) = plt.subplots(3,figsize=(18,18));\n",
    "# Set title\n",
    "fig.suptitle('Evolution of the parcel since the beginning of the crop season', y=0.9);\n",
    "# Set date format for the x axis\n",
    "dates=[dt.datetime.strptime(d,'%Y-%m-%d').date() for d in median_VV.time.values];\n",
    "\n",
    "# Plot the polarization ratio\n",
    "ax1.plot(dates, median_Ratio.values, marker=\"o\");\n",
    "ax1.set_ylim([-16, -2]);\n",
    "ax1.grid(visible=True, which='major', axis='both');\n",
    "ax1.xaxis.set_major_locator(mdates.MonthLocator());\n",
    "ax1.xaxis.set_major_formatter(DateFormatter(\"%Y-%m-%d\"));\n",
    "ax1.set_ylabel(\"Ratio\");\n",
    "\n",
    "# Plot the VH backscatter\n",
    "ax2.plot(dates,median_VH.values, marker=\"o\");\n",
    "ax2.set_ylim([-26, -5]);\n",
    "ax2.grid(visible=True, which='major', axis='both');\n",
    "ax2.xaxis.set_major_locator(mdates.MonthLocator());\n",
    "ax2.xaxis.set_major_formatter(DateFormatter(\"%Y-%m-%d\"));\n",
    "ax2.set_ylabel(\"VH backscatter\");\n",
    "\n",
    "# Plot the VV backscatter\n",
    "ax3.plot(dates, median_VV.values, marker=\"o\");\n",
    "ax3.set_ylim([-20, -2]);\n",
    "ax3.grid(visible=True, which='major', axis='both');\n",
    "ax3.xaxis.set_major_locator(mdates.MonthLocator());\n",
    "ax3.xaxis.set_major_formatter(DateFormatter(\"%Y-%m-%d\"));\n",
    "ax3.set_ylabel(\"VV backscatter\");\n"
   ]
  },
  {
   "cell_type": "markdown",
   "metadata": {},
   "source": [
    "--------------------------------------------------------------------------------------------------------------------\n",
    "\n",
    "\n",
    "\n",
    "### Study case: tracking the growth stages in a Rapeseed plot\n",
    "\n",
    "In this section, we showcase how, using Sentinel-1 data and derived index, we can track the seasonal evolution of a  plot and the dates of some key growth stages. \n",
    "\n",
    "Here, we will study the case of a rapeseed plot during the 2018 crop season, but all crops have their own SAR-C signature which can be related to change in growth stages.\n",
    "\n",
    "To help you to visually interpret the SAR C-band trends, we added some cloud-free Planet imagery.\n"
   ]
  },
  {
   "cell_type": "markdown",
   "metadata": {},
   "source": [
    "#### Load data from datacube"
   ]
  },
  {
   "cell_type": "code",
   "execution_count": null,
   "metadata": {},
   "outputs": [],
   "source": [
    "# Use the rapeseed study plot as geopolygon\n",
    "rapeseed = field_plots[field_plots.id==1]\n",
    "rapeseed_plot = Geometry(geom= rapeseed.geometry[0], crs=CRS(\"epsg:4326\"))\n",
    "\n",
    "# Prepare query for datacube\n",
    "query = {'product': 'sen1_rtc_pyroSNAP',\n",
    "             'geopolygon': rapeseed_plot,\n",
    "             'time': ('2017-08-01', '2018-10-31'),\n",
    "             'output_crs': 'epsg:27700',\n",
    "             'measurements': ['VH','VV'],\n",
    "             'resolution': (-10,10)}\n",
    "\n",
    "# Load the dataset for the plot of interest\n",
    "dataset_rapeseed = dc.load(**query)\n",
    "# define nodata\n",
    "dataset_rapeseed = dataset_rapeseed.where(dataset_rapeseed != 0)\n",
    "# clean data: drop dates with only nodata for the area of interest\n",
    "dataset_rapeseed = dataset_rapeseed.dropna('time', how='all')\n",
    "# rename x and y with explicit names\n",
    "dataset_rapeseed = dataset_rapeseed.rename({'x': 'longitude', 'y': 'latitude'})\n",
    "# group images by YYYY-MM-DD\n",
    "S1_rapeseed = dataset_rapeseed.groupby(dataset_rapeseed.time.dt.strftime(\"%Y-%m-%d\")).mean(\"time\")\n",
    "S1_rapeseed = S1_rapeseed.rename({'strftime': 'time'})\n",
    "# masking rapeseed plot\n",
    "S1_rapeseed = geopolygon_masking(S1_rapeseed, rapeseed_plot)"
   ]
  },
  {
   "cell_type": "markdown",
   "metadata": {},
   "source": [
    "#### Calculate the polarization ratio"
   ]
  },
  {
   "cell_type": "code",
   "execution_count": null,
   "metadata": {},
   "outputs": [],
   "source": [
    "# Calculate polarization ratio for each pixel\n",
    "S1_rapeseed['Ratio'] = S1_rapeseed.VH - S1_rapeseed.VV\n",
    "\n",
    "# Summarise the backscatters/index at parcel level\n",
    "median_VH_rapeseed = S1_rapeseed.VH.median(['latitude','longitude'])\n",
    "median_VV_rapeseed = S1_rapeseed.VV.median(['latitude','longitude'])\n",
    "median_Ratio_rapeseed = S1_rapeseed.Ratio.median(['latitude','longitude'])"
   ]
  },
  {
   "cell_type": "markdown",
   "metadata": {},
   "source": [
    "#### Tracking growth stages in the rapeseed plot\n",
    "\n",
    "In this section, we plot the SAR C-band signal, and derived index, during the whole crop season.\n",
    "\n",
    "On the SAR trend figure, we have indicated each Planet image available below using a vertical red line (except for 5th May image (i.e., full flowering) which is indicated in yellow).\n",
    "\n",
    "\n",
    "\n",
    "As we can see on the figure hereafter:\n",
    "\n",
    "- vegetation emerged around the 2017-09-15 \n",
    "- followed by an active leaf production until ~ 2017-10-20 \n",
    "- biomass production then slowed down until ~ 2018-02-01, and then resumed.\n",
    "- biomass production accelerated from ~ 2018-04-01 (i.e., stem elongation/flower bud development)\n",
    "- flowering started around 2018-04-25 \n",
    "- pods/seeds started to develop around 2018-05-10\n",
    "- pods fully developed by 2018-05-25, then the ripening/senescence started.\n",
    "- harvest on 2018-07-07.\n",
    "\n",
    "All the above-mentioned dates are indicated with vertical black lines on the SAR trend figure."
   ]
  },
  {
   "cell_type": "code",
   "execution_count": null,
   "metadata": {},
   "outputs": [],
   "source": [
    "# Plot SAR-C signal and derived index of the study plot (with some Planet images)\n",
    "print(\"Plotting ...\")\n",
    "print(\"(Please wait until images appear. This may take a few seconds.)\")\n",
    "\n",
    "rapeseed_study_case_plot(median_VH=median_VH_rapeseed, median_VV=median_VV_rapeseed, \n",
    "                         median_Ratio=median_Ratio_rapeseed)"
   ]
  },
  {
   "cell_type": "code",
   "execution_count": null,
   "metadata": {},
   "outputs": [],
   "source": []
  }
 ],
 "metadata": {
  "kernelspec": {
   "display_name": "Python 3 (ipykernel)",
   "language": "python",
   "name": "python3"
  },
  "language_info": {
   "codemirror_mode": {
    "name": "ipython",
    "version": 3
   },
   "file_extension": ".py",
   "mimetype": "text/x-python",
   "name": "python",
   "nbconvert_exporter": "python",
   "pygments_lexer": "ipython3",
   "version": "3.10.4"
  }
 },
 "nbformat": 4,
 "nbformat_minor": 2
}
