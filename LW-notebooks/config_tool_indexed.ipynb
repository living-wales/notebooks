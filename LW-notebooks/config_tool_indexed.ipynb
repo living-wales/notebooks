{
 "cells": [
  {
   "cell_type": "markdown",
   "metadata": {},
   "source": [
    "# Script to help user to define a configuration cell for ODC notebooks\n",
    "\n",
    "*****\n",
    "\n",
    "As geographical extent, time period, product and measurements differ between ODC dataset, this scrip explore the connected ODC and help user to create a configuration cell with proper data, to be manually copy/pasted or loaded in ODC Jupyter notebook."
   ]
  },
  {
   "cell_type": "code",
   "execution_count": null,
   "metadata": {},
   "outputs": [],
   "source": [
    "# Import modules\n",
    "\n",
    "# reload module before executing code\n",
    "%load_ext autoreload\n",
    "%autoreload 2\n",
    "\n",
    "# define modules locations (you might have to adapt define_mod_locs.py)\n",
    "%run ../swiss_utils/define_mod_locs.py\n",
    "\n",
    "import ipywidgets as widgets\n",
    "\n",
    "from datetime import timedelta\n",
    "from shapely.geometry import Polygon\n",
    "\n",
    "from utils.data_cube_utilities.dc_load import get_product_extents\n",
    "\n",
    "from swiss_utils.data_cube_utilities.sdc_utilities import get_platform, new_get_query_metadata\n",
    "from swiss_utils.data_cube_utilities.sdc_advutils import draw_map\n",
    "\n",
    "import datacube\n",
    "dc = datacube.Datacube()"
   ]
  },
  {
   "cell_type": "code",
   "execution_count": null,
   "metadata": {},
   "outputs": [],
   "source": [
    "# Select the proper format:\n",
    "# if NetCDF is not available it meand ingestion wasn't performed and use original Geotiff instead\n",
    "\n",
    "products = dc.list_products()\n",
    "fmts = set(map(str.upper,set(products.format)))\n",
    "if 'NETCDF' in fmts:\n",
    "    format_sel = 'NETCDF'\n",
    "elif 'GEOTIFF' in fmts:\n",
    "    format_sel = 'GEOTIFF'\n",
    "else:\n",
    "    print('Cannot find proper format (Geotiff or NetCDF) to run the rest os the script !')"
   ]
  },
  {
   "cell_type": "code",
   "execution_count": null,
   "metadata": {},
   "outputs": [],
   "source": [
    "# Select the product\n",
    "\n",
    "product_names = products[products['format'].str.upper() == format_sel].name\n",
    "product_sel = widgets.RadioButtons(options=product_names,\n",
    "                                   disabled=False)\n",
    "display(widgets.Label('Select a product and run the next cell: '), product_sel)"
   ]
  },
  {
   "cell_type": "code",
   "execution_count": null,
   "metadata": {},
   "outputs": [],
   "source": [
    "# automatically set platform\n",
    "\n",
    "platform = get_platform(dc, [product_sel.value])[0]\n",
    "print('platform: {}'.format(platform))"
   ]
  },
  {
   "cell_type": "code",
   "execution_count": null,
   "metadata": {},
   "outputs": [],
   "source": [
    "# Select measurements\n",
    "\n",
    "measurement_list = dc.list_measurements(with_pandas=False)\n",
    "measurements_for_product = filter(lambda x: x['product'] == product_sel.value, measurement_list)\n",
    "valid_measurements_name_array = set(map(lambda x: x['name'], measurements_for_product))\n",
    "# Landsat and Sentinel 2\n",
    "try:\n",
    "    measur_sel = widgets.SelectMultiple(options=sorted(list(valid_measurements_name_array)),\n",
    "                                        value = ['blue', 'green', 'red'],\n",
    "                                        disabled=False)\n",
    "# Sentinel 1\n",
    "except:\n",
    "    measur_sel = widgets.SelectMultiple(options=sorted(list(valid_measurements_name_array)),\n",
    "                                        disabled=False)\n",
    "display(widgets.Label('Select a measurements and run the next cell: '), measur_sel)"
   ]
  },
  {
   "cell_type": "code",
   "execution_count": null,
   "metadata": {},
   "outputs": [],
   "source": [
    "# Convert tupple to list\n",
    "\n",
    "measur_sel = list(measur_sel.value)"
   ]
  },
  {
   "cell_type": "code",
   "execution_count": null,
   "metadata": {},
   "outputs": [],
   "source": [
    "import utils.data_cube_utilities.data_access_api as dc_api  \n",
    "api = dc_api.DataAccessApi()\n",
    "\n",
    "mtd = api.get_query_metadata(product = product_sel.value, measurements=[], output_crs = \"epsg:4326\", resolution = (-0.1,0.1))\n",
    "\n",
    "full_lat = mtd['lat_extents']\n",
    "full_lon = mtd['lon_extents']\n",
    "min_max_dates = mtd['time_extents']\n",
    "\n",
    "# Add an empty map you can draw on it\n",
    "m, poly = draw_map(full_lat, full_lon)\n",
    "print('Zoom, pan and draw a rectangle or polygon (the bounding box will be used) and run the next cell:')\n",
    "m"
   ]
  },
  {
   "cell_type": "code",
   "execution_count": null,
   "metadata": {},
   "outputs": [],
   "source": [
    "# Once a feature is drawn, extract the bounding box of the last feature drawn\n",
    "\n",
    "coords = poly.last_draw['geometry']['coordinates']\n",
    "geo_extent = Polygon(coords[0]).bounds\n",
    "\n",
    "min_lon = geo_extent[0]\n",
    "min_lat = geo_extent[1]\n",
    "max_lon = geo_extent[2]\n",
    "max_lat = geo_extent[3]"
   ]
  },
  {
   "cell_type": "code",
   "execution_count": null,
   "metadata": {},
   "outputs": [],
   "source": [
    "# Select time period\n",
    "\n",
    "start_date = widgets.DatePicker(description='Start date',\n",
    "                                value = min_max_dates[0].date(),\n",
    "                                disabled=False)\n",
    "end_date = widgets.DatePicker(description='End date',\n",
    "                              value = min_max_dates[1].date(),\n",
    "                              disabled=False)\n",
    "display(widgets.Label('Define time period (cannot be outside of the initial displaye time) and run the next cell:'),\n",
    "        widgets.HBox([start_date, end_date]))\n",
    "print('End date is not inclusive:\\nfirst day of a month will only select a dataset till the last day of previous month')"
   ]
  },
  {
   "cell_type": "code",
   "execution_count": null,
   "metadata": {},
   "outputs": [],
   "source": [
    "# check defined time period\n",
    "\n",
    "assert start_date.value >= min_max_dates[0].date(), \\\n",
    "       'Start date cannot be defined before {}'.format(min_max_dates[0].date())\n",
    "assert end_date.value <= min_max_dates[1].date(), \\\n",
    "       'End date cannot be defined after {}'.format(min_max_dates[1].date())\n",
    "assert start_date.value < end_date.value, \\\n",
    "       'End date is defined before start date'\n",
    "\n",
    "end_date.value += timedelta(days=1) # end_date is not inclusive !\n",
    "\n",
    "print('Time period is OK')"
   ]
  },
  {
   "cell_type": "code",
   "execution_count": null,
   "metadata": {},
   "outputs": [],
   "source": [
    "# Resume configuration parameters in a format ready to be copy/pasted to a new cell,\n",
    "# and in a txt file to be loaded with the '%load config_cell.txt' magic.\n",
    "\n",
    "str = '''# Configuration\n",
    "\n",
    "platform = '{}'\n",
    "product = '{}'\n",
    "measurements = {}\n",
    "\n",
    "min_lon = {}\n",
    "max_lon = {}\n",
    "min_lat = {}\n",
    "max_lat = {}\n",
    "\n",
    "start_date = datetime.strptime('{}', '%Y-%m-%d')\n",
    "end_date = datetime.strptime('{}', '%Y-%m-%d')'''.\\\n",
    "format(get_platform(dc, [product_sel.value])[0],\n",
    "       product_sel.value,\n",
    "       measur_sel,\n",
    "       min_lon, max_lon, min_lat, max_lat,\n",
    "       start_date.value.strftime('%Y-%m-%d'), end_date.value.strftime('%Y-%m-%d'))\n",
    "print(str)\n",
    "with open('config_cell.txt', 'w') as text_file:\n",
    "    print(str, file=text_file)"
   ]
  },
  {
   "cell_type": "code",
   "execution_count": null,
   "metadata": {},
   "outputs": [],
   "source": []
  }
 ],
 "metadata": {
  "kernelspec": {
   "display_name": "Python 3",
   "language": "python",
   "name": "python3"
  },
  "language_info": {
   "codemirror_mode": {
    "name": "ipython",
    "version": 3
   },
   "file_extension": ".py",
   "mimetype": "text/x-python",
   "name": "python",
   "nbconvert_exporter": "python",
   "pygments_lexer": "ipython3",
   "version": "3.6.7"
  }
 },
 "nbformat": 4,
 "nbformat_minor": 2
}
